{
 "cells": [
  {
   "cell_type": "markdown",
   "metadata": {},
   "source": [
    "# Pre-processing"
   ]
  },
  {
   "cell_type": "code",
   "execution_count": 80,
   "metadata": {},
   "outputs": [],
   "source": [
    "import os\n",
    "import requests\n",
    "from bs4 import BeautifulSoup\n",
    "import pandas as pd"
   ]
  },
  {
   "cell_type": "markdown",
   "metadata": {},
   "source": [
    "## 1. Select master courses relevant files"
   ]
  },
  {
   "cell_type": "code",
   "execution_count": 81,
   "metadata": {},
   "outputs": [],
   "source": [
    "# Directory with the .xls files taken from is-academia public access\n",
    "xls_dir = '../../data/'\n",
    "\n",
    "# Iterate over files and keep only the master courses files\n",
    "master_files = []\n",
    "for file in os.listdir(xls_dir):\n",
    "    path = xls_dir + file\n",
    "    if os.path.isdir(path):\n",
    "        continue\n",
    "    f = open(path, encoding='latin-1')      \n",
    "    content = f.read()\n",
    "    if 'Master' in content:\n",
    "        master_files += [file]"
   ]
  },
  {
   "cell_type": "code",
   "execution_count": 82,
   "metadata": {},
   "outputs": [
    {
     "data": {
      "text/plain": [
       "3484"
      ]
     },
     "execution_count": 82,
     "metadata": {},
     "output_type": "execute_result"
    }
   ],
   "source": [
    "len(master_files)"
   ]
  },
  {
   "cell_type": "markdown",
   "metadata": {},
   "source": [
    "## 2. Parse files"
   ]
  },
  {
   "cell_type": "code",
   "execution_count": 83,
   "metadata": {},
   "outputs": [],
   "source": [
    "file = master_files[143]"
   ]
  },
  {
   "cell_type": "code",
   "execution_count": 84,
   "metadata": {},
   "outputs": [],
   "source": [
    "def parse_class_info(class_info):\n",
    "    class_name = prof = ''\n",
    "    if len(class_info) > 0:\n",
    "        class_name = class_info[0].text\n",
    "    if len(class_info) > 1:\n",
    "        prof_info = class_info[1].text\n",
    "        if ':' in prof_info:\n",
    "            prof = prof_info.split(':')[1]\n",
    "        if prof.find('Assistant-e-(s)') != -1:\n",
    "            prof = prof[:prof.find('Assistant-e-(s)')]\n",
    "        prof = prof.split(',')\n",
    "        prof_lst = [x.strip() for x in prof]\n",
    "    return class_name, prof_lst\n",
    "    \n",
    "    "
   ]
  },
  {
   "cell_type": "code",
   "execution_count": 85,
   "metadata": {},
   "outputs": [],
   "source": [
    "def parse_group_info(group_info, def_section, def_year, def_sem):\n",
    "    def_section = def_year = def_sem = ''\n",
    "    info = group_info.split(',')\n",
    "    if len(info) == 0:\n",
    "        section = def_section\n",
    "        year = def_year\n",
    "        sem = def_sem\n",
    "    elif len(info) == 1:\n",
    "        section = info\n",
    "        year = def_year\n",
    "        sem = def_sem\n",
    "    elif len(info) == 2:\n",
    "        section, sem = info\n",
    "        year = def_year\n",
    "    else:  \n",
    "         section, year, sem = info[:3]\n",
    "    return section, year.strip(), sem"
   ]
  },
  {
   "cell_type": "code",
   "execution_count": 86,
   "metadata": {},
   "outputs": [
    {
     "name": "stdout",
     "output_type": "stream",
     "text": [
      "Found courses: 10000\n",
      "Found courses: 20000\n",
      "Found courses: 30000\n",
      "Found courses: 40000\n",
      "CPU times: user 3min 39s, sys: 1.94 s, total: 3min 41s\n",
      "Wall time: 3min 45s\n"
     ]
    }
   ],
   "source": [
    "%%time\n",
    "course_id = 1\n",
    "course_lst = []\n",
    "enrollment_lst = []\n",
    "ignored_files = []\n",
    "for file in master_files: \n",
    "    ignoreFile = False\n",
    "    f = open(xls_dir + file, encoding='latin-1')      \n",
    "    page_body = f.read()\n",
    "    soup = BeautifulSoup(page_body, 'html.parser')\n",
    "    \n",
    "    # Parse the course general information:\n",
    "    # - class_name\n",
    "    # - professors\n",
    "    \n",
    "    # empty values\n",
    "    class_name = None\n",
    "    profs = []\n",
    "    def_section = None\n",
    "    def_year = None\n",
    "    def_semester = None\n",
    "    for tr in soup.body.table.findAll('tr',recursive=False):\n",
    "        class_info = tr.findAll('th', recursive=False)\n",
    "        # If it contains info for a new class\n",
    "        if len(class_info) > 0:\n",
    "            if len(class_info) != 2:\n",
    "                print('Error: More than two lines descrbing the course (the lines should be course name and prof)')\n",
    "            class_name, profs = parse_class_info(class_info)\n",
    "            #print(file, class_name, profs)\n",
    "        else:\n",
    "            # Check if it contains a table of students or it start a new set of students\n",
    "            # New set of students\n",
    "            if len(tr.findAll('table')) == 0:\n",
    "                # Parse common info for this group of students\n",
    "                def_section, def_year, def_semester = parse_group_info(tr.text, def_section, def_year, def_semester)\n",
    "                # Save course info\n",
    "                if not ignoreFile:\n",
    "                    course_lst += [(course_id, class_name, profs, def_year)]\n",
    "                    course_id += 1\n",
    "                    if course_id % 10000 == 0:\n",
    "                        print(\"Found courses: \" + str(course_id))\n",
    "            # Table containing the students\n",
    "            else:\n",
    "                for table in tr.findAll('table', recurive=False):\n",
    "                    # Format for files that ocntains project info\n",
    "                    if len(table.findAll('table')) > 0:\n",
    "                        ignoreFile = True\n",
    "                        break\n",
    "                    \n",
    "                    # Format for list of students in class\n",
    "                    for student in table.findAll('tr'):\n",
    "                        tds = student.findAll('td')\n",
    "                        #if len(tds) != 3:\n",
    "                            #print(file, student)\n",
    "                            #ignoreFile = True\n",
    "                        name, student_info, extra = tds[:3]\n",
    "                        name = name.text\n",
    "                        if len(extra) > 0:\n",
    "                            print(\"Error: \" + extra)\n",
    "                        if ',' in student_info:\n",
    "                            section, year, semester = parse_group_info(student_info.text, def_section, def_year, def_semester)\n",
    "                        else:\n",
    "                            section, year, semester = def_section, def_year, def_semester\n",
    "                        \n",
    "                        # Save enrollment\n",
    "                        if not ignoreFile:\n",
    "                            enrollment_lst += [(name, section, year, semester, course_id)]\n",
    "                        \n",
    "    if ignoreFile:\n",
    "        ignored_files += [file]\n",
    "#enrollment_lst"
   ]
  },
  {
   "cell_type": "markdown",
   "metadata": {},
   "source": [
    "Strange formats:\n",
    "- 1563.xls Cours UNIL - Faculté de biologie et de médecine II (automne)  Profs divers *\n",
    "- 5739.xls Slope stability  Laloui Lyesse, Ferrari Alessio\n",
    "- 6508.xls Théorie et critique du projet MA1 (Lamunière) ['Lamunière Inès']\n",
    "\n"
   ]
  },
  {
   "cell_type": "code",
   "execution_count": 87,
   "metadata": {},
   "outputs": [
    {
     "data": {
      "text/plain": [
       "16751"
      ]
     },
     "execution_count": 87,
     "metadata": {},
     "output_type": "execute_result"
    }
   ],
   "source": [
    "# Example file prettify for the project files (aka 3rd field of the entry for a student in table is not empty)\n",
    "# E.g. file 5184\n",
    "f = open(xls_dir + '5184.xls', encoding='latin-1')      \n",
    "page_body = f.read()\n",
    "soup = BeautifulSoup(page_body, 'html.parser')\n",
    "pretty_f = open(xls_dir + 'pretty/' + '5184.xls', 'w', encoding='latin-1')\n",
    "pretty_f.write(soup.prettify())"
   ]
  },
  {
   "cell_type": "code",
   "execution_count": 88,
   "metadata": {},
   "outputs": [
    {
     "data": {
      "text/plain": [
       "289"
      ]
     },
     "execution_count": 88,
     "metadata": {},
     "output_type": "execute_result"
    }
   ],
   "source": [
    "len(ignored_files)"
   ]
  },
  {
   "cell_type": "markdown",
   "metadata": {},
   "source": [
    "## 3. Create tables"
   ]
  },
  {
   "cell_type": "code",
   "execution_count": 89,
   "metadata": {},
   "outputs": [
    {
     "data": {
      "text/plain": [
       "41060"
      ]
     },
     "execution_count": 89,
     "metadata": {},
     "output_type": "execute_result"
    }
   ],
   "source": [
    "len(course_lst)"
   ]
  },
  {
   "cell_type": "code",
   "execution_count": 90,
   "metadata": {},
   "outputs": [
    {
     "data": {
      "text/plain": [
       "831129"
      ]
     },
     "execution_count": 90,
     "metadata": {},
     "output_type": "execute_result"
    }
   ],
   "source": [
    "len(enrollment_lst)"
   ]
  },
  {
   "cell_type": "code",
   "execution_count": 91,
   "metadata": {},
   "outputs": [
    {
     "data": {
      "text/plain": [
       "[(1, 'Biological and physiological transport', ['Swartz Melody'], '2006-2007'),\n",
       " (2, 'Biological and physiological transport', ['Swartz Melody'], '2007-2008'),\n",
       " (3, 'Biological and physiological transport', ['Swartz Melody'], '2007-2008')]"
      ]
     },
     "execution_count": 91,
     "metadata": {},
     "output_type": "execute_result"
    }
   ],
   "source": [
    "course_lst[:3]"
   ]
  },
  {
   "cell_type": "code",
   "execution_count": 92,
   "metadata": {},
   "outputs": [
    {
     "data": {
      "text/plain": [
       "[('Bays Emmanuelle', 'Bioingénierie', '2006-2007', ' Master semestre 2', 2),\n",
       " ('Berlier Guillaume', 'Bioingénierie', '2006-2007', ' Master semestre 2', 2),\n",
       " ('Cosson Steffen', 'Bioingénierie', '2006-2007', ' Master semestre 2', 2)]"
      ]
     },
     "execution_count": 92,
     "metadata": {},
     "output_type": "execute_result"
    }
   ],
   "source": [
    "enrollment_lst[:3]"
   ]
  },
  {
   "cell_type": "code",
   "execution_count": 93,
   "metadata": {},
   "outputs": [
    {
     "data": {
      "text/html": [
       "<div>\n",
       "<style scoped>\n",
       "    .dataframe tbody tr th:only-of-type {\n",
       "        vertical-align: middle;\n",
       "    }\n",
       "\n",
       "    .dataframe tbody tr th {\n",
       "        vertical-align: top;\n",
       "    }\n",
       "\n",
       "    .dataframe thead th {\n",
       "        text-align: right;\n",
       "    }\n",
       "</style>\n",
       "<table border=\"1\" class=\"dataframe\">\n",
       "  <thead>\n",
       "    <tr style=\"text-align: right;\">\n",
       "      <th></th>\n",
       "      <th>course_name</th>\n",
       "      <th>profs</th>\n",
       "      <th>year</th>\n",
       "    </tr>\n",
       "    <tr>\n",
       "      <th>course_id</th>\n",
       "      <th></th>\n",
       "      <th></th>\n",
       "      <th></th>\n",
       "    </tr>\n",
       "  </thead>\n",
       "  <tbody>\n",
       "    <tr>\n",
       "      <th>1</th>\n",
       "      <td>Biological and physiological transport</td>\n",
       "      <td>[Swartz Melody]</td>\n",
       "      <td>2006-2007</td>\n",
       "    </tr>\n",
       "    <tr>\n",
       "      <th>2</th>\n",
       "      <td>Biological and physiological transport</td>\n",
       "      <td>[Swartz Melody]</td>\n",
       "      <td>2007-2008</td>\n",
       "    </tr>\n",
       "  </tbody>\n",
       "</table>\n",
       "</div>"
      ],
      "text/plain": [
       "                                      course_name            profs       year\n",
       "course_id                                                                    \n",
       "1          Biological and physiological transport  [Swartz Melody]  2006-2007\n",
       "2          Biological and physiological transport  [Swartz Melody]  2007-2008"
      ]
     },
     "execution_count": 93,
     "metadata": {},
     "output_type": "execute_result"
    }
   ],
   "source": [
    "df_course = pd.DataFrame(course_lst, columns=['course_id', 'course_name', 'profs', 'year' ]).set_index('course_id')\n",
    "df_course.head(2)"
   ]
  },
  {
   "cell_type": "code",
   "execution_count": 94,
   "metadata": {},
   "outputs": [
    {
     "data": {
      "text/html": [
       "<div>\n",
       "<style scoped>\n",
       "    .dataframe tbody tr th:only-of-type {\n",
       "        vertical-align: middle;\n",
       "    }\n",
       "\n",
       "    .dataframe tbody tr th {\n",
       "        vertical-align: top;\n",
       "    }\n",
       "\n",
       "    .dataframe thead th {\n",
       "        text-align: right;\n",
       "    }\n",
       "</style>\n",
       "<table border=\"1\" class=\"dataframe\">\n",
       "  <thead>\n",
       "    <tr style=\"text-align: right;\">\n",
       "      <th></th>\n",
       "      <th>student_name</th>\n",
       "      <th>section</th>\n",
       "      <th>student_id</th>\n",
       "      <th>year</th>\n",
       "      <th>semester</th>\n",
       "      <th>course_id</th>\n",
       "    </tr>\n",
       "  </thead>\n",
       "  <tbody>\n",
       "    <tr>\n",
       "      <th>0</th>\n",
       "      <td>Bays Emmanuelle</td>\n",
       "      <td>Bioingénierie</td>\n",
       "      <td>0</td>\n",
       "      <td>2006-2007</td>\n",
       "      <td>Master semestre 2</td>\n",
       "      <td>2</td>\n",
       "    </tr>\n",
       "    <tr>\n",
       "      <th>1</th>\n",
       "      <td>Bays Emmanuelle</td>\n",
       "      <td>Bioingénierie</td>\n",
       "      <td>0</td>\n",
       "      <td>2006-2007</td>\n",
       "      <td>Master semestre 1</td>\n",
       "      <td>754</td>\n",
       "    </tr>\n",
       "  </tbody>\n",
       "</table>\n",
       "</div>"
      ],
      "text/plain": [
       "      student_name        section  student_id       year            semester  \\\n",
       "0  Bays Emmanuelle  Bioingénierie           0  2006-2007   Master semestre 2   \n",
       "1  Bays Emmanuelle  Bioingénierie           0  2006-2007   Master semestre 1   \n",
       "\n",
       "   course_id  \n",
       "0          2  \n",
       "1        754  "
      ]
     },
     "execution_count": 94,
     "metadata": {},
     "output_type": "execute_result"
    }
   ],
   "source": [
    "df_enrollment_large = pd.DataFrame(enrollment_lst, columns=['student_name', 'section', 'year', 'semester', 'course_id'])\n",
    "df_enrollment.head(2)"
   ]
  },
  {
   "cell_type": "code",
   "execution_count": 95,
   "metadata": {},
   "outputs": [
    {
     "data": {
      "text/html": [
       "<div>\n",
       "<style scoped>\n",
       "    .dataframe tbody tr th:only-of-type {\n",
       "        vertical-align: middle;\n",
       "    }\n",
       "\n",
       "    .dataframe tbody tr th {\n",
       "        vertical-align: top;\n",
       "    }\n",
       "\n",
       "    .dataframe thead th {\n",
       "        text-align: right;\n",
       "    }\n",
       "</style>\n",
       "<table border=\"1\" class=\"dataframe\">\n",
       "  <thead>\n",
       "    <tr style=\"text-align: right;\">\n",
       "      <th></th>\n",
       "      <th>student_name_1</th>\n",
       "      <th>section_1</th>\n",
       "      <th>year_1</th>\n",
       "      <th>semester_1</th>\n",
       "      <th>course_id_1</th>\n",
       "      <th>student_name_2</th>\n",
       "      <th>section_2</th>\n",
       "      <th>year_2</th>\n",
       "      <th>semester_2</th>\n",
       "      <th>course_id_2</th>\n",
       "    </tr>\n",
       "  </thead>\n",
       "  <tbody>\n",
       "  </tbody>\n",
       "</table>\n",
       "</div>"
      ],
      "text/plain": [
       "Empty DataFrame\n",
       "Columns: [student_name_1, section_1, year_1, semester_1, course_id_1, student_name_2, section_2, year_2, semester_2, course_id_2]\n",
       "Index: []"
      ]
     },
     "execution_count": 95,
     "metadata": {},
     "output_type": "execute_result"
    }
   ],
   "source": [
    "tmp = df_enrollment_large.join(df_enrollment_large, lsuffix='_1', rsuffix='_2')\n",
    "tmp[(tmp['student_name_1'] == tmp['student_name_2']) & (tmp['section_1'] != tmp['section_2'])]"
   ]
  },
  {
   "cell_type": "markdown",
   "metadata": {},
   "source": [
    "We checked that there are not people withthe same name but different section."
   ]
  },
  {
   "cell_type": "code",
   "execution_count": 98,
   "metadata": {},
   "outputs": [
    {
     "data": {
      "text/html": [
       "<div>\n",
       "<style scoped>\n",
       "    .dataframe tbody tr th:only-of-type {\n",
       "        vertical-align: middle;\n",
       "    }\n",
       "\n",
       "    .dataframe tbody tr th {\n",
       "        vertical-align: top;\n",
       "    }\n",
       "\n",
       "    .dataframe thead th {\n",
       "        text-align: right;\n",
       "    }\n",
       "</style>\n",
       "<table border=\"1\" class=\"dataframe\">\n",
       "  <thead>\n",
       "    <tr style=\"text-align: right;\">\n",
       "      <th></th>\n",
       "      <th>student_name</th>\n",
       "      <th>section</th>\n",
       "    </tr>\n",
       "  </thead>\n",
       "  <tbody>\n",
       "    <tr>\n",
       "      <th>0</th>\n",
       "      <td>Bays Emmanuelle</td>\n",
       "      <td>Bioingénierie</td>\n",
       "    </tr>\n",
       "    <tr>\n",
       "      <th>1</th>\n",
       "      <td>Berlier Guillaume</td>\n",
       "      <td>Bioingénierie</td>\n",
       "    </tr>\n",
       "  </tbody>\n",
       "</table>\n",
       "</div>"
      ],
      "text/plain": [
       "        student_name        section\n",
       "0    Bays Emmanuelle  Bioingénierie\n",
       "1  Berlier Guillaume  Bioingénierie"
      ]
     },
     "execution_count": 98,
     "metadata": {},
     "output_type": "execute_result"
    }
   ],
   "source": [
    "df_students = df_enrollment_large[['student_name', 'section']].drop_duplicates()\n",
    "df_students.head(2)"
   ]
  },
  {
   "cell_type": "code",
   "execution_count": 107,
   "metadata": {},
   "outputs": [
    {
     "data": {
      "text/html": [
       "<div>\n",
       "<style scoped>\n",
       "    .dataframe tbody tr th:only-of-type {\n",
       "        vertical-align: middle;\n",
       "    }\n",
       "\n",
       "    .dataframe tbody tr th {\n",
       "        vertical-align: top;\n",
       "    }\n",
       "\n",
       "    .dataframe thead th {\n",
       "        text-align: right;\n",
       "    }\n",
       "</style>\n",
       "<table border=\"1\" class=\"dataframe\">\n",
       "  <thead>\n",
       "    <tr style=\"text-align: right;\">\n",
       "      <th></th>\n",
       "      <th>student_id</th>\n",
       "      <th>year</th>\n",
       "      <th>semester</th>\n",
       "      <th>course_id</th>\n",
       "    </tr>\n",
       "  </thead>\n",
       "  <tbody>\n",
       "    <tr>\n",
       "      <th>0</th>\n",
       "      <td>0</td>\n",
       "      <td>2006-2007</td>\n",
       "      <td>Master semestre 2</td>\n",
       "      <td>2</td>\n",
       "    </tr>\n",
       "    <tr>\n",
       "      <th>1</th>\n",
       "      <td>0</td>\n",
       "      <td>2006-2007</td>\n",
       "      <td>Master semestre 1</td>\n",
       "      <td>754</td>\n",
       "    </tr>\n",
       "    <tr>\n",
       "      <th>2</th>\n",
       "      <td>0</td>\n",
       "      <td>2006-2007</td>\n",
       "      <td>Master semestre 1</td>\n",
       "      <td>1038</td>\n",
       "    </tr>\n",
       "    <tr>\n",
       "      <th>3</th>\n",
       "      <td>0</td>\n",
       "      <td>2006-2007</td>\n",
       "      <td>Master semestre 2</td>\n",
       "      <td>4693</td>\n",
       "    </tr>\n",
       "    <tr>\n",
       "      <th>4</th>\n",
       "      <td>0</td>\n",
       "      <td>2006-2007</td>\n",
       "      <td>Master semestre 1</td>\n",
       "      <td>8632</td>\n",
       "    </tr>\n",
       "    <tr>\n",
       "      <th>...</th>\n",
       "      <td>...</td>\n",
       "      <td>...</td>\n",
       "      <td>...</td>\n",
       "      <td>...</td>\n",
       "    </tr>\n",
       "    <tr>\n",
       "      <th>831124</th>\n",
       "      <td>831039</td>\n",
       "      <td>2015-2016</td>\n",
       "      <td>Master semestre 1</td>\n",
       "      <td>41051</td>\n",
       "    </tr>\n",
       "    <tr>\n",
       "      <th>831125</th>\n",
       "      <td>831044</td>\n",
       "      <td>2015-2016</td>\n",
       "      <td>Master semestre 1</td>\n",
       "      <td>41051</td>\n",
       "    </tr>\n",
       "    <tr>\n",
       "      <th>831126</th>\n",
       "      <td>831086</td>\n",
       "      <td>2014-2015</td>\n",
       "      <td>Master semestre 1</td>\n",
       "      <td>41055</td>\n",
       "    </tr>\n",
       "    <tr>\n",
       "      <th>831127</th>\n",
       "      <td>831097</td>\n",
       "      <td>2014-2015</td>\n",
       "      <td>Master semestre 1</td>\n",
       "      <td>41055</td>\n",
       "    </tr>\n",
       "    <tr>\n",
       "      <th>831128</th>\n",
       "      <td>831102</td>\n",
       "      <td>2011-2012</td>\n",
       "      <td>Master semestre 1</td>\n",
       "      <td>41057</td>\n",
       "    </tr>\n",
       "  </tbody>\n",
       "</table>\n",
       "<p>831129 rows × 4 columns</p>\n",
       "</div>"
      ],
      "text/plain": [
       "        student_id       year            semester  course_id\n",
       "0                0  2006-2007   Master semestre 2          2\n",
       "1                0  2006-2007   Master semestre 1        754\n",
       "2                0  2006-2007   Master semestre 1       1038\n",
       "3                0  2006-2007   Master semestre 2       4693\n",
       "4                0  2006-2007   Master semestre 1       8632\n",
       "...            ...        ...                 ...        ...\n",
       "831124      831039  2015-2016   Master semestre 1      41051\n",
       "831125      831044  2015-2016   Master semestre 1      41051\n",
       "831126      831086  2014-2015   Master semestre 1      41055\n",
       "831127      831097  2014-2015   Master semestre 1      41055\n",
       "831128      831102  2011-2012   Master semestre 1      41057\n",
       "\n",
       "[831129 rows x 4 columns]"
      ]
     },
     "execution_count": 107,
     "metadata": {},
     "output_type": "execute_result"
    }
   ],
   "source": [
    "df_tmp_students = df_students\n",
    "df_tmp_students['student_id'] = df_students.index\n",
    "df_enrollment_tmp = df_tmp_students.merge(df_enrollment_large, left_on = ['student_name', 'section'], right_on = ['student_name', 'section'])\n",
    "df_enrollment = df_enrollment_tmp.drop(['student_name', 'section'], axis=1)\n",
    "df_enrollment"
   ]
  },
  {
   "cell_type": "markdown",
   "metadata": {},
   "source": [
    "### <b> Split courses table in two tables</b>\n",
    "- Course table: course_id, name, year\n",
    "- Teaching table: course_id, prof\n",
    "N.B. There will be multiple tuple with the same course_id in df_teaching because one class can be taught by morethan one prof"
   ]
  },
  {
   "cell_type": "code",
   "execution_count": 134,
   "metadata": {},
   "outputs": [
    {
     "data": {
      "text/html": [
       "<div>\n",
       "<style scoped>\n",
       "    .dataframe tbody tr th:only-of-type {\n",
       "        vertical-align: middle;\n",
       "    }\n",
       "\n",
       "    .dataframe tbody tr th {\n",
       "        vertical-align: top;\n",
       "    }\n",
       "\n",
       "    .dataframe thead th {\n",
       "        text-align: right;\n",
       "    }\n",
       "</style>\n",
       "<table border=\"1\" class=\"dataframe\">\n",
       "  <thead>\n",
       "    <tr style=\"text-align: right;\">\n",
       "      <th></th>\n",
       "      <th>course_id</th>\n",
       "      <th>course_name</th>\n",
       "      <th>profs</th>\n",
       "      <th>year</th>\n",
       "    </tr>\n",
       "  </thead>\n",
       "  <tbody>\n",
       "    <tr>\n",
       "      <th>0</th>\n",
       "      <td>1</td>\n",
       "      <td>Biological and physiological transport</td>\n",
       "      <td>Swartz Melody</td>\n",
       "      <td>2006-2007</td>\n",
       "    </tr>\n",
       "    <tr>\n",
       "      <th>1</th>\n",
       "      <td>2</td>\n",
       "      <td>Biological and physiological transport</td>\n",
       "      <td>Swartz Melody</td>\n",
       "      <td>2007-2008</td>\n",
       "    </tr>\n",
       "  </tbody>\n",
       "</table>\n",
       "</div>"
      ],
      "text/plain": [
       "   course_id                             course_name          profs       year\n",
       "0          1  Biological and physiological transport  Swartz Melody  2006-2007\n",
       "1          2  Biological and physiological transport  Swartz Melody  2007-2008"
      ]
     },
     "execution_count": 134,
     "metadata": {},
     "output_type": "execute_result"
    }
   ],
   "source": [
    "df_courses_large = df_course.reset_index()\n",
    "df_courses_large = df_courses_large.explode('profs')\n",
    "df_courses_large.head(2)"
   ]
  },
  {
   "cell_type": "code",
   "execution_count": 135,
   "metadata": {},
   "outputs": [
    {
     "data": {
      "text/plain": [
       "(41060, 54603)"
      ]
     },
     "execution_count": 135,
     "metadata": {},
     "output_type": "execute_result"
    }
   ],
   "source": [
    "len(df_course),len(df_courses_large)"
   ]
  },
  {
   "cell_type": "code",
   "execution_count": 139,
   "metadata": {},
   "outputs": [
    {
     "data": {
      "text/html": [
       "<div>\n",
       "<style scoped>\n",
       "    .dataframe tbody tr th:only-of-type {\n",
       "        vertical-align: middle;\n",
       "    }\n",
       "\n",
       "    .dataframe tbody tr th {\n",
       "        vertical-align: top;\n",
       "    }\n",
       "\n",
       "    .dataframe thead th {\n",
       "        text-align: right;\n",
       "    }\n",
       "</style>\n",
       "<table border=\"1\" class=\"dataframe\">\n",
       "  <thead>\n",
       "    <tr style=\"text-align: right;\">\n",
       "      <th></th>\n",
       "      <th>course_name</th>\n",
       "      <th>year</th>\n",
       "    </tr>\n",
       "    <tr>\n",
       "      <th>course_id</th>\n",
       "      <th></th>\n",
       "      <th></th>\n",
       "    </tr>\n",
       "  </thead>\n",
       "  <tbody>\n",
       "    <tr>\n",
       "      <th>1</th>\n",
       "      <td>Biological and physiological transport</td>\n",
       "      <td>2006-2007</td>\n",
       "    </tr>\n",
       "    <tr>\n",
       "      <th>2</th>\n",
       "      <td>Biological and physiological transport</td>\n",
       "      <td>2007-2008</td>\n",
       "    </tr>\n",
       "  </tbody>\n",
       "</table>\n",
       "</div>"
      ],
      "text/plain": [
       "                                      course_name       year\n",
       "course_id                                                   \n",
       "1          Biological and physiological transport  2006-2007\n",
       "2          Biological and physiological transport  2007-2008"
      ]
     },
     "execution_count": 139,
     "metadata": {},
     "output_type": "execute_result"
    }
   ],
   "source": [
    "df_courses = df_courses_large[['course_id', 'course_name', 'year']].drop_duplicates().set_index('course_id')\n",
    "df_courses.head(2)"
   ]
  },
  {
   "cell_type": "code",
   "execution_count": 144,
   "metadata": {},
   "outputs": [
    {
     "data": {
      "text/html": [
       "<div>\n",
       "<style scoped>\n",
       "    .dataframe tbody tr th:only-of-type {\n",
       "        vertical-align: middle;\n",
       "    }\n",
       "\n",
       "    .dataframe tbody tr th {\n",
       "        vertical-align: top;\n",
       "    }\n",
       "\n",
       "    .dataframe thead th {\n",
       "        text-align: right;\n",
       "    }\n",
       "</style>\n",
       "<table border=\"1\" class=\"dataframe\">\n",
       "  <thead>\n",
       "    <tr style=\"text-align: right;\">\n",
       "      <th></th>\n",
       "      <th>course_id</th>\n",
       "      <th>prof</th>\n",
       "    </tr>\n",
       "  </thead>\n",
       "  <tbody>\n",
       "    <tr>\n",
       "      <th>0</th>\n",
       "      <td>1</td>\n",
       "      <td>Swartz Melody</td>\n",
       "    </tr>\n",
       "    <tr>\n",
       "      <th>1</th>\n",
       "      <td>2</td>\n",
       "      <td>Swartz Melody</td>\n",
       "    </tr>\n",
       "    <tr>\n",
       "      <th>2</th>\n",
       "      <td>3</td>\n",
       "      <td>Swartz Melody</td>\n",
       "    </tr>\n",
       "    <tr>\n",
       "      <th>3</th>\n",
       "      <td>4</td>\n",
       "      <td>Pautz Andreas</td>\n",
       "    </tr>\n",
       "    <tr>\n",
       "      <th>4</th>\n",
       "      <td>5</td>\n",
       "      <td>Pautz Andreas</td>\n",
       "    </tr>\n",
       "  </tbody>\n",
       "</table>\n",
       "</div>"
      ],
      "text/plain": [
       "   course_id           prof\n",
       "0          1  Swartz Melody\n",
       "1          2  Swartz Melody\n",
       "2          3  Swartz Melody\n",
       "3          4  Pautz Andreas\n",
       "4          5  Pautz Andreas"
      ]
     },
     "execution_count": 144,
     "metadata": {},
     "output_type": "execute_result"
    }
   ],
   "source": [
    "df_teaching = df_courses_large[['course_id', 'profs']]\n",
    "df_teaching = df_teaching.rename(columns={'profs':'prof'})\n",
    "df_teaching.head()"
   ]
  },
  {
   "cell_type": "markdown",
   "metadata": {},
   "source": [
    "## 4. Save table"
   ]
  },
  {
   "cell_type": "code",
   "execution_count": 146,
   "metadata": {},
   "outputs": [],
   "source": [
    "# Save student table\n",
    "csv_dir = 'csv/'\n",
    "df_students.to_csv(xls_dir + csv_dir + 'student.csv')"
   ]
  },
  {
   "cell_type": "code",
   "execution_count": 147,
   "metadata": {},
   "outputs": [],
   "source": [
    "# Save courses table\n",
    "df_courses.to_csv(xls_dir + csv_dir + 'courses.csv')"
   ]
  },
  {
   "cell_type": "code",
   "execution_count": 148,
   "metadata": {},
   "outputs": [],
   "source": [
    "# Save teaching table\n",
    "df_teaching.to_csv(xls_dir + csv_dir + 'teaching.csv')"
   ]
  },
  {
   "cell_type": "code",
   "execution_count": 149,
   "metadata": {},
   "outputs": [],
   "source": [
    "# Save enrollment table\n",
    "df_enrollment.to_csv(xls_dir + csv_dir + 'enrollment.csv')"
   ]
  },
  {
   "cell_type": "code",
   "execution_count": null,
   "metadata": {},
   "outputs": [],
   "source": []
  }
 ],
 "metadata": {
  "kernelspec": {
   "display_name": "Python 3",
   "language": "python",
   "name": "python3"
  },
  "language_info": {
   "codemirror_mode": {
    "name": "ipython",
    "version": 3
   },
   "file_extension": ".py",
   "mimetype": "text/x-python",
   "name": "python",
   "nbconvert_exporter": "python",
   "pygments_lexer": "ipython3",
   "version": "3.7.4"
  }
 },
 "nbformat": 4,
 "nbformat_minor": 2
}
