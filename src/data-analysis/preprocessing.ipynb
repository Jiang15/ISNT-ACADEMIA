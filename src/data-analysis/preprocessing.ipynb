{
 "cells": [
  {
   "cell_type": "markdown",
   "metadata": {},
   "source": [
    "# Pre-processing"
   ]
  },
  {
   "cell_type": "code",
   "execution_count": 23,
   "metadata": {},
   "outputs": [],
   "source": [
    "import os\n",
    "import requests\n",
    "from bs4 import BeautifulSoup"
   ]
  },
  {
   "cell_type": "markdown",
   "metadata": {},
   "source": [
    "## 1. Select master courses relevant files"
   ]
  },
  {
   "cell_type": "code",
   "execution_count": 109,
   "metadata": {},
   "outputs": [],
   "source": [
    "# Directory with the .xls files taken from is-academia public access\n",
    "xls_dir = '../../data/'\n",
    "\n",
    "# Iterate over files and keep only the master courses files\n",
    "master_files = []\n",
    "for file in os.listdir(xls_dir):\n",
    "    f = open(xls_dir + file, encoding='latin-1')      \n",
    "    content = f.read()\n",
    "    if 'Master' in content:\n",
    "        master_files += [file]"
   ]
  },
  {
   "cell_type": "code",
   "execution_count": 110,
   "metadata": {},
   "outputs": [
    {
     "data": {
      "text/plain": [
       "3484"
      ]
     },
     "execution_count": 110,
     "metadata": {},
     "output_type": "execute_result"
    }
   ],
   "source": [
    "len(master_files)"
   ]
  },
  {
   "cell_type": "markdown",
   "metadata": {},
   "source": [
    "## 2. Parse files"
   ]
  },
  {
   "cell_type": "code",
   "execution_count": 111,
   "metadata": {},
   "outputs": [],
   "source": [
    "file = master_files[143]"
   ]
  },
  {
   "cell_type": "code",
   "execution_count": 187,
   "metadata": {},
   "outputs": [],
   "source": [
    "def parse_class_info(class_info):\n",
    "    class_name = prof = ''\n",
    "    if len(class_info) > 0:\n",
    "        class_name = class_info[0].text\n",
    "    if len(class_info) > 1:\n",
    "        prof_info = class_info[1].text\n",
    "        if ':' in prof_info:\n",
    "            prof = prof_info.split(':')[1]\n",
    "        if prof.find('Assistant-e-(s)') != -1:\n",
    "            prof = prof[:prof.find('Assistant-e-(s)')]\n",
    "        prof = prof.split(',')\n",
    "        prof_lst = [x.strip() for x in prof]\n",
    "    return class_name, prof_lst\n",
    "    \n",
    "    "
   ]
  },
  {
   "cell_type": "code",
   "execution_count": 267,
   "metadata": {},
   "outputs": [],
   "source": [
    "def parse_group_info(group_info, def_section, def_year, def_sem):\n",
    "    def_section = def_year = def_sem = ''\n",
    "    info = group_info.split(',')\n",
    "    if len(info) == 0:\n",
    "        section = def_section\n",
    "        year = def_year\n",
    "        sem = def_sem\n",
    "    elif len(info) == 1:\n",
    "        section = info\n",
    "        year = def_year\n",
    "        sem = def_sem\n",
    "    elif len(info) == 2:\n",
    "        section, sem = info\n",
    "        year = def_year\n",
    "    else:  \n",
    "         section, year, sem = info[:3]\n",
    "    return section, year.strip(), sem"
   ]
  },
  {
   "cell_type": "code",
   "execution_count": 270,
   "metadata": {},
   "outputs": [
    {
     "name": "stdout",
     "output_type": "stream",
     "text": [
      "Found courses: 10000\n",
      "Found courses: 20000\n",
      "Found courses: 30000\n",
      "Found courses: 40000\n",
      "CPU times: user 3min 22s, sys: 1.94 s, total: 3min 24s\n",
      "Wall time: 3min 28s\n"
     ]
    }
   ],
   "source": [
    "%%time\n",
    "course_id = 1\n",
    "course_lst = []\n",
    "enrollment_lst = []\n",
    "ignored_files = []\n",
    "for file in master_files: \n",
    "    ignoreFile = False\n",
    "    f = open(xls_dir + file, encoding='latin-1')      \n",
    "    page_body = f.read()\n",
    "    soup = BeautifulSoup(page_body, 'html.parser')\n",
    "    \n",
    "    # Parse the course general information:\n",
    "    # - class_name\n",
    "    # - professors\n",
    "    \n",
    "    # empty values\n",
    "    class_name = None\n",
    "    profs = []\n",
    "    def_section = None\n",
    "    def_year = None\n",
    "    def_semester = None\n",
    "    for tr in soup.body.table.findAll('tr',recursive=False):\n",
    "        class_info = tr.findAll('th', recursive=False)\n",
    "        # If it contains info for a new class\n",
    "        if len(class_info) > 0:\n",
    "            if len(class_info) != 2:\n",
    "                print('Error: More than two lines descrbing the course (the lines should be course name and prof)')\n",
    "            class_name, profs = parse_class_info(class_info)\n",
    "            #print(file, class_name, profs)\n",
    "        else:\n",
    "            # Check if it contains a table of students or it start a new set of students\n",
    "            # New set of students\n",
    "            if len(tr.findAll('table')) == 0:\n",
    "                # Parse common info for this group of students\n",
    "                def_section, def_year, def_semester = parse_group_info(student_info.text, def_section, def_year, def_semester)\n",
    "                # Save course info\n",
    "                if not ignoreFile:\n",
    "                    course_lst += [(course_id, class_name, profs, def_year)]\n",
    "                    course_id += 1\n",
    "                    if course_id % 10000 == 0:\n",
    "                        print(\"Found courses: \" + str(course_id))\n",
    "            # Table containing the students\n",
    "            else:\n",
    "                for table in tr.findAll('table', recurive=False):\n",
    "                    # Format for files that ocntains project info\n",
    "                    if len(table.findAll('table')) > 0:\n",
    "                        ignoreFile = True\n",
    "                        break\n",
    "                    \n",
    "                    # Format for list of students in class\n",
    "                    for student in table.findAll('tr'):\n",
    "                        tds = student.findAll('td')\n",
    "                        #if len(tds) != 3:\n",
    "                            #print(file, student)\n",
    "                            #ignoreFile = True\n",
    "                        name, student_info, extra = tds[:3]\n",
    "                        name = name.text\n",
    "                        if len(extra) > 0:\n",
    "                            print(\"Error: \" + extra)\n",
    "                        if ',' in student_info:\n",
    "                            section, year, semester = parse_group_info(student_info.text, def_section, def_year, def_semester)\n",
    "                        else:\n",
    "                            section, year, semester = def_section, def_year, def_semester\n",
    "                        \n",
    "                        # Save enrollment\n",
    "                        if not ignoreFile:\n",
    "                            enrollment_lst += [(name, section, year, semester, course_id)]\n",
    "                        \n",
    "    if ignoreFile:\n",
    "        ignored_files += [file]\n",
    "        "
   ]
  },
  {
   "cell_type": "markdown",
   "metadata": {},
   "source": [
    "Strange formats:\n",
    "- 1563.xls Cours UNIL - Faculté de biologie et de médecine II (automne)  Profs divers *\n",
    "- 5739.xls Slope stability  Laloui Lyesse, Ferrari Alessio\n",
    "- 6508.xls Théorie et critique du projet MA1 (Lamunière) ['Lamunière Inès']\n",
    "\n"
   ]
  },
  {
   "cell_type": "code",
   "execution_count": 229,
   "metadata": {},
   "outputs": [
    {
     "data": {
      "text/plain": [
       "16751"
      ]
     },
     "execution_count": 229,
     "metadata": {},
     "output_type": "execute_result"
    }
   ],
   "source": [
    "# Example file prettify for the project files (aka 3rd field of the entry for a student in table is not empty)\n",
    "# E.g. file 5184\n",
    "f = open(xls_dir + '5184.xls', encoding='latin-1')      \n",
    "page_body = f.read()\n",
    "soup = BeautifulSoup(page_body, 'html.parser')\n",
    "pretty_f = open(xls_dir + 'pretty/' + '5184.xls', 'w', encoding='latin-1')\n",
    "pretty_f.write(soup.prettify())"
   ]
  },
  {
   "cell_type": "code",
   "execution_count": 272,
   "metadata": {},
   "outputs": [
    {
     "name": "stdout",
     "output_type": "stream",
     "text": [
      "289\n"
     ]
    }
   ],
   "source": [
    "print(len(ignored_files))"
   ]
  },
  {
   "cell_type": "markdown",
   "metadata": {},
   "source": [
    "## 3. Create tables"
   ]
  },
  {
   "cell_type": "code",
   "execution_count": 274,
   "metadata": {},
   "outputs": [
    {
     "data": {
      "text/plain": [
       "41060"
      ]
     },
     "execution_count": 274,
     "metadata": {},
     "output_type": "execute_result"
    }
   ],
   "source": [
    "len(course_lst)"
   ]
  },
  {
   "cell_type": "code",
   "execution_count": 275,
   "metadata": {},
   "outputs": [
    {
     "data": {
      "text/plain": [
       "831129"
      ]
     },
     "execution_count": 275,
     "metadata": {},
     "output_type": "execute_result"
    }
   ],
   "source": [
    "len(enrollment_lst)"
   ]
  },
  {
   "cell_type": "code",
   "execution_count": 276,
   "metadata": {},
   "outputs": [
    {
     "data": {
      "text/plain": [
       "[(1, 'Biological and physiological transport', ['Swartz Melody'], '2009-2010'),\n",
       " (2, 'Biological and physiological transport', ['Swartz Melody'], ''),\n",
       " (3, 'Biological and physiological transport', ['Swartz Melody'], ''),\n",
       " (4, 'Special topics in reactor physics', ['Pautz Andreas'], '2007-2008'),\n",
       " (5, 'Special topics in reactor physics', ['Pautz Andreas'], ''),\n",
       " (6,\n",
       "  'Special topics in reactor physics',\n",
       "  ['Mikityuk Konstantin', 'Pautz Andreas'],\n",
       "  ''),\n",
       " (7, 'Special topics in reactor physics', ['Mikityuk Konstantin'], ''),\n",
       " (8, 'Special topics in reactor physics', ['Mikityuk Konstantin'], ''),\n",
       " (9, 'Adaptation and learning', ['Sayed Ali H.'], ''),\n",
       " (10, 'Adaptation and learning', ['Sayed Ali H.'], '')]"
      ]
     },
     "execution_count": 276,
     "metadata": {},
     "output_type": "execute_result"
    }
   ],
   "source": [
    "course_lst[:10]"
   ]
  },
  {
   "cell_type": "markdown",
   "metadata": {},
   "source": [
    "### What is wrong?\n",
    "- the course list is not made of completed entry I should better define when to assign a course id"
   ]
  },
  {
   "cell_type": "markdown",
   "metadata": {},
   "source": [
    "## 4. Save table"
   ]
  },
  {
   "cell_type": "markdown",
   "metadata": {},
   "source": []
  }
 ],
 "metadata": {
  "kernelspec": {
   "display_name": "Python 3",
   "language": "python",
   "name": "python3"
  },
  "language_info": {
   "codemirror_mode": {
    "name": "ipython",
    "version": 3
   },
   "file_extension": ".py",
   "mimetype": "text/x-python",
   "name": "python",
   "nbconvert_exporter": "python",
   "pygments_lexer": "ipython3",
   "version": "3.7.4"
  }
 },
 "nbformat": 4,
 "nbformat_minor": 2
}
