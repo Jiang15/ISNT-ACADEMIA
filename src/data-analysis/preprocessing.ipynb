{
 "cells": [
  {
   "cell_type": "markdown",
   "metadata": {},
   "source": [
    "# Pre-processing"
   ]
  },
  {
   "cell_type": "code",
   "execution_count": 238,
   "metadata": {},
   "outputs": [],
   "source": [
    "# Import libraries\n",
    "import os\n",
    "import requests\n",
    "from bs4 import BeautifulSoup\n",
    "import pandas as pd"
   ]
  },
  {
   "cell_type": "markdown",
   "metadata": {},
   "source": [
    "This notebook contains a first parsing of the dataset we downloaded fom is-academia. <br>\n",
    "Those files, contain information about courses and projects in which students were enrolled from 2012 to 2020. <br>\n",
    "We decided to consider only courses interesting for Master students because during Master there is, usually, a bigger freedom in which courses to enroll."
   ]
  },
  {
   "cell_type": "markdown",
   "metadata": {},
   "source": [
    "## 1. Select master courses relevant files"
   ]
  },
  {
   "cell_type": "markdown",
   "metadata": {},
   "source": [
    "We filter all the files and keep only those which contains the word 'Master'. This first filter is quite euristic but actually give good performance to filter for courses which were attended by at least one Master student. <br>\n",
    "We also decided to exclude the language courses."
   ]
  },
  {
   "cell_type": "code",
   "execution_count": 239,
   "metadata": {},
   "outputs": [],
   "source": [
    "# Directory with the .xls files taken from is-academia public access\n",
    "data_dir = '../../data/'\n",
    "xls_dir = data_dir + 'xls/'\n",
    "\n",
    "\n",
    "# Iterate over files and keep only the master courses files\n",
    "master_files = []\n",
    "for file in os.listdir(xls_dir):\n",
    "    path = xls_dir + file\n",
    "    if os.path.isdir(path):\n",
    "        continue\n",
    "    f = open(path, encoding='latin-1')      \n",
    "    content = f.read()\n",
    "    if 'Master' in content and 'Cdl' not in content:\n",
    "        master_files += [file]"
   ]
  },
  {
   "cell_type": "code",
   "execution_count": 240,
   "metadata": {},
   "outputs": [
    {
     "data": {
      "text/plain": [
       "3473"
      ]
     },
     "execution_count": 240,
     "metadata": {},
     "output_type": "execute_result"
    }
   ],
   "source": [
    "len(master_files) # 3473"
   ]
  },
  {
   "cell_type": "markdown",
   "metadata": {},
   "source": [
    "## 2. Parse files"
   ]
  },
  {
   "cell_type": "code",
   "execution_count": 241,
   "metadata": {},
   "outputs": [],
   "source": [
    "file = master_files[143]"
   ]
  },
  {
   "cell_type": "code",
   "execution_count": 242,
   "metadata": {},
   "outputs": [],
   "source": [
    "# Utility to parse the information about a specific course given at the start of the file\n",
    "# Usually this info contains the name of the course as well the name of the professor and eventually the TAs\n",
    "def parse_class_info(class_info):\n",
    "    class_name = prof = ''\n",
    "    if len(class_info) > 0:\n",
    "        class_name = class_info[0].text\n",
    "    if len(class_info) > 1:\n",
    "        prof_info = class_info[1].text\n",
    "        if ':' in prof_info:\n",
    "            prof = prof_info.split(':')[1]\n",
    "        # We decided to ignore the info regarding TAs and focus only on profs\n",
    "        if prof.find('Assistant-e-(s)') != -1: \n",
    "            prof = prof[:prof.find('Assistant-e-(s)')]\n",
    "        prof = prof.split(',')\n",
    "        prof_lst = [x.strip() for x in prof]\n",
    "    return class_name, prof_lst\n",
    "    \n",
    "    "
   ]
  },
  {
   "cell_type": "markdown",
   "metadata": {},
   "source": [
    "Examples of group info:\n",
    "- UNIL - Sciences forensiques, 2018-2019, Semestre printemps\n",
    "- Génie électrique (edoc), 2018-2019\n",
    "- Science et ingénierie computationnelles, 2018-2019, Master semestre 4\n"
   ]
  },
  {
   "cell_type": "code",
   "execution_count": 243,
   "metadata": {},
   "outputs": [],
   "source": [
    "# For each student/group of students enrolled in a certain class we have info regarding the section, the semester\n",
    "# and the academic year, this utility will parse those info which are usually in standard format\n",
    "def parse_group_info(group_info, def_section, def_year, def_sem):\n",
    "    def_section = def_year = def_sem = ''\n",
    "    group_info = group_info.replace('Ecole polytechnique fédérale de Lausanne,', '')\n",
    "    info = group_info.split(',')\n",
    "    if 'Robotique, contrôle et systèmes intelligents (edoc)' in group_info:\n",
    "        return 'Robotique, contrôle et systèmes intelligents', group_info[group_info.find('20'):], 'edoc'\n",
    "    if len(info) == 2:\n",
    "        section = info[0]\n",
    "        if 'edoc' in group_info:\n",
    "            section = section[:section.find('(edoc)')]\n",
    "        elif 'EDOC' in group_info :\n",
    "            section = section[:section.find('EDOC')]\n",
    "        year = info[1]\n",
    "        sem = 'edoc'        \n",
    "    elif len(info) == 3:\n",
    "        section, year, sem = info\n",
    "    elif len(info) > 3:\n",
    "        section = group_info[:group_info.find('20') - 2]\n",
    "        year = group_info[group_info.find('20'):]\n",
    "        year = year[:year.find(',')]\n",
    "        sem = group_info.split(',')[-1]\n",
    "    return section.strip(), year.strip(), sem.strip()"
   ]
  },
  {
   "cell_type": "markdown",
   "metadata": {},
   "source": [
    "Here we implement a parses for the files we selected. Furthermore, we decided to ignore some other files which do not contains information about courses(e.g semester project)."
   ]
  },
  {
   "cell_type": "code",
   "execution_count": 244,
   "metadata": {},
   "outputs": [
    {
     "name": "stdout",
     "output_type": "stream",
     "text": [
      "CPU times: user 3min 49s, sys: 3.19 s, total: 3min 52s\n",
      "Wall time: 4min 10s\n"
     ]
    }
   ],
   "source": [
    "%%time\n",
    "\n",
    "# File parser\n",
    "course_id = 1\n",
    "enrollment_lst = []\n",
    "ignored_files = []\n",
    "for file in master_files: \n",
    "    ignoreFile = False\n",
    "    f = open(xls_dir + file, encoding='latin-1')      \n",
    "    page_body = f.read()\n",
    "    soup = BeautifulSoup(page_body, 'html.parser')\n",
    "    \n",
    "    # empty values\n",
    "    class_name = None\n",
    "    profs = []\n",
    "    def_section = None\n",
    "    def_year = None\n",
    "    def_semester = None\n",
    "    \n",
    "    for tr in soup.body.table.findAll('tr',recursive=False):\n",
    "        class_info = tr.findAll('th', recursive=False)\n",
    "        # If it contains info for a new class\n",
    "        if len(class_info) > 0:\n",
    "            if len(class_info) != 2:\n",
    "                print('Error: More than two lines descrbing the course (the lines should be course name and prof)')\n",
    "            # Parse the course general information:\n",
    "            # - class_name\n",
    "            # - professors (as list)\n",
    "            class_name, profs = parse_class_info(class_info)\n",
    "        else:\n",
    "            # Student for each class are divided in sub-tables depending on section/semester\n",
    "            # We can have two possible values:\n",
    "            # - info for a new subset of students (section,year,semester)\n",
    "            # - list of students (as table)\n",
    "            \n",
    "            # Info for a new subset of students\n",
    "            if len(tr.findAll('table')) == 0:\n",
    "                # Parse common info for this group of students\n",
    "                def_section, def_year, def_semester = parse_group_info(tr.text, def_section, def_year, def_semester)\n",
    "                \n",
    "            # Table containing the students\n",
    "            else:\n",
    "                for table in tr.findAll('table', recurive=False):\n",
    "                    # Some files contains info about semester/master project\n",
    "                    # We decided to ignore those files for now and focus only on courses\n",
    "                    \n",
    "                    # Format for files that contains project info\n",
    "                    if len(table.findAll('table')) > 0:\n",
    "                        ignoreFile = True\n",
    "                        break\n",
    "                    \n",
    "                    # Format for list of students in class\n",
    "                    for student in table.findAll('tr'):\n",
    "                        tds = student.findAll('td')\n",
    "                        name, student_info, extra = tds[:3]\n",
    "                        name = name.text\n",
    "                        if len(extra) > 0:\n",
    "                            print(\"Error: \" + extra)\n",
    "                        if ',' in student_info:\n",
    "                            section, year, semester = parse_group_info(student_info.text, def_section, def_year, def_semester)\n",
    "                        else:\n",
    "                            section, year, semester = def_section, def_year, def_semester\n",
    "                        \n",
    "                        # Save informations about an enrollment\n",
    "                        if not ignoreFile:\n",
    "                            #print(section, year, semester)\n",
    "                            enrollment_lst += [(file, name, section, year, semester, class_name, profs)]                \n",
    "    if ignoreFile:\n",
    "        ignored_files += [file]\n",
    "#enrollment_lst"
   ]
  },
  {
   "cell_type": "markdown",
   "metadata": {},
   "source": [
    "Even after this cleaning we detected some strange/missing informations on our database. Manually checking some of them we can see the come from the data in is-academia and it is not actually a parsing problem.\n",
    "Some example of weird formats:\n",
    "- <b>1563.xls Cours UNIL - Faculté de biologie et de médecine II (automne)  Profs divers * </b> <br>\n",
    "  The semester is actually listed inside the name of the course (repeated infromation) and the prof is not specified (Profs divers *)   \n",
    "- <b> 6508.xls Théorie et critique du projet MA1 (Lamunière) ['Lamunière Inès'] </b> <br>\n",
    " The year of the course (MA1) and the professor (Lamunière) are repeated in the name of the course. This is due to the fact that the course 'Théorie et critique du projet' is a project course and student should enroll with a specific professor.\n",
    "\n"
   ]
  },
  {
   "cell_type": "code",
   "execution_count": 245,
   "metadata": {},
   "outputs": [
    {
     "data": {
      "text/plain": [
       "16751"
      ]
     },
     "execution_count": 245,
     "metadata": {},
     "output_type": "execute_result"
    }
   ],
   "source": [
    "# Example file prettify for the project files (aka 3rd field of the entry for a student in table is not empty)\n",
    "# E.g. file 5184\n",
    "f = open(xls_dir + '5184.xls', encoding='latin-1')      \n",
    "page_body = f.read()\n",
    "soup = BeautifulSoup(page_body, 'html.parser')\n",
    "pretty_f = open(data_dir + 'pretty/' + '5184.xls', 'w', encoding='latin-1')\n",
    "pretty_f.write(soup.prettify())"
   ]
  },
  {
   "cell_type": "code",
   "execution_count": 246,
   "metadata": {},
   "outputs": [
    {
     "data": {
      "text/plain": [
       "289"
      ]
     },
     "execution_count": 246,
     "metadata": {},
     "output_type": "execute_result"
    }
   ],
   "source": [
    "# Print number of ingored file from the parser\n",
    "len(ignored_files)"
   ]
  },
  {
   "cell_type": "markdown",
   "metadata": {},
   "source": [
    "## 3. Create tables"
   ]
  },
  {
   "cell_type": "code",
   "execution_count": 247,
   "metadata": {},
   "outputs": [
    {
     "data": {
      "text/plain": [
       "828498"
      ]
     },
     "execution_count": 247,
     "metadata": {},
     "output_type": "execute_result"
    }
   ],
   "source": [
    "len(enrollment_lst)"
   ]
  },
  {
   "cell_type": "code",
   "execution_count": 248,
   "metadata": {},
   "outputs": [
    {
     "data": {
      "text/plain": [
       "[('892.xls',\n",
       "  'Bays Emmanuelle',\n",
       "  'Bioingénierie',\n",
       "  '2006-2007',\n",
       "  'Master semestre 2',\n",
       "  'Biological and physiological transport',\n",
       "  ['Swartz Melody']),\n",
       " ('892.xls',\n",
       "  'Berlier Guillaume',\n",
       "  'Bioingénierie',\n",
       "  '2006-2007',\n",
       "  'Master semestre 2',\n",
       "  'Biological and physiological transport',\n",
       "  ['Swartz Melody']),\n",
       " ('892.xls',\n",
       "  'Cosson Steffen',\n",
       "  'Bioingénierie',\n",
       "  '2006-2007',\n",
       "  'Master semestre 2',\n",
       "  'Biological and physiological transport',\n",
       "  ['Swartz Melody'])]"
      ]
     },
     "execution_count": 248,
     "metadata": {},
     "output_type": "execute_result"
    }
   ],
   "source": [
    "enrollment_lst[:3]"
   ]
  },
  {
   "cell_type": "code",
   "execution_count": 249,
   "metadata": {},
   "outputs": [
    {
     "data": {
      "text/html": [
       "<div>\n",
       "<style scoped>\n",
       "    .dataframe tbody tr th:only-of-type {\n",
       "        vertical-align: middle;\n",
       "    }\n",
       "\n",
       "    .dataframe tbody tr th {\n",
       "        vertical-align: top;\n",
       "    }\n",
       "\n",
       "    .dataframe thead th {\n",
       "        text-align: right;\n",
       "    }\n",
       "</style>\n",
       "<table border=\"1\" class=\"dataframe\">\n",
       "  <thead>\n",
       "    <tr style=\"text-align: right;\">\n",
       "      <th></th>\n",
       "      <th>file</th>\n",
       "      <th>student_name</th>\n",
       "      <th>section</th>\n",
       "      <th>year</th>\n",
       "      <th>semester</th>\n",
       "      <th>course_name</th>\n",
       "      <th>profs</th>\n",
       "    </tr>\n",
       "  </thead>\n",
       "  <tbody>\n",
       "    <tr>\n",
       "      <th>0</th>\n",
       "      <td>892.xls</td>\n",
       "      <td>Bays Emmanuelle</td>\n",
       "      <td>Bioingénierie</td>\n",
       "      <td>2006-2007</td>\n",
       "      <td>Master semestre 2</td>\n",
       "      <td>Biological and physiological transport</td>\n",
       "      <td>[Swartz Melody]</td>\n",
       "    </tr>\n",
       "    <tr>\n",
       "      <th>1</th>\n",
       "      <td>892.xls</td>\n",
       "      <td>Berlier Guillaume</td>\n",
       "      <td>Bioingénierie</td>\n",
       "      <td>2006-2007</td>\n",
       "      <td>Master semestre 2</td>\n",
       "      <td>Biological and physiological transport</td>\n",
       "      <td>[Swartz Melody]</td>\n",
       "    </tr>\n",
       "  </tbody>\n",
       "</table>\n",
       "</div>"
      ],
      "text/plain": [
       "      file       student_name        section       year           semester  \\\n",
       "0  892.xls    Bays Emmanuelle  Bioingénierie  2006-2007  Master semestre 2   \n",
       "1  892.xls  Berlier Guillaume  Bioingénierie  2006-2007  Master semestre 2   \n",
       "\n",
       "                              course_name            profs  \n",
       "0  Biological and physiological transport  [Swartz Melody]  \n",
       "1  Biological and physiological transport  [Swartz Melody]  "
      ]
     },
     "execution_count": 249,
     "metadata": {},
     "output_type": "execute_result"
    }
   ],
   "source": [
    "df_enrollment_large = pd.DataFrame(enrollment_lst, columns=['file', 'student_name', 'section', 'year', 'semester', 'course_name', 'profs'])\n",
    "df_enrollment_large.head(2)"
   ]
  },
  {
   "cell_type": "markdown",
   "metadata": {},
   "source": [
    "List of academic years with the corresponding files (one file for one course more or less):"
   ]
  },
  {
   "cell_type": "code",
   "execution_count": 250,
   "metadata": {},
   "outputs": [
    {
     "data": {
      "text/html": [
       "<div>\n",
       "<style scoped>\n",
       "    .dataframe tbody tr th:only-of-type {\n",
       "        vertical-align: middle;\n",
       "    }\n",
       "\n",
       "    .dataframe tbody tr th {\n",
       "        vertical-align: top;\n",
       "    }\n",
       "\n",
       "    .dataframe thead th {\n",
       "        text-align: right;\n",
       "    }\n",
       "</style>\n",
       "<table border=\"1\" class=\"dataframe\">\n",
       "  <thead>\n",
       "    <tr style=\"text-align: right;\">\n",
       "      <th></th>\n",
       "      <th>file</th>\n",
       "    </tr>\n",
       "    <tr>\n",
       "      <th>year</th>\n",
       "      <th></th>\n",
       "    </tr>\n",
       "  </thead>\n",
       "  <tbody>\n",
       "    <tr>\n",
       "      <th>2004-2005</th>\n",
       "      <td>(865, {4480.xls, 1806.xls, 6059.xls, 6237.xls,...</td>\n",
       "    </tr>\n",
       "    <tr>\n",
       "      <th>2005-2006</th>\n",
       "      <td>(891, {4480.xls, 1806.xls, 5804.xls, 6237.xls,...</td>\n",
       "    </tr>\n",
       "    <tr>\n",
       "      <th>2006-2007</th>\n",
       "      <td>(907, {4480.xls, 1806.xls, 6059.xls, 3753.xls,...</td>\n",
       "    </tr>\n",
       "    <tr>\n",
       "      <th>2007-2008</th>\n",
       "      <td>(917, {4480.xls, 1806.xls, 5795.xls, 6059.xls,...</td>\n",
       "    </tr>\n",
       "    <tr>\n",
       "      <th>2008-2009</th>\n",
       "      <td>(929, {1806.xls, 5795.xls, 6059.xls, 4248.xls,...</td>\n",
       "    </tr>\n",
       "    <tr>\n",
       "      <th>2009-2010</th>\n",
       "      <td>(990, {4480.xls, 1806.xls, 5795.xls, 3753.xls,...</td>\n",
       "    </tr>\n",
       "    <tr>\n",
       "      <th>2010-2011</th>\n",
       "      <td>(993, {1779.xls, 1806.xls, 3753.xls, 3006.xls,...</td>\n",
       "    </tr>\n",
       "    <tr>\n",
       "      <th>2011-2012</th>\n",
       "      <td>(1015, {4480.xls, 1779.xls, 1806.xls, 3753.xls...</td>\n",
       "    </tr>\n",
       "    <tr>\n",
       "      <th>2012-2013</th>\n",
       "      <td>(1043, {1806.xls, 2190.xls, 3753.xls, 3006.xls...</td>\n",
       "    </tr>\n",
       "    <tr>\n",
       "      <th>2013-2014</th>\n",
       "      <td>(1049, {4480.xls, 3543.xls, 1806.xls, 2190.xls...</td>\n",
       "    </tr>\n",
       "    <tr>\n",
       "      <th>2014-2015</th>\n",
       "      <td>(1070, {4480.xls, 3543.xls, 1806.xls, 2190.xls...</td>\n",
       "    </tr>\n",
       "    <tr>\n",
       "      <th>2015-2016</th>\n",
       "      <td>(1092, {3636.xls, 3543.xls, 1806.xls, 2190.xls...</td>\n",
       "    </tr>\n",
       "    <tr>\n",
       "      <th>2016-2017</th>\n",
       "      <td>(1082, {3636.xls, 3543.xls, 1806.xls, 2190.xls...</td>\n",
       "    </tr>\n",
       "    <tr>\n",
       "      <th>2017-2018</th>\n",
       "      <td>(1108, {4480.xls, 3636.xls, 3543.xls, 1806.xls...</td>\n",
       "    </tr>\n",
       "    <tr>\n",
       "      <th>2018-2019</th>\n",
       "      <td>(1095, {3636.xls, 3543.xls, 1806.xls, 6654.xls...</td>\n",
       "    </tr>\n",
       "    <tr>\n",
       "      <th>2019-2020</th>\n",
       "      <td>(1077, {4480.xls, 3636.xls, 3543.xls, 1806.xls...</td>\n",
       "    </tr>\n",
       "  </tbody>\n",
       "</table>\n",
       "</div>"
      ],
      "text/plain": [
       "                                                        file\n",
       "year                                                        \n",
       "2004-2005  (865, {4480.xls, 1806.xls, 6059.xls, 6237.xls,...\n",
       "2005-2006  (891, {4480.xls, 1806.xls, 5804.xls, 6237.xls,...\n",
       "2006-2007  (907, {4480.xls, 1806.xls, 6059.xls, 3753.xls,...\n",
       "2007-2008  (917, {4480.xls, 1806.xls, 5795.xls, 6059.xls,...\n",
       "2008-2009  (929, {1806.xls, 5795.xls, 6059.xls, 4248.xls,...\n",
       "2009-2010  (990, {4480.xls, 1806.xls, 5795.xls, 3753.xls,...\n",
       "2010-2011  (993, {1779.xls, 1806.xls, 3753.xls, 3006.xls,...\n",
       "2011-2012  (1015, {4480.xls, 1779.xls, 1806.xls, 3753.xls...\n",
       "2012-2013  (1043, {1806.xls, 2190.xls, 3753.xls, 3006.xls...\n",
       "2013-2014  (1049, {4480.xls, 3543.xls, 1806.xls, 2190.xls...\n",
       "2014-2015  (1070, {4480.xls, 3543.xls, 1806.xls, 2190.xls...\n",
       "2015-2016  (1092, {3636.xls, 3543.xls, 1806.xls, 2190.xls...\n",
       "2016-2017  (1082, {3636.xls, 3543.xls, 1806.xls, 2190.xls...\n",
       "2017-2018  (1108, {4480.xls, 3636.xls, 3543.xls, 1806.xls...\n",
       "2018-2019  (1095, {3636.xls, 3543.xls, 1806.xls, 6654.xls...\n",
       "2019-2020  (1077, {4480.xls, 3636.xls, 3543.xls, 1806.xls..."
      ]
     },
     "execution_count": 250,
     "metadata": {},
     "output_type": "execute_result"
    }
   ],
   "source": [
    "df_enrollment_large.groupby('year').agg({'file':lambda x: (len(set(x)), set(x))})\n",
    "#set(df_enrollment_large['year'])"
   ]
  },
  {
   "cell_type": "markdown",
   "metadata": {},
   "source": [
    "List of all semesters names:"
   ]
  },
  {
   "cell_type": "code",
   "execution_count": 251,
   "metadata": {},
   "outputs": [
    {
     "data": {
      "text/html": [
       "<div>\n",
       "<style scoped>\n",
       "    .dataframe tbody tr th:only-of-type {\n",
       "        vertical-align: middle;\n",
       "    }\n",
       "\n",
       "    .dataframe tbody tr th {\n",
       "        vertical-align: top;\n",
       "    }\n",
       "\n",
       "    .dataframe thead th {\n",
       "        text-align: right;\n",
       "    }\n",
       "</style>\n",
       "<table border=\"1\" class=\"dataframe\">\n",
       "  <thead>\n",
       "    <tr style=\"text-align: right;\">\n",
       "      <th></th>\n",
       "      <th>file</th>\n",
       "    </tr>\n",
       "    <tr>\n",
       "      <th>semester</th>\n",
       "      <th></th>\n",
       "    </tr>\n",
       "  </thead>\n",
       "  <tbody>\n",
       "    <tr>\n",
       "      <th>Bachelor semestre 1</th>\n",
       "      <td>(56, {2910.xls, 4227.xls, 2375.xls, 3872.xls, ...</td>\n",
       "    </tr>\n",
       "    <tr>\n",
       "      <th>Bachelor semestre 2</th>\n",
       "      <td>(66, {2910.xls, 4227.xls, 4923.xls, 485.xls, 3...</td>\n",
       "    </tr>\n",
       "    <tr>\n",
       "      <th>Bachelor semestre 3</th>\n",
       "      <td>(126, {4227.xls, 3096.xls, 1887.xls, 6327.xls,...</td>\n",
       "    </tr>\n",
       "    <tr>\n",
       "      <th>Bachelor semestre 4</th>\n",
       "      <td>(149, {4453.xls, 4227.xls, 4748.xls, 2410.xls,...</td>\n",
       "    </tr>\n",
       "    <tr>\n",
       "      <th>Bachelor semestre 5</th>\n",
       "      <td>(414, {4480.xls, 4248.xls, 3758.xls, 2225.xls,...</td>\n",
       "    </tr>\n",
       "    <tr>\n",
       "      <th>Bachelor semestre 5b</th>\n",
       "      <td>(5, {5973.xls, 4692.xls, 2864.xls, 6343.xls, 2...</td>\n",
       "    </tr>\n",
       "    <tr>\n",
       "      <th>Bachelor semestre 6</th>\n",
       "      <td>(420, {4480.xls, 1089.xls, 2225.xls, 3200.xls,...</td>\n",
       "    </tr>\n",
       "    <tr>\n",
       "      <th>Bachelor semestre 6b</th>\n",
       "      <td>(5, {2866.xls, 6345.xls, 4693.xls, 2078.xls, 5...</td>\n",
       "    </tr>\n",
       "    <tr>\n",
       "      <th>Master semestre 1</th>\n",
       "      <td>(1349, {4480.xls, 2190.xls, 845.xls, 6237.xls,...</td>\n",
       "    </tr>\n",
       "    <tr>\n",
       "      <th>Master semestre 2</th>\n",
       "      <td>(1223, {4480.xls, 3636.xls, 1779.xls, 5804.xls...</td>\n",
       "    </tr>\n",
       "    <tr>\n",
       "      <th>Master semestre 3</th>\n",
       "      <td>(171, {4751.xls, 263.xls, 5653.xls, 2600.xls, ...</td>\n",
       "    </tr>\n",
       "    <tr>\n",
       "      <th>Master semestre 4</th>\n",
       "      <td>(311, {6846.xls, 4147.xls, 5903.xls, 6741.xls,...</td>\n",
       "    </tr>\n",
       "    <tr>\n",
       "      <th>Mineur semestre 1</th>\n",
       "      <td>(15, {5443.xls, 1976.xls, 1378.xls, 4307.xls, ...</td>\n",
       "    </tr>\n",
       "    <tr>\n",
       "      <th>Mineur semestre 2</th>\n",
       "      <td>(15, {1954.xls, 2186.xls, 1434.xls, 4104.xls, ...</td>\n",
       "    </tr>\n",
       "    <tr>\n",
       "      <th>Semestre automne</th>\n",
       "      <td>(544, {2190.xls, 6506.xls, 6846.xls, 6517.xls,...</td>\n",
       "    </tr>\n",
       "    <tr>\n",
       "      <th>Semestre printemps</th>\n",
       "      <td>(510, {3636.xls, 5795.xls, 6846.xls, 6741.xls,...</td>\n",
       "    </tr>\n",
       "    <tr>\n",
       "      <th>edoc</th>\n",
       "      <td>(288, {3302.xls, 4362.xls, 1806.xls, 170.xls, ...</td>\n",
       "    </tr>\n",
       "  </tbody>\n",
       "</table>\n",
       "</div>"
      ],
      "text/plain": [
       "                                                                   file\n",
       "semester                                                               \n",
       "Bachelor semestre 1   (56, {2910.xls, 4227.xls, 2375.xls, 3872.xls, ...\n",
       "Bachelor semestre 2   (66, {2910.xls, 4227.xls, 4923.xls, 485.xls, 3...\n",
       "Bachelor semestre 3   (126, {4227.xls, 3096.xls, 1887.xls, 6327.xls,...\n",
       "Bachelor semestre 4   (149, {4453.xls, 4227.xls, 4748.xls, 2410.xls,...\n",
       "Bachelor semestre 5   (414, {4480.xls, 4248.xls, 3758.xls, 2225.xls,...\n",
       "Bachelor semestre 5b  (5, {5973.xls, 4692.xls, 2864.xls, 6343.xls, 2...\n",
       "Bachelor semestre 6   (420, {4480.xls, 1089.xls, 2225.xls, 3200.xls,...\n",
       "Bachelor semestre 6b  (5, {2866.xls, 6345.xls, 4693.xls, 2078.xls, 5...\n",
       "Master semestre 1     (1349, {4480.xls, 2190.xls, 845.xls, 6237.xls,...\n",
       "Master semestre 2     (1223, {4480.xls, 3636.xls, 1779.xls, 5804.xls...\n",
       "Master semestre 3     (171, {4751.xls, 263.xls, 5653.xls, 2600.xls, ...\n",
       "Master semestre 4     (311, {6846.xls, 4147.xls, 5903.xls, 6741.xls,...\n",
       "Mineur semestre 1     (15, {5443.xls, 1976.xls, 1378.xls, 4307.xls, ...\n",
       "Mineur semestre 2     (15, {1954.xls, 2186.xls, 1434.xls, 4104.xls, ...\n",
       "Semestre automne      (544, {2190.xls, 6506.xls, 6846.xls, 6517.xls,...\n",
       "Semestre printemps    (510, {3636.xls, 5795.xls, 6846.xls, 6741.xls,...\n",
       "edoc                  (288, {3302.xls, 4362.xls, 1806.xls, 170.xls, ..."
      ]
     },
     "execution_count": 251,
     "metadata": {},
     "output_type": "execute_result"
    }
   ],
   "source": [
    "df_enrollment_large.groupby('semester').agg({'file':lambda x: (len(set(x)), set(x))})"
   ]
  },
  {
   "cell_type": "markdown",
   "metadata": {},
   "source": [
    "Some of this sections does not correspond to student sections."
   ]
  },
  {
   "cell_type": "code",
   "execution_count": 252,
   "metadata": {},
   "outputs": [
    {
     "data": {
      "text/plain": [
       "(828498, 109302)"
      ]
     },
     "execution_count": 252,
     "metadata": {},
     "output_type": "execute_result"
    }
   ],
   "source": [
    "len(df_enrollment_large[['student_name', 'section']]),\\\n",
    "    len(df_enrollment_large[['student_name', 'section']].drop_duplicates())"
   ]
  },
  {
   "cell_type": "markdown",
   "metadata": {},
   "source": [
    "We will retrieve the section in an euristic way: we will takethe section in which the student has attended the largest number of courses."
   ]
  },
  {
   "cell_type": "code",
   "execution_count": 253,
   "metadata": {},
   "outputs": [],
   "source": [
    "# Taken from: https://www.geeksforgeeks.org/python-find-most-frequent-element-in-a-list/\n",
    "def most_frequent(lst): \n",
    "    return max(set(lst), key = lst.count)"
   ]
  },
  {
   "cell_type": "code",
   "execution_count": 254,
   "metadata": {
    "scrolled": true
   },
   "outputs": [],
   "source": [
    "df_students = df_enrollment_large[['student_name', 'section']].groupby('student_name')\\\n",
    "        .agg({'section': lambda x: list(x)}).section.apply(most_frequent).to_frame().reset_index()"
   ]
  },
  {
   "cell_type": "markdown",
   "metadata": {},
   "source": [
    "We did not consider the case in which different people have the same name, from our dataset it would be difficult to distinguish this case as we have no way to differentiate them. <br>\n",
    "One possible way would be checking if some student has attended an extremely large number of courses or if he attended courses in really different years (e.g. master in 2006 and bachelor course in 2020). Both this ways are quite euristic and we decided, for now, to leave this "
   ]
  },
  {
   "cell_type": "code",
   "execution_count": 255,
   "metadata": {},
   "outputs": [
    {
     "data": {
      "text/html": [
       "<div>\n",
       "<style scoped>\n",
       "    .dataframe tbody tr th:only-of-type {\n",
       "        vertical-align: middle;\n",
       "    }\n",
       "\n",
       "    .dataframe tbody tr th {\n",
       "        vertical-align: top;\n",
       "    }\n",
       "\n",
       "    .dataframe thead th {\n",
       "        text-align: right;\n",
       "    }\n",
       "</style>\n",
       "<table border=\"1\" class=\"dataframe\">\n",
       "  <thead>\n",
       "    <tr style=\"text-align: right;\">\n",
       "      <th></th>\n",
       "      <th>student_id</th>\n",
       "      <th>file</th>\n",
       "      <th>year</th>\n",
       "      <th>semester</th>\n",
       "      <th>course_name</th>\n",
       "      <th>profs</th>\n",
       "    </tr>\n",
       "  </thead>\n",
       "  <tbody>\n",
       "    <tr>\n",
       "      <th>0</th>\n",
       "      <td>0</td>\n",
       "      <td>6329.xls</td>\n",
       "      <td>2010-2011</td>\n",
       "      <td>Bachelor semestre 3</td>\n",
       "      <td>Thermodynamique et énergétique I</td>\n",
       "      <td>[Favrat Daniel]</td>\n",
       "    </tr>\n",
       "    <tr>\n",
       "      <th>1</th>\n",
       "      <td>0</td>\n",
       "      <td>2978.xls</td>\n",
       "      <td>2011-2012</td>\n",
       "      <td>Master semestre 2</td>\n",
       "      <td>Hydrodynamique acoustique</td>\n",
       "      <td>[Nicolet Christophe]</td>\n",
       "    </tr>\n",
       "  </tbody>\n",
       "</table>\n",
       "</div>"
      ],
      "text/plain": [
       "   student_id      file       year             semester  \\\n",
       "0           0  6329.xls  2010-2011  Bachelor semestre 3   \n",
       "1           0  2978.xls  2011-2012    Master semestre 2   \n",
       "\n",
       "                        course_name                 profs  \n",
       "0  Thermodynamique et énergétique I       [Favrat Daniel]  \n",
       "1         Hydrodynamique acoustique  [Nicolet Christophe]  "
      ]
     },
     "execution_count": 255,
     "metadata": {},
     "output_type": "execute_result"
    }
   ],
   "source": [
    "df_tmp_students = df_students\n",
    "df_tmp_students['student_id'] = df_students.index\n",
    "df_enrollment_tmp = df_tmp_students.merge(df_enrollment_large, left_on = ['student_name', 'section'], right_on = ['student_name', 'section'])\n",
    "df_enrollment_med = df_enrollment_tmp.drop(['student_name', 'section'], axis=1)\n",
    "df_enrollment_med.head(2)"
   ]
  },
  {
   "cell_type": "markdown",
   "metadata": {},
   "source": [
    "Create course table"
   ]
  },
  {
   "cell_type": "code",
   "execution_count": 256,
   "metadata": {},
   "outputs": [
    {
     "data": {
      "text/html": [
       "<div>\n",
       "<style scoped>\n",
       "    .dataframe tbody tr th:only-of-type {\n",
       "        vertical-align: middle;\n",
       "    }\n",
       "\n",
       "    .dataframe tbody tr th {\n",
       "        vertical-align: top;\n",
       "    }\n",
       "\n",
       "    .dataframe thead th {\n",
       "        text-align: right;\n",
       "    }\n",
       "</style>\n",
       "<table border=\"1\" class=\"dataframe\">\n",
       "  <thead>\n",
       "    <tr style=\"text-align: right;\">\n",
       "      <th></th>\n",
       "      <th>course_name</th>\n",
       "      <th>year</th>\n",
       "    </tr>\n",
       "  </thead>\n",
       "  <tbody>\n",
       "    <tr>\n",
       "      <th>12583</th>\n",
       "      <td>Data visualization</td>\n",
       "      <td>2018-2019</td>\n",
       "    </tr>\n",
       "    <tr>\n",
       "      <th>12584</th>\n",
       "      <td>Data visualization</td>\n",
       "      <td>2019-2020</td>\n",
       "    </tr>\n",
       "    <tr>\n",
       "      <th>12585</th>\n",
       "      <td>Data visualization</td>\n",
       "      <td>2017-2018</td>\n",
       "    </tr>\n",
       "  </tbody>\n",
       "</table>\n",
       "</div>"
      ],
      "text/plain": [
       "              course_name       year\n",
       "12583  Data visualization  2018-2019\n",
       "12584  Data visualization  2019-2020\n",
       "12585  Data visualization  2017-2018"
      ]
     },
     "execution_count": 256,
     "metadata": {},
     "output_type": "execute_result"
    }
   ],
   "source": [
    "df_course = df_enrollment_large[['course_name', 'year']]\n",
    "df_course = df_course.drop_duplicates().reset_index().drop('index',axis=1)\n",
    "df_course[df_course['course_name'] == 'Data visualization']"
   ]
  },
  {
   "cell_type": "code",
   "execution_count": 257,
   "metadata": {},
   "outputs": [
    {
     "data": {
      "text/html": [
       "<div>\n",
       "<style scoped>\n",
       "    .dataframe tbody tr th:only-of-type {\n",
       "        vertical-align: middle;\n",
       "    }\n",
       "\n",
       "    .dataframe tbody tr th {\n",
       "        vertical-align: top;\n",
       "    }\n",
       "\n",
       "    .dataframe thead th {\n",
       "        text-align: right;\n",
       "    }\n",
       "</style>\n",
       "<table border=\"1\" class=\"dataframe\">\n",
       "  <thead>\n",
       "    <tr style=\"text-align: right;\">\n",
       "      <th></th>\n",
       "      <th>course_id</th>\n",
       "      <th>course_name</th>\n",
       "      <th>year</th>\n",
       "    </tr>\n",
       "  </thead>\n",
       "  <tbody>\n",
       "    <tr>\n",
       "      <th>0</th>\n",
       "      <td>0</td>\n",
       "      <td>Biological and physiological transport</td>\n",
       "      <td>2006-2007</td>\n",
       "    </tr>\n",
       "    <tr>\n",
       "      <th>1</th>\n",
       "      <td>1</td>\n",
       "      <td>Biological and physiological transport</td>\n",
       "      <td>2007-2008</td>\n",
       "    </tr>\n",
       "    <tr>\n",
       "      <th>2</th>\n",
       "      <td>2</td>\n",
       "      <td>Special topics in reactor physics</td>\n",
       "      <td>2015-2016</td>\n",
       "    </tr>\n",
       "    <tr>\n",
       "      <th>3</th>\n",
       "      <td>3</td>\n",
       "      <td>Special topics in reactor physics</td>\n",
       "      <td>2014-2015</td>\n",
       "    </tr>\n",
       "    <tr>\n",
       "      <th>4</th>\n",
       "      <td>4</td>\n",
       "      <td>Special topics in reactor physics</td>\n",
       "      <td>2013-2014</td>\n",
       "    </tr>\n",
       "  </tbody>\n",
       "</table>\n",
       "</div>"
      ],
      "text/plain": [
       "   course_id                             course_name       year\n",
       "0          0  Biological and physiological transport  2006-2007\n",
       "1          1  Biological and physiological transport  2007-2008\n",
       "2          2       Special topics in reactor physics  2015-2016\n",
       "3          3       Special topics in reactor physics  2014-2015\n",
       "4          4       Special topics in reactor physics  2013-2014"
      ]
     },
     "execution_count": 257,
     "metadata": {},
     "output_type": "execute_result"
    }
   ],
   "source": [
    "df_course = df_course.reset_index().rename(columns={'index': 'course_id'})\n",
    "df_course.head()"
   ]
  },
  {
   "cell_type": "markdown",
   "metadata": {},
   "source": [
    "<b>Create Teaching table:</b> course_id, prof <br>\n",
    "N.B. There will be multiple tuple with the same course_id in df_teaching because one class can be taught by more than one prof"
   ]
  },
  {
   "cell_type": "code",
   "execution_count": 258,
   "metadata": {},
   "outputs": [
    {
     "data": {
      "text/html": [
       "<div>\n",
       "<style scoped>\n",
       "    .dataframe tbody tr th:only-of-type {\n",
       "        vertical-align: middle;\n",
       "    }\n",
       "\n",
       "    .dataframe tbody tr th {\n",
       "        vertical-align: top;\n",
       "    }\n",
       "\n",
       "    .dataframe thead th {\n",
       "        text-align: right;\n",
       "    }\n",
       "</style>\n",
       "<table border=\"1\" class=\"dataframe\">\n",
       "  <thead>\n",
       "    <tr style=\"text-align: right;\">\n",
       "      <th></th>\n",
       "      <th>course_id</th>\n",
       "      <th>course_name</th>\n",
       "      <th>year</th>\n",
       "      <th>student_id</th>\n",
       "      <th>file</th>\n",
       "      <th>semester</th>\n",
       "      <th>profs</th>\n",
       "    </tr>\n",
       "  </thead>\n",
       "  <tbody>\n",
       "    <tr>\n",
       "      <th>0</th>\n",
       "      <td>0</td>\n",
       "      <td>Biological and physiological transport</td>\n",
       "      <td>2006-2007</td>\n",
       "      <td>3692</td>\n",
       "      <td>892.xls</td>\n",
       "      <td>Master semestre 2</td>\n",
       "      <td>[Swartz Melody]</td>\n",
       "    </tr>\n",
       "    <tr>\n",
       "      <th>1</th>\n",
       "      <td>0</td>\n",
       "      <td>Biological and physiological transport</td>\n",
       "      <td>2006-2007</td>\n",
       "      <td>34913</td>\n",
       "      <td>892.xls</td>\n",
       "      <td>Master semestre 2</td>\n",
       "      <td>[Swartz Melody]</td>\n",
       "    </tr>\n",
       "    <tr>\n",
       "      <th>2</th>\n",
       "      <td>1</td>\n",
       "      <td>Biological and physiological transport</td>\n",
       "      <td>2007-2008</td>\n",
       "      <td>4980</td>\n",
       "      <td>892.xls</td>\n",
       "      <td>Master semestre 4</td>\n",
       "      <td>[Swartz Melody]</td>\n",
       "    </tr>\n",
       "    <tr>\n",
       "      <th>3</th>\n",
       "      <td>1</td>\n",
       "      <td>Biological and physiological transport</td>\n",
       "      <td>2007-2008</td>\n",
       "      <td>17942</td>\n",
       "      <td>892.xls</td>\n",
       "      <td>Master semestre 4</td>\n",
       "      <td>[Swartz Melody]</td>\n",
       "    </tr>\n",
       "    <tr>\n",
       "      <th>4</th>\n",
       "      <td>1</td>\n",
       "      <td>Biological and physiological transport</td>\n",
       "      <td>2007-2008</td>\n",
       "      <td>23904</td>\n",
       "      <td>892.xls</td>\n",
       "      <td>Master semestre 4</td>\n",
       "      <td>[Swartz Melody]</td>\n",
       "    </tr>\n",
       "  </tbody>\n",
       "</table>\n",
       "</div>"
      ],
      "text/plain": [
       "   course_id                             course_name       year  student_id  \\\n",
       "0          0  Biological and physiological transport  2006-2007        3692   \n",
       "1          0  Biological and physiological transport  2006-2007       34913   \n",
       "2          1  Biological and physiological transport  2007-2008        4980   \n",
       "3          1  Biological and physiological transport  2007-2008       17942   \n",
       "4          1  Biological and physiological transport  2007-2008       23904   \n",
       "\n",
       "      file           semester            profs  \n",
       "0  892.xls  Master semestre 2  [Swartz Melody]  \n",
       "1  892.xls  Master semestre 2  [Swartz Melody]  \n",
       "2  892.xls  Master semestre 4  [Swartz Melody]  \n",
       "3  892.xls  Master semestre 4  [Swartz Melody]  \n",
       "4  892.xls  Master semestre 4  [Swartz Melody]  "
      ]
     },
     "execution_count": 258,
     "metadata": {},
     "output_type": "execute_result"
    }
   ],
   "source": [
    "df_tmp = df_course.merge(df_enrollment_med, left_on = ['year', 'course_name'], right_on =  ['year', 'course_name'])\n",
    "df_tmp.head()"
   ]
  },
  {
   "cell_type": "code",
   "execution_count": 259,
   "metadata": {},
   "outputs": [
    {
     "data": {
      "text/html": [
       "<div>\n",
       "<style scoped>\n",
       "    .dataframe tbody tr th:only-of-type {\n",
       "        vertical-align: middle;\n",
       "    }\n",
       "\n",
       "    .dataframe tbody tr th {\n",
       "        vertical-align: top;\n",
       "    }\n",
       "\n",
       "    .dataframe thead th {\n",
       "        text-align: right;\n",
       "    }\n",
       "</style>\n",
       "<table border=\"1\" class=\"dataframe\">\n",
       "  <thead>\n",
       "    <tr style=\"text-align: right;\">\n",
       "      <th></th>\n",
       "      <th>student_id</th>\n",
       "      <th>course_id</th>\n",
       "      <th>semester</th>\n",
       "    </tr>\n",
       "  </thead>\n",
       "  <tbody>\n",
       "    <tr>\n",
       "      <th>0</th>\n",
       "      <td>3692</td>\n",
       "      <td>0</td>\n",
       "      <td>Master semestre 2</td>\n",
       "    </tr>\n",
       "    <tr>\n",
       "      <th>1</th>\n",
       "      <td>34913</td>\n",
       "      <td>0</td>\n",
       "      <td>Master semestre 2</td>\n",
       "    </tr>\n",
       "    <tr>\n",
       "      <th>2</th>\n",
       "      <td>4980</td>\n",
       "      <td>1</td>\n",
       "      <td>Master semestre 4</td>\n",
       "    </tr>\n",
       "    <tr>\n",
       "      <th>3</th>\n",
       "      <td>17942</td>\n",
       "      <td>1</td>\n",
       "      <td>Master semestre 4</td>\n",
       "    </tr>\n",
       "    <tr>\n",
       "      <th>4</th>\n",
       "      <td>23904</td>\n",
       "      <td>1</td>\n",
       "      <td>Master semestre 4</td>\n",
       "    </tr>\n",
       "  </tbody>\n",
       "</table>\n",
       "</div>"
      ],
      "text/plain": [
       "   student_id  course_id           semester\n",
       "0        3692          0  Master semestre 2\n",
       "1       34913          0  Master semestre 2\n",
       "2        4980          1  Master semestre 4\n",
       "3       17942          1  Master semestre 4\n",
       "4       23904          1  Master semestre 4"
      ]
     },
     "execution_count": 259,
     "metadata": {},
     "output_type": "execute_result"
    }
   ],
   "source": [
    "df_enrollment = df_tmp[['student_id', 'course_id', 'semester']].drop_duplicates()\n",
    "df_enrollment.head()"
   ]
  },
  {
   "cell_type": "code",
   "execution_count": 260,
   "metadata": {},
   "outputs": [
    {
     "data": {
      "text/html": [
       "<div>\n",
       "<style scoped>\n",
       "    .dataframe tbody tr th:only-of-type {\n",
       "        vertical-align: middle;\n",
       "    }\n",
       "\n",
       "    .dataframe tbody tr th {\n",
       "        vertical-align: top;\n",
       "    }\n",
       "\n",
       "    .dataframe thead th {\n",
       "        text-align: right;\n",
       "    }\n",
       "</style>\n",
       "<table border=\"1\" class=\"dataframe\">\n",
       "  <thead>\n",
       "    <tr style=\"text-align: right;\">\n",
       "      <th></th>\n",
       "      <th>course_id</th>\n",
       "      <th>prof</th>\n",
       "    </tr>\n",
       "  </thead>\n",
       "  <tbody>\n",
       "    <tr>\n",
       "      <th>0</th>\n",
       "      <td>0</td>\n",
       "      <td>Swartz Melody</td>\n",
       "    </tr>\n",
       "    <tr>\n",
       "      <th>2</th>\n",
       "      <td>1</td>\n",
       "      <td>Swartz Melody</td>\n",
       "    </tr>\n",
       "  </tbody>\n",
       "</table>\n",
       "</div>"
      ],
      "text/plain": [
       "   course_id           prof\n",
       "0          0  Swartz Melody\n",
       "2          1  Swartz Melody"
      ]
     },
     "execution_count": 260,
     "metadata": {},
     "output_type": "execute_result"
    }
   ],
   "source": [
    "df_teaching = df_tmp[['course_id', 'profs']]\n",
    "df_teaching = df_teaching.explode('profs').drop_duplicates().rename(columns={'profs':'prof'})\n",
    "df_teaching.head(2)"
   ]
  },
  {
   "cell_type": "markdown",
   "metadata": {},
   "source": [
    "## 4. Save table"
   ]
  },
  {
   "cell_type": "code",
   "execution_count": 261,
   "metadata": {},
   "outputs": [],
   "source": [
    "# Save student table\n",
    "csv_dir = 'csv/'\n",
    "df_students.to_csv(data_dir + csv_dir + 'student.csv')"
   ]
  },
  {
   "cell_type": "code",
   "execution_count": 262,
   "metadata": {},
   "outputs": [],
   "source": [
    "# Save courses table\n",
    "df_course.to_csv(data_dir + csv_dir + 'courses.csv')"
   ]
  },
  {
   "cell_type": "code",
   "execution_count": 263,
   "metadata": {},
   "outputs": [],
   "source": [
    "# Save teaching table\n",
    "df_teaching.to_csv(data_dir + csv_dir + 'teaching.csv')"
   ]
  },
  {
   "cell_type": "code",
   "execution_count": 264,
   "metadata": {},
   "outputs": [],
   "source": [
    "# Save enrollment table\n",
    "df_enrollment.to_csv(data_dir + csv_dir + 'enrollment.csv')"
   ]
  },
  {
   "cell_type": "code",
   "execution_count": 265,
   "metadata": {},
   "outputs": [],
   "source": [
    "# Save all in one table\n",
    "df_enrollment.to_csv(data_dir + csv_dir + 'enrollment_large.csv')"
   ]
  }
 ],
 "metadata": {
  "kernelspec": {
   "display_name": "Python 3",
   "language": "python",
   "name": "python3"
  },
  "language_info": {
   "codemirror_mode": {
    "name": "ipython",
    "version": 3
   },
   "file_extension": ".py",
   "mimetype": "text/x-python",
   "name": "python",
   "nbconvert_exporter": "python",
   "pygments_lexer": "ipython3",
   "version": "3.7.4"
  }
 },
 "nbformat": 4,
 "nbformat_minor": 2
}
