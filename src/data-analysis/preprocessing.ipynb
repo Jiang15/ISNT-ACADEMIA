{
 "cells": [
  {
   "cell_type": "markdown",
   "metadata": {},
   "source": [
    "# Pre-processing"
   ]
  },
  {
   "cell_type": "code",
   "execution_count": 1,
   "metadata": {},
   "outputs": [],
   "source": [
    "# Import libraries\n",
    "import os\n",
    "import requests\n",
    "from bs4 import BeautifulSoup\n",
    "import pandas as pd"
   ]
  },
  {
   "cell_type": "markdown",
   "metadata": {},
   "source": [
    "This notebook contains a first parsing of the dataset we downloaded fom is-academia. <br>\n",
    "Those files, contain information about courses and projects in which students were enrolled from 2012 to 2020. <br>\n",
    "We decided to consider only courses interesting for Master students because during Master there is, usually, a bigger freedom in which courses to enroll."
   ]
  },
  {
   "cell_type": "markdown",
   "metadata": {},
   "source": [
    "## 1. Select master courses relevant files"
   ]
  },
  {
   "cell_type": "markdown",
   "metadata": {},
   "source": [
    "We filter all the files and keep only those which contains the word 'Master'. This first filter is quite euristic but actually give good performance to filter for courses which were attended by at least one Master student. <br>\n",
    "We also decided to exclude the language courses."
   ]
  },
  {
   "cell_type": "code",
   "execution_count": 2,
   "metadata": {},
   "outputs": [],
   "source": [
    "# Directory with the .xls files taken from is-academia public access\n",
    "data_dir = '../../data/'\n",
    "xls_dir = data_dir + 'xls/'\n",
    "\n",
    "\n",
    "# Iterate over files and keep only the master courses files\n",
    "master_files = []\n",
    "for file in os.listdir(xls_dir):\n",
    "    path = xls_dir + file\n",
    "    if os.path.isdir(path):\n",
    "        continue\n",
    "    f = open(path, encoding='latin-1')      \n",
    "    content = f.read()\n",
    "    if 'Master' in content and 'Cdl' not in content:\n",
    "        master_files += [file]"
   ]
  },
  {
   "cell_type": "code",
   "execution_count": 3,
   "metadata": {},
   "outputs": [
    {
     "data": {
      "text/plain": [
       "3473"
      ]
     },
     "execution_count": 3,
     "metadata": {},
     "output_type": "execute_result"
    }
   ],
   "source": [
    "len(master_files) # 3473"
   ]
  },
  {
   "cell_type": "markdown",
   "metadata": {},
   "source": [
    "## 2. Parse files"
   ]
  },
  {
   "cell_type": "code",
   "execution_count": 4,
   "metadata": {},
   "outputs": [],
   "source": [
    "file = master_files[143]"
   ]
  },
  {
   "cell_type": "code",
   "execution_count": 5,
   "metadata": {},
   "outputs": [],
   "source": [
    "# Utility to parse the information about a specific course given at the start of the file\n",
    "# Usually this info contains the name of the course as well the name of the professor and eventually the TAs\n",
    "def parse_class_info(class_info):\n",
    "    class_name = prof = ''\n",
    "    if len(class_info) > 0:\n",
    "        class_name = class_info[0].text\n",
    "    if len(class_info) > 1:\n",
    "        prof_info = class_info[1].text\n",
    "        if ':' in prof_info:\n",
    "            prof = prof_info.split(':')[1]\n",
    "        # We decided to ignore the info regarding TAs and focus only on profs\n",
    "        if prof.find('Assistant-e-(s)') != -1: \n",
    "            prof = prof[:prof.find('Assistant-e-(s)')]\n",
    "        prof = prof.split(',')\n",
    "        prof_lst = [x.strip() for x in prof]\n",
    "    return class_name, prof_lst\n",
    "    \n",
    "    "
   ]
  },
  {
   "cell_type": "markdown",
   "metadata": {},
   "source": [
    "Examples of group info:\n",
    "- UNIL - Sciences forensiques, 2018-2019, Semestre printemps\n",
    "- Génie électrique (edoc), 2018-2019\n",
    "- Science et ingénierie computationnelles, 2018-2019, Master semestre 4\n"
   ]
  },
  {
   "cell_type": "code",
   "execution_count": 6,
   "metadata": {},
   "outputs": [],
   "source": [
    "# For each student/group of students enrolled in a certain class we have info regarding the section, the semester\n",
    "# and the academic year, this utility will parse those info which are usually in standard format\n",
    "def parse_group_info(group_info, def_section, def_year, def_sem):\n",
    "    def_section = def_year = def_sem = ''\n",
    "    group_info = group_info.replace('Ecole polytechnique fédérale de Lausanne,', '')\n",
    "    info = group_info.split(',')\n",
    "    if 'Robotique, contrôle et systèmes intelligents (edoc)' in group_info:\n",
    "        return 'Robotique, contrôle et systèmes intelligents', group_info[group_info.find('20'):], 'edoc'\n",
    "    if len(info) == 2:\n",
    "        section = info[0]\n",
    "        if 'edoc' in group_info:\n",
    "            section = section[:section.find('(edoc)')]\n",
    "        elif 'EDOC' in group_info :\n",
    "            section = section[:section.find('EDOC')]\n",
    "        year = info[1]\n",
    "        sem = 'edoc'        \n",
    "    elif len(info) == 3:\n",
    "        section, year, sem = info\n",
    "    elif len(info) > 3:\n",
    "        section = group_info[:group_info.find('20') - 2]\n",
    "        year = group_info[group_info.find('20'):]\n",
    "        year = year[:year.find(',')]\n",
    "        sem = group_info.split(',')[-1]\n",
    "    return section.strip(), year.strip(), sem.strip()"
   ]
  },
  {
   "cell_type": "markdown",
   "metadata": {},
   "source": [
    "Here we implement a parses for the files we selected. Furthermore, we decided to ignore some other files which do not contains information about courses(e.g semester project)."
   ]
  },
  {
   "cell_type": "code",
   "execution_count": 7,
   "metadata": {},
   "outputs": [
    {
     "name": "stdout",
     "output_type": "stream",
     "text": [
      "CPU times: user 3min 14s, sys: 1.72 s, total: 3min 15s\n",
      "Wall time: 3min 19s\n"
     ]
    }
   ],
   "source": [
    "%%time\n",
    "\n",
    "# File parser\n",
    "course_id = 1\n",
    "enrollment_lst = []\n",
    "ignored_files = []\n",
    "for file in master_files: \n",
    "    ignoreFile = False\n",
    "    f = open(xls_dir + file, encoding='latin-1')      \n",
    "    page_body = f.read()\n",
    "    soup = BeautifulSoup(page_body, 'html.parser')\n",
    "    \n",
    "    # empty values\n",
    "    class_name = None\n",
    "    profs = []\n",
    "    def_section = None\n",
    "    def_year = None\n",
    "    def_semester = None\n",
    "    \n",
    "    for tr in soup.body.table.findAll('tr',recursive=False):\n",
    "        class_info = tr.findAll('th', recursive=False)\n",
    "        # If it contains info for a new class\n",
    "        if len(class_info) > 0:\n",
    "            if len(class_info) != 2:\n",
    "                print('Error: More than two lines descrbing the course (the lines should be course name and prof)')\n",
    "            # Parse the course general information:\n",
    "            # - class_name\n",
    "            # - professors (as list)\n",
    "            class_name, profs = parse_class_info(class_info)\n",
    "        else:\n",
    "            # Student for each class are divided in sub-tables depending on section/semester\n",
    "            # We can have two possible values:\n",
    "            # - info for a new subset of students (section,year,semester)\n",
    "            # - list of students (as table)\n",
    "            \n",
    "            # Info for a new subset of students\n",
    "            if len(tr.findAll('table')) == 0:\n",
    "                # Parse common info for this group of students\n",
    "                def_section, def_year, def_semester = parse_group_info(tr.text, def_section, def_year, def_semester)\n",
    "                \n",
    "            # Table containing the students\n",
    "            else:\n",
    "                for table in tr.findAll('table', recurive=False):\n",
    "                    # Some files contains info about semester/master project\n",
    "                    # We decided to ignore those files for now and focus only on courses\n",
    "                    \n",
    "                    # Format for files that contains project info\n",
    "                    if len(table.findAll('table')) > 0:\n",
    "                        ignoreFile = True\n",
    "                        break\n",
    "                    \n",
    "                    # Format for list of students in class\n",
    "                    for student in table.findAll('tr'):\n",
    "                        tds = student.findAll('td')\n",
    "                        name, student_info, extra = tds[:3]\n",
    "                        name = name.text\n",
    "                        if len(extra) > 0:\n",
    "                            print(\"Error: \" + extra)\n",
    "                        if ',' in student_info:\n",
    "                            section, year, semester = parse_group_info(student_info.text, def_section, def_year, def_semester)\n",
    "                        else:\n",
    "                            section, year, semester = def_section, def_year, def_semester\n",
    "                        \n",
    "                        # Save informations about an enrollment\n",
    "                        if not ignoreFile:\n",
    "                            #print(section, year, semester)\n",
    "                            enrollment_lst += [(file, name, section, year, semester, class_name, profs)]                \n",
    "    if ignoreFile:\n",
    "        ignored_files += [file]\n",
    "#enrollment_lst"
   ]
  },
  {
   "cell_type": "markdown",
   "metadata": {},
   "source": [
    "Even after this cleaning we detected some strange/missing informations on our database. Manually checking some of them we can see the come from the data in is-academia and it is not actually a parsing problem.\n",
    "Some example of weird formats:\n",
    "- <b>1563.xls Cours UNIL - Faculté de biologie et de médecine II (automne)  Profs divers * </b> <br>\n",
    "  The semester is actually listed inside the name of the course (repeated infromation) and the prof is not specified (Profs divers *)   \n",
    "- <b> 6508.xls Théorie et critique du projet MA1 (Lamunière) ['Lamunière Inès'] </b> <br>\n",
    " The year of the course (MA1) and the professor (Lamunière) are repeated in the name of the course. This is due to the fact that the course 'Théorie et critique du projet' is a project course and student should enroll with a specific professor.\n",
    "\n"
   ]
  },
  {
   "cell_type": "code",
   "execution_count": 8,
   "metadata": {},
   "outputs": [
    {
     "data": {
      "text/plain": [
       "16751"
      ]
     },
     "execution_count": 8,
     "metadata": {},
     "output_type": "execute_result"
    }
   ],
   "source": [
    "# Example file prettify for the project files (aka 3rd field of the entry for a student in table is not empty)\n",
    "# E.g. file 5184\n",
    "f = open(xls_dir + '5184.xls', encoding='latin-1')      \n",
    "page_body = f.read()\n",
    "soup = BeautifulSoup(page_body, 'html.parser')\n",
    "pretty_f = open(data_dir + 'pretty/' + '5184.xls', 'w', encoding='latin-1')\n",
    "pretty_f.write(soup.prettify())"
   ]
  },
  {
   "cell_type": "code",
   "execution_count": 9,
   "metadata": {},
   "outputs": [
    {
     "data": {
      "text/plain": [
       "289"
      ]
     },
     "execution_count": 9,
     "metadata": {},
     "output_type": "execute_result"
    }
   ],
   "source": [
    "# Print number of ingored file from the parser\n",
    "len(ignored_files)"
   ]
  },
  {
   "cell_type": "markdown",
   "metadata": {},
   "source": [
    "## 3. Create tables"
   ]
  },
  {
   "cell_type": "code",
   "execution_count": 10,
   "metadata": {},
   "outputs": [
    {
     "data": {
      "text/plain": [
       "828498"
      ]
     },
     "execution_count": 10,
     "metadata": {},
     "output_type": "execute_result"
    }
   ],
   "source": [
    "len(enrollment_lst)"
   ]
  },
  {
   "cell_type": "code",
   "execution_count": 11,
   "metadata": {},
   "outputs": [
    {
     "data": {
      "text/plain": [
       "[('892.xls',\n",
       "  'Bays Emmanuelle',\n",
       "  'Bioingénierie',\n",
       "  '2006-2007',\n",
       "  'Master semestre 2',\n",
       "  'Biological and physiological transport',\n",
       "  ['Swartz Melody']),\n",
       " ('892.xls',\n",
       "  'Berlier Guillaume',\n",
       "  'Bioingénierie',\n",
       "  '2006-2007',\n",
       "  'Master semestre 2',\n",
       "  'Biological and physiological transport',\n",
       "  ['Swartz Melody']),\n",
       " ('892.xls',\n",
       "  'Cosson Steffen',\n",
       "  'Bioingénierie',\n",
       "  '2006-2007',\n",
       "  'Master semestre 2',\n",
       "  'Biological and physiological transport',\n",
       "  ['Swartz Melody'])]"
      ]
     },
     "execution_count": 11,
     "metadata": {},
     "output_type": "execute_result"
    }
   ],
   "source": [
    "enrollment_lst[:3]"
   ]
  },
  {
   "cell_type": "code",
   "execution_count": 12,
   "metadata": {},
   "outputs": [
    {
     "data": {
      "text/html": [
       "<div>\n",
       "<style scoped>\n",
       "    .dataframe tbody tr th:only-of-type {\n",
       "        vertical-align: middle;\n",
       "    }\n",
       "\n",
       "    .dataframe tbody tr th {\n",
       "        vertical-align: top;\n",
       "    }\n",
       "\n",
       "    .dataframe thead th {\n",
       "        text-align: right;\n",
       "    }\n",
       "</style>\n",
       "<table border=\"1\" class=\"dataframe\">\n",
       "  <thead>\n",
       "    <tr style=\"text-align: right;\">\n",
       "      <th></th>\n",
       "      <th>file</th>\n",
       "      <th>student_name</th>\n",
       "      <th>section</th>\n",
       "      <th>year</th>\n",
       "      <th>semester</th>\n",
       "      <th>course_name</th>\n",
       "      <th>profs</th>\n",
       "    </tr>\n",
       "  </thead>\n",
       "  <tbody>\n",
       "    <tr>\n",
       "      <th>0</th>\n",
       "      <td>892.xls</td>\n",
       "      <td>Bays Emmanuelle</td>\n",
       "      <td>Bioingénierie</td>\n",
       "      <td>2006-2007</td>\n",
       "      <td>Master semestre 2</td>\n",
       "      <td>Biological and physiological transport</td>\n",
       "      <td>[Swartz Melody]</td>\n",
       "    </tr>\n",
       "    <tr>\n",
       "      <th>1</th>\n",
       "      <td>892.xls</td>\n",
       "      <td>Berlier Guillaume</td>\n",
       "      <td>Bioingénierie</td>\n",
       "      <td>2006-2007</td>\n",
       "      <td>Master semestre 2</td>\n",
       "      <td>Biological and physiological transport</td>\n",
       "      <td>[Swartz Melody]</td>\n",
       "    </tr>\n",
       "  </tbody>\n",
       "</table>\n",
       "</div>"
      ],
      "text/plain": [
       "      file       student_name        section       year           semester  \\\n",
       "0  892.xls    Bays Emmanuelle  Bioingénierie  2006-2007  Master semestre 2   \n",
       "1  892.xls  Berlier Guillaume  Bioingénierie  2006-2007  Master semestre 2   \n",
       "\n",
       "                              course_name            profs  \n",
       "0  Biological and physiological transport  [Swartz Melody]  \n",
       "1  Biological and physiological transport  [Swartz Melody]  "
      ]
     },
     "execution_count": 12,
     "metadata": {},
     "output_type": "execute_result"
    }
   ],
   "source": [
    "df_enrollment_large = pd.DataFrame(enrollment_lst, columns=['file', 'student_name', 'section', 'year', 'semester', 'course_name', 'profs'])\n",
    "df_enrollment_large.head(2)"
   ]
  },
  {
   "cell_type": "markdown",
   "metadata": {},
   "source": [
    "List of academic years with the corresponding files (one file for one course more or less):"
   ]
  },
  {
   "cell_type": "code",
   "execution_count": 13,
   "metadata": {},
   "outputs": [
    {
     "data": {
      "text/html": [
       "<div>\n",
       "<style scoped>\n",
       "    .dataframe tbody tr th:only-of-type {\n",
       "        vertical-align: middle;\n",
       "    }\n",
       "\n",
       "    .dataframe tbody tr th {\n",
       "        vertical-align: top;\n",
       "    }\n",
       "\n",
       "    .dataframe thead th {\n",
       "        text-align: right;\n",
       "    }\n",
       "</style>\n",
       "<table border=\"1\" class=\"dataframe\">\n",
       "  <thead>\n",
       "    <tr style=\"text-align: right;\">\n",
       "      <th></th>\n",
       "      <th>file</th>\n",
       "    </tr>\n",
       "    <tr>\n",
       "      <th>year</th>\n",
       "      <th></th>\n",
       "    </tr>\n",
       "  </thead>\n",
       "  <tbody>\n",
       "    <tr>\n",
       "      <th>2004-2005</th>\n",
       "      <td>(865, {2259.xls, 4150.xls, 3984.xls, 2866.xls,...</td>\n",
       "    </tr>\n",
       "    <tr>\n",
       "      <th>2005-2006</th>\n",
       "      <td>(891, {6828.xls, 4067.xls, 4150.xls, 3984.xls,...</td>\n",
       "    </tr>\n",
       "    <tr>\n",
       "      <th>2006-2007</th>\n",
       "      <td>(907, {1620.xls, 6828.xls, 4150.xls, 3984.xls,...</td>\n",
       "    </tr>\n",
       "    <tr>\n",
       "      <th>2007-2008</th>\n",
       "      <td>(917, {6828.xls, 4150.xls, 3984.xls, 2866.xls,...</td>\n",
       "    </tr>\n",
       "    <tr>\n",
       "      <th>2008-2009</th>\n",
       "      <td>(929, {6828.xls, 4150.xls, 3984.xls, 2866.xls,...</td>\n",
       "    </tr>\n",
       "    <tr>\n",
       "      <th>2009-2010</th>\n",
       "      <td>(990, {722.xls, 763.xls, 3984.xls, 774.xls, 28...</td>\n",
       "    </tr>\n",
       "    <tr>\n",
       "      <th>2010-2011</th>\n",
       "      <td>(993, {4176.xls, 6828.xls, 4527.xls, 3984.xls,...</td>\n",
       "    </tr>\n",
       "    <tr>\n",
       "      <th>2011-2012</th>\n",
       "      <td>(1015, {4176.xls, 6828.xls, 4527.xls, 3984.xls...</td>\n",
       "    </tr>\n",
       "    <tr>\n",
       "      <th>2012-2013</th>\n",
       "      <td>(1043, {6828.xls, 4527.xls, 3984.xls, 774.xls,...</td>\n",
       "    </tr>\n",
       "    <tr>\n",
       "      <th>2013-2014</th>\n",
       "      <td>(1049, {3702.xls, 6828.xls, 4527.xls, 944.xls,...</td>\n",
       "    </tr>\n",
       "    <tr>\n",
       "      <th>2014-2015</th>\n",
       "      <td>(1070, {3702.xls, 6828.xls, 4527.xls, 944.xls,...</td>\n",
       "    </tr>\n",
       "    <tr>\n",
       "      <th>2015-2016</th>\n",
       "      <td>(1092, {3702.xls, 6828.xls, 1645.xls, 944.xls,...</td>\n",
       "    </tr>\n",
       "    <tr>\n",
       "      <th>2016-2017</th>\n",
       "      <td>(1082, {3702.xls, 6828.xls, 944.xls, 3984.xls,...</td>\n",
       "    </tr>\n",
       "    <tr>\n",
       "      <th>2017-2018</th>\n",
       "      <td>(1108, {3702.xls, 6828.xls, 1645.xls, 944.xls,...</td>\n",
       "    </tr>\n",
       "    <tr>\n",
       "      <th>2018-2019</th>\n",
       "      <td>(1095, {3702.xls, 6828.xls, 1645.xls, 1864.xls...</td>\n",
       "    </tr>\n",
       "    <tr>\n",
       "      <th>2019-2020</th>\n",
       "      <td>(1077, {3702.xls, 6828.xls, 944.xls, 1864.xls,...</td>\n",
       "    </tr>\n",
       "  </tbody>\n",
       "</table>\n",
       "</div>"
      ],
      "text/plain": [
       "                                                        file\n",
       "year                                                        \n",
       "2004-2005  (865, {2259.xls, 4150.xls, 3984.xls, 2866.xls,...\n",
       "2005-2006  (891, {6828.xls, 4067.xls, 4150.xls, 3984.xls,...\n",
       "2006-2007  (907, {1620.xls, 6828.xls, 4150.xls, 3984.xls,...\n",
       "2007-2008  (917, {6828.xls, 4150.xls, 3984.xls, 2866.xls,...\n",
       "2008-2009  (929, {6828.xls, 4150.xls, 3984.xls, 2866.xls,...\n",
       "2009-2010  (990, {722.xls, 763.xls, 3984.xls, 774.xls, 28...\n",
       "2010-2011  (993, {4176.xls, 6828.xls, 4527.xls, 3984.xls,...\n",
       "2011-2012  (1015, {4176.xls, 6828.xls, 4527.xls, 3984.xls...\n",
       "2012-2013  (1043, {6828.xls, 4527.xls, 3984.xls, 774.xls,...\n",
       "2013-2014  (1049, {3702.xls, 6828.xls, 4527.xls, 944.xls,...\n",
       "2014-2015  (1070, {3702.xls, 6828.xls, 4527.xls, 944.xls,...\n",
       "2015-2016  (1092, {3702.xls, 6828.xls, 1645.xls, 944.xls,...\n",
       "2016-2017  (1082, {3702.xls, 6828.xls, 944.xls, 3984.xls,...\n",
       "2017-2018  (1108, {3702.xls, 6828.xls, 1645.xls, 944.xls,...\n",
       "2018-2019  (1095, {3702.xls, 6828.xls, 1645.xls, 1864.xls...\n",
       "2019-2020  (1077, {3702.xls, 6828.xls, 944.xls, 1864.xls,..."
      ]
     },
     "execution_count": 13,
     "metadata": {},
     "output_type": "execute_result"
    }
   ],
   "source": [
    "df_enrollment_large.groupby('year').agg({'file':lambda x: (len(set(x)), set(x))})\n",
    "#set(df_enrollment_large['year'])"
   ]
  },
  {
   "cell_type": "markdown",
   "metadata": {},
   "source": [
    "List of all semesters names:"
   ]
  },
  {
   "cell_type": "code",
   "execution_count": 14,
   "metadata": {},
   "outputs": [
    {
     "data": {
      "text/html": [
       "<div>\n",
       "<style scoped>\n",
       "    .dataframe tbody tr th:only-of-type {\n",
       "        vertical-align: middle;\n",
       "    }\n",
       "\n",
       "    .dataframe tbody tr th {\n",
       "        vertical-align: top;\n",
       "    }\n",
       "\n",
       "    .dataframe thead th {\n",
       "        text-align: right;\n",
       "    }\n",
       "</style>\n",
       "<table border=\"1\" class=\"dataframe\">\n",
       "  <thead>\n",
       "    <tr style=\"text-align: right;\">\n",
       "      <th></th>\n",
       "      <th>file</th>\n",
       "    </tr>\n",
       "    <tr>\n",
       "      <th>semester</th>\n",
       "      <th></th>\n",
       "    </tr>\n",
       "  </thead>\n",
       "  <tbody>\n",
       "    <tr>\n",
       "      <th>Bachelor semestre 1</th>\n",
       "      <td>(56, {3872.xls, 1156.xls, 3086.xls, 1131.xls, ...</td>\n",
       "    </tr>\n",
       "    <tr>\n",
       "      <th>Bachelor semestre 2</th>\n",
       "      <td>(66, {2419.xls, 877.xls, 1156.xls, 2397.xls, 4...</td>\n",
       "    </tr>\n",
       "    <tr>\n",
       "      <th>Bachelor semestre 3</th>\n",
       "      <td>(126, {877.xls, 1156.xls, 5956.xls, 4936.xls, ...</td>\n",
       "    </tr>\n",
       "    <tr>\n",
       "      <th>Bachelor semestre 4</th>\n",
       "      <td>(149, {5371.xls, 3984.xls, 4797.xls, 1117.xls,...</td>\n",
       "    </tr>\n",
       "    <tr>\n",
       "      <th>Bachelor semestre 5</th>\n",
       "      <td>(414, {4086.xls, 2055.xls, 4530.xls, 1107.xls,...</td>\n",
       "    </tr>\n",
       "    <tr>\n",
       "      <th>Bachelor semestre 5b</th>\n",
       "      <td>(5, {2864.xls, 5973.xls, 4692.xls, 6343.xls, 2...</td>\n",
       "    </tr>\n",
       "    <tr>\n",
       "      <th>Bachelor semestre 6</th>\n",
       "      <td>(420, {4150.xls, 2866.xls, 6641.xls, 6345.xls,...</td>\n",
       "    </tr>\n",
       "    <tr>\n",
       "      <th>Bachelor semestre 6b</th>\n",
       "      <td>(5, {5974.xls, 2078.xls, 2866.xls, 4693.xls, 6...</td>\n",
       "    </tr>\n",
       "    <tr>\n",
       "      <th>Master semestre 1</th>\n",
       "      <td>(1349, {722.xls, 4530.xls, 5655.xls, 5262.xls,...</td>\n",
       "    </tr>\n",
       "    <tr>\n",
       "      <th>Master semestre 2</th>\n",
       "      <td>(1223, {3702.xls, 6912.xls, 4527.xls, 4150.xls...</td>\n",
       "    </tr>\n",
       "    <tr>\n",
       "      <th>Master semestre 3</th>\n",
       "      <td>(171, {2099.xls, 3291.xls, 5679.xls, 1876.xls,...</td>\n",
       "    </tr>\n",
       "    <tr>\n",
       "      <th>Master semestre 4</th>\n",
       "      <td>(311, {3702.xls, 4150.xls, 6641.xls, 3334.xls,...</td>\n",
       "    </tr>\n",
       "    <tr>\n",
       "      <th>Mineur semestre 1</th>\n",
       "      <td>(15, {2662.xls, 4307.xls, 5803.xls, 1378.xls, ...</td>\n",
       "    </tr>\n",
       "    <tr>\n",
       "      <th>Mineur semestre 2</th>\n",
       "      <td>(15, {4104.xls, 5804.xls, 1954.xls, 1500.xls, ...</td>\n",
       "    </tr>\n",
       "    <tr>\n",
       "      <th>Semestre automne</th>\n",
       "      <td>(544, {6828.xls, 944.xls, 774.xls, 461.xls, 67...</td>\n",
       "    </tr>\n",
       "    <tr>\n",
       "      <th>Semestre printemps</th>\n",
       "      <td>(510, {1620.xls, 1645.xls, 1737.xls, 2866.xls,...</td>\n",
       "    </tr>\n",
       "    <tr>\n",
       "      <th>edoc</th>\n",
       "      <td>(288, {260.xls, 1740.xls, 4067.xls, 4322.xls, ...</td>\n",
       "    </tr>\n",
       "  </tbody>\n",
       "</table>\n",
       "</div>"
      ],
      "text/plain": [
       "                                                                   file\n",
       "semester                                                               \n",
       "Bachelor semestre 1   (56, {3872.xls, 1156.xls, 3086.xls, 1131.xls, ...\n",
       "Bachelor semestre 2   (66, {2419.xls, 877.xls, 1156.xls, 2397.xls, 4...\n",
       "Bachelor semestre 3   (126, {877.xls, 1156.xls, 5956.xls, 4936.xls, ...\n",
       "Bachelor semestre 4   (149, {5371.xls, 3984.xls, 4797.xls, 1117.xls,...\n",
       "Bachelor semestre 5   (414, {4086.xls, 2055.xls, 4530.xls, 1107.xls,...\n",
       "Bachelor semestre 5b  (5, {2864.xls, 5973.xls, 4692.xls, 6343.xls, 2...\n",
       "Bachelor semestre 6   (420, {4150.xls, 2866.xls, 6641.xls, 6345.xls,...\n",
       "Bachelor semestre 6b  (5, {5974.xls, 2078.xls, 2866.xls, 4693.xls, 6...\n",
       "Master semestre 1     (1349, {722.xls, 4530.xls, 5655.xls, 5262.xls,...\n",
       "Master semestre 2     (1223, {3702.xls, 6912.xls, 4527.xls, 4150.xls...\n",
       "Master semestre 3     (171, {2099.xls, 3291.xls, 5679.xls, 1876.xls,...\n",
       "Master semestre 4     (311, {3702.xls, 4150.xls, 6641.xls, 3334.xls,...\n",
       "Mineur semestre 1     (15, {2662.xls, 4307.xls, 5803.xls, 1378.xls, ...\n",
       "Mineur semestre 2     (15, {4104.xls, 5804.xls, 1954.xls, 1500.xls, ...\n",
       "Semestre automne      (544, {6828.xls, 944.xls, 774.xls, 461.xls, 67...\n",
       "Semestre printemps    (510, {1620.xls, 1645.xls, 1737.xls, 2866.xls,...\n",
       "edoc                  (288, {260.xls, 1740.xls, 4067.xls, 4322.xls, ..."
      ]
     },
     "execution_count": 14,
     "metadata": {},
     "output_type": "execute_result"
    }
   ],
   "source": [
    "df_enrollment_large.groupby('semester').agg({'file':lambda x: (len(set(x)), set(x))})"
   ]
  },
  {
   "cell_type": "markdown",
   "metadata": {},
   "source": [
    "Some of this sections does not correspond to student sections."
   ]
  },
  {
   "cell_type": "code",
   "execution_count": 15,
   "metadata": {},
   "outputs": [
    {
     "data": {
      "text/plain": [
       "(828498, 109302)"
      ]
     },
     "execution_count": 15,
     "metadata": {},
     "output_type": "execute_result"
    }
   ],
   "source": [
    "len(df_enrollment_large[['student_name', 'section']]),\\\n",
    "    len(df_enrollment_large[['student_name', 'section']].drop_duplicates())"
   ]
  },
  {
   "cell_type": "markdown",
   "metadata": {},
   "source": [
    "We will retrieve the section in an euristic way: we will takethe section in which the student has attended the largest number of courses."
   ]
  },
  {
   "cell_type": "code",
   "execution_count": 17,
   "metadata": {},
   "outputs": [],
   "source": [
    "# Taken from: https://www.geeksforgeeks.org/python-find-most-frequent-element-in-a-list/\n",
    "def most_frequent(lst): \n",
    "    return max(set(lst), key = lst.count)"
   ]
  },
  {
   "cell_type": "code",
   "execution_count": 18,
   "metadata": {
    "scrolled": true
   },
   "outputs": [],
   "source": [
    "df_students = df_enrollment_large[['student_name', 'section']].groupby('student_name')\\\n",
    "        .agg({'section': lambda x: list(x)}).section.apply(most_frequent).to_frame().reset_index()"
   ]
  },
  {
   "cell_type": "markdown",
   "metadata": {},
   "source": [
    "We did not consider the case in which different people have the same name, from our dataset it would be difficult to distinguish this case as we have no way to differentiate them. <br>\n",
    "One possible way would be checking if some student has attended an extremely large number of courses or if he attended courses in really different years (e.g. master in 2006 and bachelor course in 2020). Both this ways are quite euristic and we decided, for now, to leave this "
   ]
  },
  {
   "cell_type": "code",
   "execution_count": 19,
   "metadata": {},
   "outputs": [
    {
     "data": {
      "text/html": [
       "<div>\n",
       "<style scoped>\n",
       "    .dataframe tbody tr th:only-of-type {\n",
       "        vertical-align: middle;\n",
       "    }\n",
       "\n",
       "    .dataframe tbody tr th {\n",
       "        vertical-align: top;\n",
       "    }\n",
       "\n",
       "    .dataframe thead th {\n",
       "        text-align: right;\n",
       "    }\n",
       "</style>\n",
       "<table border=\"1\" class=\"dataframe\">\n",
       "  <thead>\n",
       "    <tr style=\"text-align: right;\">\n",
       "      <th></th>\n",
       "      <th>student_name</th>\n",
       "      <th>major</th>\n",
       "      <th>student_id</th>\n",
       "      <th>file</th>\n",
       "      <th>year</th>\n",
       "      <th>semester</th>\n",
       "      <th>course_name</th>\n",
       "      <th>profs</th>\n",
       "    </tr>\n",
       "  </thead>\n",
       "  <tbody>\n",
       "    <tr>\n",
       "      <th>0</th>\n",
       "      <td>Aabid Fouad</td>\n",
       "      <td>Génie mécanique</td>\n",
       "      <td>0</td>\n",
       "      <td>1693.xls</td>\n",
       "      <td>2011-2012</td>\n",
       "      <td>Master semestre 1</td>\n",
       "      <td>Culture médiatique I</td>\n",
       "      <td>[Meyer Michaël, Haver Gianni]</td>\n",
       "    </tr>\n",
       "    <tr>\n",
       "      <th>1</th>\n",
       "      <td>Aabid Fouad</td>\n",
       "      <td>Génie mécanique</td>\n",
       "      <td>0</td>\n",
       "      <td>6329.xls</td>\n",
       "      <td>2010-2011</td>\n",
       "      <td>Bachelor semestre 3</td>\n",
       "      <td>Thermodynamique et énergétique I</td>\n",
       "      <td>[Favrat Daniel]</td>\n",
       "    </tr>\n",
       "  </tbody>\n",
       "</table>\n",
       "</div>"
      ],
      "text/plain": [
       "  student_name            major  student_id      file       year  \\\n",
       "0  Aabid Fouad  Génie mécanique           0  1693.xls  2011-2012   \n",
       "1  Aabid Fouad  Génie mécanique           0  6329.xls  2010-2011   \n",
       "\n",
       "              semester                       course_name  \\\n",
       "0    Master semestre 1              Culture médiatique I   \n",
       "1  Bachelor semestre 3  Thermodynamique et énergétique I   \n",
       "\n",
       "                           profs  \n",
       "0  [Meyer Michaël, Haver Gianni]  \n",
       "1                [Favrat Daniel]  "
      ]
     },
     "execution_count": 19,
     "metadata": {},
     "output_type": "execute_result"
    }
   ],
   "source": [
    "df_tmp_students = df_students\n",
    "df_tmp_students['student_id'] = df_students.index\n",
    "df_enrollment_tmp = df_tmp_students.merge(df_enrollment_large, left_on = ['student_name'], right_on = ['student_name'])\n",
    "df_enrollment_med = df_enrollment_tmp.drop('section_y', axis=1).rename(columns={'section_x' : 'major'})\n",
    "df_enrollment_med.head(2)"
   ]
  },
  {
   "cell_type": "markdown",
   "metadata": {},
   "source": [
    "Create course table"
   ]
  },
  {
   "cell_type": "code",
   "execution_count": 20,
   "metadata": {},
   "outputs": [
    {
     "data": {
      "text/html": [
       "<div>\n",
       "<style scoped>\n",
       "    .dataframe tbody tr th:only-of-type {\n",
       "        vertical-align: middle;\n",
       "    }\n",
       "\n",
       "    .dataframe tbody tr th {\n",
       "        vertical-align: top;\n",
       "    }\n",
       "\n",
       "    .dataframe thead th {\n",
       "        text-align: right;\n",
       "    }\n",
       "</style>\n",
       "<table border=\"1\" class=\"dataframe\">\n",
       "  <thead>\n",
       "    <tr style=\"text-align: right;\">\n",
       "      <th></th>\n",
       "      <th>course_name</th>\n",
       "      <th>year</th>\n",
       "    </tr>\n",
       "  </thead>\n",
       "  <tbody>\n",
       "    <tr>\n",
       "      <th>12583</th>\n",
       "      <td>Data visualization</td>\n",
       "      <td>2018-2019</td>\n",
       "    </tr>\n",
       "    <tr>\n",
       "      <th>12584</th>\n",
       "      <td>Data visualization</td>\n",
       "      <td>2019-2020</td>\n",
       "    </tr>\n",
       "    <tr>\n",
       "      <th>12585</th>\n",
       "      <td>Data visualization</td>\n",
       "      <td>2017-2018</td>\n",
       "    </tr>\n",
       "  </tbody>\n",
       "</table>\n",
       "</div>"
      ],
      "text/plain": [
       "              course_name       year\n",
       "12583  Data visualization  2018-2019\n",
       "12584  Data visualization  2019-2020\n",
       "12585  Data visualization  2017-2018"
      ]
     },
     "execution_count": 20,
     "metadata": {},
     "output_type": "execute_result"
    }
   ],
   "source": [
    "df_course = df_enrollment_large[['course_name', 'year']]\n",
    "df_course = df_course.drop_duplicates().reset_index().drop('index',axis=1)\n",
    "df_course[df_course['course_name'] == 'Data visualization']"
   ]
  },
  {
   "cell_type": "code",
   "execution_count": 21,
   "metadata": {},
   "outputs": [
    {
     "data": {
      "text/html": [
       "<div>\n",
       "<style scoped>\n",
       "    .dataframe tbody tr th:only-of-type {\n",
       "        vertical-align: middle;\n",
       "    }\n",
       "\n",
       "    .dataframe tbody tr th {\n",
       "        vertical-align: top;\n",
       "    }\n",
       "\n",
       "    .dataframe thead th {\n",
       "        text-align: right;\n",
       "    }\n",
       "</style>\n",
       "<table border=\"1\" class=\"dataframe\">\n",
       "  <thead>\n",
       "    <tr style=\"text-align: right;\">\n",
       "      <th></th>\n",
       "      <th>course_id</th>\n",
       "      <th>course_name</th>\n",
       "      <th>year</th>\n",
       "    </tr>\n",
       "  </thead>\n",
       "  <tbody>\n",
       "    <tr>\n",
       "      <th>0</th>\n",
       "      <td>0</td>\n",
       "      <td>Biological and physiological transport</td>\n",
       "      <td>2006-2007</td>\n",
       "    </tr>\n",
       "    <tr>\n",
       "      <th>1</th>\n",
       "      <td>1</td>\n",
       "      <td>Biological and physiological transport</td>\n",
       "      <td>2007-2008</td>\n",
       "    </tr>\n",
       "    <tr>\n",
       "      <th>2</th>\n",
       "      <td>2</td>\n",
       "      <td>Special topics in reactor physics</td>\n",
       "      <td>2015-2016</td>\n",
       "    </tr>\n",
       "    <tr>\n",
       "      <th>3</th>\n",
       "      <td>3</td>\n",
       "      <td>Special topics in reactor physics</td>\n",
       "      <td>2014-2015</td>\n",
       "    </tr>\n",
       "    <tr>\n",
       "      <th>4</th>\n",
       "      <td>4</td>\n",
       "      <td>Special topics in reactor physics</td>\n",
       "      <td>2013-2014</td>\n",
       "    </tr>\n",
       "  </tbody>\n",
       "</table>\n",
       "</div>"
      ],
      "text/plain": [
       "   course_id                             course_name       year\n",
       "0          0  Biological and physiological transport  2006-2007\n",
       "1          1  Biological and physiological transport  2007-2008\n",
       "2          2       Special topics in reactor physics  2015-2016\n",
       "3          3       Special topics in reactor physics  2014-2015\n",
       "4          4       Special topics in reactor physics  2013-2014"
      ]
     },
     "execution_count": 21,
     "metadata": {},
     "output_type": "execute_result"
    }
   ],
   "source": [
    "df_course = df_course.reset_index().rename(columns={'index': 'course_id'})\n",
    "df_course.head()"
   ]
  },
  {
   "cell_type": "markdown",
   "metadata": {},
   "source": [
    "<b>Create Teaching table:</b> course_id, prof <br>\n",
    "N.B. There will be multiple tuple with the same course_id in df_teaching because one class can be taught by more than one prof"
   ]
  },
  {
   "cell_type": "code",
   "execution_count": 22,
   "metadata": {
    "scrolled": true
   },
   "outputs": [
    {
     "data": {
      "text/html": [
       "<div>\n",
       "<style scoped>\n",
       "    .dataframe tbody tr th:only-of-type {\n",
       "        vertical-align: middle;\n",
       "    }\n",
       "\n",
       "    .dataframe tbody tr th {\n",
       "        vertical-align: top;\n",
       "    }\n",
       "\n",
       "    .dataframe thead th {\n",
       "        text-align: right;\n",
       "    }\n",
       "</style>\n",
       "<table border=\"1\" class=\"dataframe\">\n",
       "  <thead>\n",
       "    <tr style=\"text-align: right;\">\n",
       "      <th></th>\n",
       "      <th>course_id</th>\n",
       "      <th>course_name</th>\n",
       "      <th>year</th>\n",
       "      <th>student_name</th>\n",
       "      <th>major</th>\n",
       "      <th>student_id</th>\n",
       "      <th>file</th>\n",
       "      <th>semester</th>\n",
       "      <th>profs</th>\n",
       "    </tr>\n",
       "  </thead>\n",
       "  <tbody>\n",
       "    <tr>\n",
       "      <th>0</th>\n",
       "      <td>0</td>\n",
       "      <td>Biological and physiological transport</td>\n",
       "      <td>2006-2007</td>\n",
       "      <td>Bays Emmanuelle</td>\n",
       "      <td>Ingénierie des sciences du vivant</td>\n",
       "      <td>2959</td>\n",
       "      <td>892.xls</td>\n",
       "      <td>Master semestre 2</td>\n",
       "      <td>[Swartz Melody]</td>\n",
       "    </tr>\n",
       "    <tr>\n",
       "      <th>1</th>\n",
       "      <td>0</td>\n",
       "      <td>Biological and physiological transport</td>\n",
       "      <td>2006-2007</td>\n",
       "      <td>Berlier Guillaume</td>\n",
       "      <td>Bioingénierie</td>\n",
       "      <td>3692</td>\n",
       "      <td>892.xls</td>\n",
       "      <td>Master semestre 2</td>\n",
       "      <td>[Swartz Melody]</td>\n",
       "    </tr>\n",
       "    <tr>\n",
       "      <th>2</th>\n",
       "      <td>0</td>\n",
       "      <td>Biological and physiological transport</td>\n",
       "      <td>2006-2007</td>\n",
       "      <td>Cosson Steffen</td>\n",
       "      <td>Ingénierie des sciences du vivant</td>\n",
       "      <td>9206</td>\n",
       "      <td>892.xls</td>\n",
       "      <td>Master semestre 2</td>\n",
       "      <td>[Swartz Melody]</td>\n",
       "    </tr>\n",
       "    <tr>\n",
       "      <th>3</th>\n",
       "      <td>0</td>\n",
       "      <td>Biological and physiological transport</td>\n",
       "      <td>2006-2007</td>\n",
       "      <td>De Pablo Pena Albora</td>\n",
       "      <td>Ingénierie des sciences du vivant</td>\n",
       "      <td>10336</td>\n",
       "      <td>892.xls</td>\n",
       "      <td>Master semestre 2</td>\n",
       "      <td>[Swartz Melody]</td>\n",
       "    </tr>\n",
       "    <tr>\n",
       "      <th>4</th>\n",
       "      <td>0</td>\n",
       "      <td>Biological and physiological transport</td>\n",
       "      <td>2006-2007</td>\n",
       "      <td>Keller Marc</td>\n",
       "      <td>Ingénierie des sciences du vivant</td>\n",
       "      <td>21467</td>\n",
       "      <td>892.xls</td>\n",
       "      <td>Master semestre 2</td>\n",
       "      <td>[Swartz Melody]</td>\n",
       "    </tr>\n",
       "  </tbody>\n",
       "</table>\n",
       "</div>"
      ],
      "text/plain": [
       "   course_id                             course_name       year  \\\n",
       "0          0  Biological and physiological transport  2006-2007   \n",
       "1          0  Biological and physiological transport  2006-2007   \n",
       "2          0  Biological and physiological transport  2006-2007   \n",
       "3          0  Biological and physiological transport  2006-2007   \n",
       "4          0  Biological and physiological transport  2006-2007   \n",
       "\n",
       "           student_name                              major  student_id  \\\n",
       "0       Bays Emmanuelle  Ingénierie des sciences du vivant        2959   \n",
       "1     Berlier Guillaume                      Bioingénierie        3692   \n",
       "2        Cosson Steffen  Ingénierie des sciences du vivant        9206   \n",
       "3  De Pablo Pena Albora  Ingénierie des sciences du vivant       10336   \n",
       "4           Keller Marc  Ingénierie des sciences du vivant       21467   \n",
       "\n",
       "      file           semester            profs  \n",
       "0  892.xls  Master semestre 2  [Swartz Melody]  \n",
       "1  892.xls  Master semestre 2  [Swartz Melody]  \n",
       "2  892.xls  Master semestre 2  [Swartz Melody]  \n",
       "3  892.xls  Master semestre 2  [Swartz Melody]  \n",
       "4  892.xls  Master semestre 2  [Swartz Melody]  "
      ]
     },
     "execution_count": 22,
     "metadata": {},
     "output_type": "execute_result"
    }
   ],
   "source": [
    "df_tmp = df_course.merge(df_enrollment_med, left_on = ['year', 'course_name'], right_on =  ['year', 'course_name'])\n",
    "df_tmp.head()"
   ]
  },
  {
   "cell_type": "code",
   "execution_count": 23,
   "metadata": {
    "scrolled": true
   },
   "outputs": [
    {
     "data": {
      "text/html": [
       "<div>\n",
       "<style scoped>\n",
       "    .dataframe tbody tr th:only-of-type {\n",
       "        vertical-align: middle;\n",
       "    }\n",
       "\n",
       "    .dataframe tbody tr th {\n",
       "        vertical-align: top;\n",
       "    }\n",
       "\n",
       "    .dataframe thead th {\n",
       "        text-align: right;\n",
       "    }\n",
       "</style>\n",
       "<table border=\"1\" class=\"dataframe\">\n",
       "  <thead>\n",
       "    <tr style=\"text-align: right;\">\n",
       "      <th></th>\n",
       "      <th>student_id</th>\n",
       "      <th>course_id</th>\n",
       "      <th>semester</th>\n",
       "    </tr>\n",
       "  </thead>\n",
       "  <tbody>\n",
       "    <tr>\n",
       "      <th>0</th>\n",
       "      <td>2959</td>\n",
       "      <td>0</td>\n",
       "      <td>Master semestre 2</td>\n",
       "    </tr>\n",
       "    <tr>\n",
       "      <th>1</th>\n",
       "      <td>3692</td>\n",
       "      <td>0</td>\n",
       "      <td>Master semestre 2</td>\n",
       "    </tr>\n",
       "    <tr>\n",
       "      <th>2</th>\n",
       "      <td>9206</td>\n",
       "      <td>0</td>\n",
       "      <td>Master semestre 2</td>\n",
       "    </tr>\n",
       "    <tr>\n",
       "      <th>3</th>\n",
       "      <td>10336</td>\n",
       "      <td>0</td>\n",
       "      <td>Master semestre 2</td>\n",
       "    </tr>\n",
       "    <tr>\n",
       "      <th>4</th>\n",
       "      <td>21467</td>\n",
       "      <td>0</td>\n",
       "      <td>Master semestre 2</td>\n",
       "    </tr>\n",
       "  </tbody>\n",
       "</table>\n",
       "</div>"
      ],
      "text/plain": [
       "   student_id  course_id           semester\n",
       "0        2959          0  Master semestre 2\n",
       "1        3692          0  Master semestre 2\n",
       "2        9206          0  Master semestre 2\n",
       "3       10336          0  Master semestre 2\n",
       "4       21467          0  Master semestre 2"
      ]
     },
     "execution_count": 23,
     "metadata": {},
     "output_type": "execute_result"
    }
   ],
   "source": [
    "df_enrollment = df_tmp[['student_id', 'course_id', 'semester']].drop_duplicates()\n",
    "df_enrollment.head()"
   ]
  },
  {
   "cell_type": "code",
   "execution_count": 24,
   "metadata": {},
   "outputs": [
    {
     "data": {
      "text/html": [
       "<div>\n",
       "<style scoped>\n",
       "    .dataframe tbody tr th:only-of-type {\n",
       "        vertical-align: middle;\n",
       "    }\n",
       "\n",
       "    .dataframe tbody tr th {\n",
       "        vertical-align: top;\n",
       "    }\n",
       "\n",
       "    .dataframe thead th {\n",
       "        text-align: right;\n",
       "    }\n",
       "</style>\n",
       "<table border=\"1\" class=\"dataframe\">\n",
       "  <thead>\n",
       "    <tr style=\"text-align: right;\">\n",
       "      <th></th>\n",
       "      <th>course_id</th>\n",
       "      <th>prof</th>\n",
       "    </tr>\n",
       "  </thead>\n",
       "  <tbody>\n",
       "    <tr>\n",
       "      <th>0</th>\n",
       "      <td>0</td>\n",
       "      <td>Swartz Melody</td>\n",
       "    </tr>\n",
       "    <tr>\n",
       "      <th>13</th>\n",
       "      <td>1</td>\n",
       "      <td>Swartz Melody</td>\n",
       "    </tr>\n",
       "  </tbody>\n",
       "</table>\n",
       "</div>"
      ],
      "text/plain": [
       "    course_id           prof\n",
       "0           0  Swartz Melody\n",
       "13          1  Swartz Melody"
      ]
     },
     "execution_count": 24,
     "metadata": {},
     "output_type": "execute_result"
    }
   ],
   "source": [
    "df_teaching = df_tmp[['course_id', 'profs']]\n",
    "df_teaching = df_teaching.explode('profs').drop_duplicates().rename(columns={'profs':'prof'})\n",
    "df_teaching.head(2)"
   ]
  },
  {
   "cell_type": "markdown",
   "metadata": {},
   "source": [
    "## 4. Save table"
   ]
  },
  {
   "cell_type": "code",
   "execution_count": 25,
   "metadata": {},
   "outputs": [],
   "source": [
    "# Save student table\n",
    "csv_dir = 'csv/'\n",
    "df_students.to_csv(data_dir + csv_dir + 'student.csv')"
   ]
  },
  {
   "cell_type": "code",
   "execution_count": 26,
   "metadata": {},
   "outputs": [],
   "source": [
    "# Save courses table\n",
    "df_course.to_csv(data_dir + csv_dir + 'courses.csv')"
   ]
  },
  {
   "cell_type": "code",
   "execution_count": 27,
   "metadata": {},
   "outputs": [],
   "source": [
    "# Save teaching table\n",
    "df_teaching.to_csv(data_dir + csv_dir + 'teaching.csv')"
   ]
  },
  {
   "cell_type": "code",
   "execution_count": 28,
   "metadata": {},
   "outputs": [],
   "source": [
    "# Save enrollment table\n",
    "df_enrollment.to_csv(data_dir + csv_dir + 'enrollment.csv')"
   ]
  },
  {
   "cell_type": "code",
   "execution_count": null,
   "metadata": {},
   "outputs": [],
   "source": []
  },
  {
   "cell_type": "code",
   "execution_count": null,
   "metadata": {},
   "outputs": [],
   "source": [
    "df_enrollment_large[df_enrollment_large['student_name'] == '']"
   ]
  },
  {
   "cell_type": "code",
   "execution_count": null,
   "metadata": {},
   "outputs": [],
   "source": []
  }
 ],
 "metadata": {
  "kernelspec": {
   "display_name": "Python 3",
   "language": "python",
   "name": "python3"
  },
  "language_info": {
   "codemirror_mode": {
    "name": "ipython",
    "version": 3
   },
   "file_extension": ".py",
   "mimetype": "text/x-python",
   "name": "python",
   "nbconvert_exporter": "python",
   "pygments_lexer": "ipython3",
   "version": "3.7.4"
  }
 },
 "nbformat": 4,
 "nbformat_minor": 2
}
