{
 "cells": [
  {
   "cell_type": "markdown",
   "metadata": {},
   "source": [
    "# Pre-processing"
   ]
  },
  {
   "cell_type": "code",
   "execution_count": 1,
   "metadata": {},
   "outputs": [],
   "source": [
    "import os\n",
    "import requests\n",
    "from bs4 import BeautifulSoup\n",
    "import pandas as pd"
   ]
  },
  {
   "cell_type": "markdown",
   "metadata": {},
   "source": [
    "## 1. Select master courses relevant files"
   ]
  },
  {
   "cell_type": "code",
   "execution_count": 2,
   "metadata": {},
   "outputs": [],
   "source": [
    "# Directory with the .xls files taken from is-academia public access\n",
    "xls_dir = '../../data/'\n",
    "\n",
    "# Iterate over files and keep only the master courses files\n",
    "master_files = []\n",
    "for file in os.listdir(xls_dir):\n",
    "    path = xls_dir + file\n",
    "    if os.path.isdir(path):\n",
    "        continue\n",
    "    f = open(path, encoding='latin-1')      \n",
    "    content = f.read()\n",
    "    if 'Master' in content:\n",
    "        master_files += [file]"
   ]
  },
  {
   "cell_type": "code",
   "execution_count": 3,
   "metadata": {},
   "outputs": [
    {
     "data": {
      "text/plain": [
       "3484"
      ]
     },
     "execution_count": 3,
     "metadata": {},
     "output_type": "execute_result"
    }
   ],
   "source": [
    "len(master_files)"
   ]
  },
  {
   "cell_type": "markdown",
   "metadata": {},
   "source": [
    "## 2. Parse files"
   ]
  },
  {
   "cell_type": "code",
   "execution_count": 4,
   "metadata": {},
   "outputs": [],
   "source": [
    "file = master_files[143]"
   ]
  },
  {
   "cell_type": "code",
   "execution_count": 5,
   "metadata": {},
   "outputs": [],
   "source": [
    "def parse_class_info(class_info):\n",
    "    class_name = prof = ''\n",
    "    if len(class_info) > 0:\n",
    "        class_name = class_info[0].text\n",
    "    if len(class_info) > 1:\n",
    "        prof_info = class_info[1].text\n",
    "        if ':' in prof_info:\n",
    "            prof = prof_info.split(':')[1]\n",
    "        if prof.find('Assistant-e-(s)') != -1:\n",
    "            prof = prof[:prof.find('Assistant-e-(s)')]\n",
    "        prof = prof.split(',')\n",
    "        prof_lst = [x.strip() for x in prof]\n",
    "    return class_name, prof_lst\n",
    "    \n",
    "    "
   ]
  },
  {
   "cell_type": "code",
   "execution_count": 29,
   "metadata": {},
   "outputs": [],
   "source": [
    "def parse_group_info(group_info, def_section, def_year, def_sem):\n",
    "    def_section = def_year = def_sem = ''\n",
    "    info = group_info.split(',')\n",
    "    if len(info) == 0:\n",
    "        section = def_section\n",
    "        year = def_year\n",
    "        sem = def_sem\n",
    "    elif len(info) == 1:\n",
    "        section = info\n",
    "        year = def_year\n",
    "        sem = def_sem\n",
    "    elif len(info) == 2:\n",
    "        section, sem = info\n",
    "        year = def_year\n",
    "    elif len(info) == 3:\n",
    "        section, year, sem = info[:3]\n",
    "    if len(info) > 3:\n",
    "        section = group_info[:group_info.find('201') - 2]\n",
    "        year = group_info[group_info.find('201'):]\n",
    "        year = year[:year.find(',')]\n",
    "        sem = group_info.split(',')[-1]\n",
    "    return section, year.strip(), sem"
   ]
  },
  {
   "cell_type": "code",
   "execution_count": 30,
   "metadata": {},
   "outputs": [
    {
     "name": "stdout",
     "output_type": "stream",
     "text": [
      "CPU times: user 3min 29s, sys: 2.41 s, total: 3min 31s\n",
      "Wall time: 3min 46s\n"
     ]
    }
   ],
   "source": [
    "%%time\n",
    "course_id = 1\n",
    "enrollment_lst = []\n",
    "ignored_files = []\n",
    "for file in master_files: \n",
    "    ignoreFile = False\n",
    "    f = open(xls_dir + file, encoding='latin-1')      \n",
    "    page_body = f.read()\n",
    "    soup = BeautifulSoup(page_body, 'html.parser')\n",
    "    \n",
    "    # Parse the course general information:\n",
    "    # - class_name\n",
    "    # - professors\n",
    "    \n",
    "    # empty values\n",
    "    class_name = None\n",
    "    profs = []\n",
    "    def_section = None\n",
    "    def_year = None\n",
    "    def_semester = None\n",
    "    for tr in soup.body.table.findAll('tr',recursive=False):\n",
    "        class_info = tr.findAll('th', recursive=False)\n",
    "        # If it contains info for a new class\n",
    "        if len(class_info) > 0:\n",
    "            if len(class_info) != 2:\n",
    "                print('Error: More than two lines descrbing the course (the lines should be course name and prof)')\n",
    "            class_name, profs = parse_class_info(class_info)\n",
    "            #print(file, class_name, profs)\n",
    "        else:\n",
    "            # Check if it contains a table of students or it start a new set of students\n",
    "            # New set of students\n",
    "            if len(tr.findAll('table')) == 0:\n",
    "                # Parse common info for this group of students\n",
    "                def_section, def_year, def_semester = parse_group_info(tr.text, def_section, def_year, def_semester)\n",
    "                \n",
    "            # Table containing the students\n",
    "            else:\n",
    "                for table in tr.findAll('table', recurive=False):\n",
    "                    # Format for files that ocntains project info\n",
    "                    if len(table.findAll('table')) > 0:\n",
    "                        ignoreFile = True\n",
    "                        break\n",
    "                    \n",
    "                    # Format for list of students in class\n",
    "                    for student in table.findAll('tr'):\n",
    "                        tds = student.findAll('td')\n",
    "                        #if len(tds) != 3:\n",
    "                            #print(file, student)\n",
    "                            #ignoreFile = True\n",
    "                        name, student_info, extra = tds[:3]\n",
    "                        name = name.text\n",
    "                        if len(extra) > 0:\n",
    "                            print(\"Error: \" + extra)\n",
    "                        if ',' in student_info:\n",
    "                            section, year, semester = parse_group_info(student_info.text, def_section, def_year, def_semester)\n",
    "                        else:\n",
    "                            section, year, semester = def_section, def_year, def_semester\n",
    "                        \n",
    "                        # Save enrollment\n",
    "                        if not ignoreFile:\n",
    "                            #if len(year) == 0:\n",
    "                            #    print(file, name)\n",
    "                            enrollment_lst += [(name, section, year, semester, class_name, profs)]\n",
    "                        \n",
    "    if ignoreFile:\n",
    "        ignored_files += [file]\n",
    "#enrollment_lst"
   ]
  },
  {
   "cell_type": "markdown",
   "metadata": {},
   "source": [
    "Strange formats:\n",
    "- 1563.xls Cours UNIL - Faculté de biologie et de médecine II (automne)  Profs divers *\n",
    "- 5739.xls Slope stability  Laloui Lyesse, Ferrari Alessio\n",
    "- 6508.xls Théorie et critique du projet MA1 (Lamunière) ['Lamunière Inès']\n",
    "\n"
   ]
  },
  {
   "cell_type": "code",
   "execution_count": 35,
   "metadata": {},
   "outputs": [
    {
     "data": {
      "text/plain": [
       "16751"
      ]
     },
     "execution_count": 35,
     "metadata": {},
     "output_type": "execute_result"
    }
   ],
   "source": [
    "# Example file prettify for the project files (aka 3rd field of the entry for a student in table is not empty)\n",
    "# E.g. file 5184\n",
    "f = open(xls_dir + '5184.xls', encoding='latin-1')      \n",
    "page_body = f.read()\n",
    "soup = BeautifulSoup(page_body, 'html.parser')\n",
    "pretty_f = open(xls_dir + 'pretty/' + '5184.xls', 'w', encoding='latin-1')\n",
    "pretty_f.write(soup.prettify())"
   ]
  },
  {
   "cell_type": "code",
   "execution_count": 36,
   "metadata": {},
   "outputs": [
    {
     "data": {
      "text/plain": [
       "289"
      ]
     },
     "execution_count": 36,
     "metadata": {},
     "output_type": "execute_result"
    }
   ],
   "source": [
    "len(ignored_files)"
   ]
  },
  {
   "cell_type": "markdown",
   "metadata": {},
   "source": [
    "## 3. Create tables"
   ]
  },
  {
   "cell_type": "code",
   "execution_count": 37,
   "metadata": {},
   "outputs": [
    {
     "data": {
      "text/plain": [
       "831129"
      ]
     },
     "execution_count": 37,
     "metadata": {},
     "output_type": "execute_result"
    }
   ],
   "source": [
    "len(enrollment_lst)"
   ]
  },
  {
   "cell_type": "code",
   "execution_count": 38,
   "metadata": {},
   "outputs": [
    {
     "data": {
      "text/plain": [
       "[('Bays Emmanuelle',\n",
       "  'Bioingénierie',\n",
       "  '2006-2007',\n",
       "  ' Master semestre 2',\n",
       "  'Biological and physiological transport',\n",
       "  ['Swartz Melody']),\n",
       " ('Berlier Guillaume',\n",
       "  'Bioingénierie',\n",
       "  '2006-2007',\n",
       "  ' Master semestre 2',\n",
       "  'Biological and physiological transport',\n",
       "  ['Swartz Melody']),\n",
       " ('Cosson Steffen',\n",
       "  'Bioingénierie',\n",
       "  '2006-2007',\n",
       "  ' Master semestre 2',\n",
       "  'Biological and physiological transport',\n",
       "  ['Swartz Melody'])]"
      ]
     },
     "execution_count": 38,
     "metadata": {},
     "output_type": "execute_result"
    }
   ],
   "source": [
    "enrollment_lst[:3]"
   ]
  },
  {
   "cell_type": "code",
   "execution_count": 39,
   "metadata": {},
   "outputs": [
    {
     "data": {
      "text/html": [
       "<div>\n",
       "<style scoped>\n",
       "    .dataframe tbody tr th:only-of-type {\n",
       "        vertical-align: middle;\n",
       "    }\n",
       "\n",
       "    .dataframe tbody tr th {\n",
       "        vertical-align: top;\n",
       "    }\n",
       "\n",
       "    .dataframe thead th {\n",
       "        text-align: right;\n",
       "    }\n",
       "</style>\n",
       "<table border=\"1\" class=\"dataframe\">\n",
       "  <thead>\n",
       "    <tr style=\"text-align: right;\">\n",
       "      <th></th>\n",
       "      <th>student_name</th>\n",
       "      <th>section</th>\n",
       "      <th>year</th>\n",
       "      <th>semester</th>\n",
       "      <th>course_name</th>\n",
       "      <th>profs</th>\n",
       "    </tr>\n",
       "  </thead>\n",
       "  <tbody>\n",
       "    <tr>\n",
       "      <th>0</th>\n",
       "      <td>Bays Emmanuelle</td>\n",
       "      <td>Bioingénierie</td>\n",
       "      <td>2006-2007</td>\n",
       "      <td>Master semestre 2</td>\n",
       "      <td>Biological and physiological transport</td>\n",
       "      <td>[Swartz Melody]</td>\n",
       "    </tr>\n",
       "    <tr>\n",
       "      <th>1</th>\n",
       "      <td>Berlier Guillaume</td>\n",
       "      <td>Bioingénierie</td>\n",
       "      <td>2006-2007</td>\n",
       "      <td>Master semestre 2</td>\n",
       "      <td>Biological and physiological transport</td>\n",
       "      <td>[Swartz Melody]</td>\n",
       "    </tr>\n",
       "  </tbody>\n",
       "</table>\n",
       "</div>"
      ],
      "text/plain": [
       "        student_name        section       year            semester  \\\n",
       "0    Bays Emmanuelle  Bioingénierie  2006-2007   Master semestre 2   \n",
       "1  Berlier Guillaume  Bioingénierie  2006-2007   Master semestre 2   \n",
       "\n",
       "                              course_name            profs  \n",
       "0  Biological and physiological transport  [Swartz Melody]  \n",
       "1  Biological and physiological transport  [Swartz Melody]  "
      ]
     },
     "execution_count": 39,
     "metadata": {},
     "output_type": "execute_result"
    }
   ],
   "source": [
    "df_enrollment_large = pd.DataFrame(enrollment_lst, columns=['student_name', 'section', 'year', 'semester', 'course_name', 'profs'])\n",
    "df_enrollment_large.head(2)"
   ]
  },
  {
   "cell_type": "code",
   "execution_count": 40,
   "metadata": {},
   "outputs": [
    {
     "data": {
      "text/html": [
       "<div>\n",
       "<style scoped>\n",
       "    .dataframe tbody tr th:only-of-type {\n",
       "        vertical-align: middle;\n",
       "    }\n",
       "\n",
       "    .dataframe tbody tr th {\n",
       "        vertical-align: top;\n",
       "    }\n",
       "\n",
       "    .dataframe thead th {\n",
       "        text-align: right;\n",
       "    }\n",
       "</style>\n",
       "<table border=\"1\" class=\"dataframe\">\n",
       "  <thead>\n",
       "    <tr style=\"text-align: right;\">\n",
       "      <th></th>\n",
       "      <th>course_name</th>\n",
       "      <th>year</th>\n",
       "    </tr>\n",
       "  </thead>\n",
       "  <tbody>\n",
       "    <tr>\n",
       "      <th>12450</th>\n",
       "      <td>Data visualization</td>\n",
       "      <td>2018-2019</td>\n",
       "    </tr>\n",
       "    <tr>\n",
       "      <th>12451</th>\n",
       "      <td>Data visualization</td>\n",
       "      <td></td>\n",
       "    </tr>\n",
       "    <tr>\n",
       "      <th>12452</th>\n",
       "      <td>Data visualization</td>\n",
       "      <td>2019-2020</td>\n",
       "    </tr>\n",
       "    <tr>\n",
       "      <th>12453</th>\n",
       "      <td>Data visualization</td>\n",
       "      <td>2017-2018</td>\n",
       "    </tr>\n",
       "  </tbody>\n",
       "</table>\n",
       "</div>"
      ],
      "text/plain": [
       "              course_name       year\n",
       "12450  Data visualization  2018-2019\n",
       "12451  Data visualization           \n",
       "12452  Data visualization  2019-2020\n",
       "12453  Data visualization  2017-2018"
      ]
     },
     "execution_count": 40,
     "metadata": {},
     "output_type": "execute_result"
    }
   ],
   "source": [
    "df_course = df_enrollment_large[['course_name', 'year']]\n",
    "df_course = df_course.drop_duplicates().reset_index().drop('index',axis=1)\n",
    "df_course[df_course['course_name'] == 'Data visualization']"
   ]
  },
  {
   "cell_type": "code",
   "execution_count": 41,
   "metadata": {},
   "outputs": [
    {
     "data": {
      "text/html": [
       "<div>\n",
       "<style scoped>\n",
       "    .dataframe tbody tr th:only-of-type {\n",
       "        vertical-align: middle;\n",
       "    }\n",
       "\n",
       "    .dataframe tbody tr th {\n",
       "        vertical-align: top;\n",
       "    }\n",
       "\n",
       "    .dataframe thead th {\n",
       "        text-align: right;\n",
       "    }\n",
       "</style>\n",
       "<table border=\"1\" class=\"dataframe\">\n",
       "  <thead>\n",
       "    <tr style=\"text-align: right;\">\n",
       "      <th></th>\n",
       "      <th>course_id</th>\n",
       "      <th>course_name</th>\n",
       "      <th>year</th>\n",
       "    </tr>\n",
       "  </thead>\n",
       "  <tbody>\n",
       "    <tr>\n",
       "      <th>0</th>\n",
       "      <td>0</td>\n",
       "      <td>Biological and physiological transport</td>\n",
       "      <td>2006-2007</td>\n",
       "    </tr>\n",
       "    <tr>\n",
       "      <th>1</th>\n",
       "      <td>1</td>\n",
       "      <td>Biological and physiological transport</td>\n",
       "      <td>2007-2008</td>\n",
       "    </tr>\n",
       "    <tr>\n",
       "      <th>2</th>\n",
       "      <td>2</td>\n",
       "      <td>Special topics in reactor physics</td>\n",
       "      <td>2015-2016</td>\n",
       "    </tr>\n",
       "    <tr>\n",
       "      <th>3</th>\n",
       "      <td>3</td>\n",
       "      <td>Special topics in reactor physics</td>\n",
       "      <td>2014-2015</td>\n",
       "    </tr>\n",
       "    <tr>\n",
       "      <th>4</th>\n",
       "      <td>4</td>\n",
       "      <td>Special topics in reactor physics</td>\n",
       "      <td>2013-2014</td>\n",
       "    </tr>\n",
       "  </tbody>\n",
       "</table>\n",
       "</div>"
      ],
      "text/plain": [
       "   course_id                             course_name       year\n",
       "0          0  Biological and physiological transport  2006-2007\n",
       "1          1  Biological and physiological transport  2007-2008\n",
       "2          2       Special topics in reactor physics  2015-2016\n",
       "3          3       Special topics in reactor physics  2014-2015\n",
       "4          4       Special topics in reactor physics  2013-2014"
      ]
     },
     "execution_count": 41,
     "metadata": {},
     "output_type": "execute_result"
    }
   ],
   "source": [
    "df_course = df_course.reset_index().rename(columns={'index': 'course_id'})\n",
    "df_course.head()"
   ]
  },
  {
   "cell_type": "code",
   "execution_count": 42,
   "metadata": {},
   "outputs": [
    {
     "data": {
      "text/html": [
       "<div>\n",
       "<style scoped>\n",
       "    .dataframe tbody tr th:only-of-type {\n",
       "        vertical-align: middle;\n",
       "    }\n",
       "\n",
       "    .dataframe tbody tr th {\n",
       "        vertical-align: top;\n",
       "    }\n",
       "\n",
       "    .dataframe thead th {\n",
       "        text-align: right;\n",
       "    }\n",
       "</style>\n",
       "<table border=\"1\" class=\"dataframe\">\n",
       "  <thead>\n",
       "    <tr style=\"text-align: right;\">\n",
       "      <th></th>\n",
       "      <th>student_name_1</th>\n",
       "      <th>section_1</th>\n",
       "      <th>year_1</th>\n",
       "      <th>semester_1</th>\n",
       "      <th>course_name_1</th>\n",
       "      <th>profs_1</th>\n",
       "      <th>student_name_2</th>\n",
       "      <th>section_2</th>\n",
       "      <th>year_2</th>\n",
       "      <th>semester_2</th>\n",
       "      <th>course_name_2</th>\n",
       "      <th>profs_2</th>\n",
       "    </tr>\n",
       "  </thead>\n",
       "  <tbody>\n",
       "  </tbody>\n",
       "</table>\n",
       "</div>"
      ],
      "text/plain": [
       "Empty DataFrame\n",
       "Columns: [student_name_1, section_1, year_1, semester_1, course_name_1, profs_1, student_name_2, section_2, year_2, semester_2, course_name_2, profs_2]\n",
       "Index: []"
      ]
     },
     "execution_count": 42,
     "metadata": {},
     "output_type": "execute_result"
    }
   ],
   "source": [
    "tmp = df_enrollment_large.join(df_enrollment_large, lsuffix='_1', rsuffix='_2')\n",
    "tmp[(tmp['student_name_1'] == tmp['student_name_2']) & (tmp['section_1'] != tmp['section_2'])]"
   ]
  },
  {
   "cell_type": "markdown",
   "metadata": {},
   "source": [
    "We checked that there are not people withthe same name but different section."
   ]
  },
  {
   "cell_type": "code",
   "execution_count": 174,
   "metadata": {},
   "outputs": [
    {
     "data": {
      "text/html": [
       "<div>\n",
       "<style scoped>\n",
       "    .dataframe tbody tr th:only-of-type {\n",
       "        vertical-align: middle;\n",
       "    }\n",
       "\n",
       "    .dataframe tbody tr th {\n",
       "        vertical-align: top;\n",
       "    }\n",
       "\n",
       "    .dataframe thead th {\n",
       "        text-align: right;\n",
       "    }\n",
       "</style>\n",
       "<table border=\"1\" class=\"dataframe\">\n",
       "  <thead>\n",
       "    <tr style=\"text-align: right;\">\n",
       "      <th></th>\n",
       "      <th>student_name</th>\n",
       "      <th>section</th>\n",
       "    </tr>\n",
       "  </thead>\n",
       "  <tbody>\n",
       "    <tr>\n",
       "      <th>0</th>\n",
       "      <td>Bays Emmanuelle</td>\n",
       "      <td>Bioingénierie</td>\n",
       "    </tr>\n",
       "    <tr>\n",
       "      <th>1</th>\n",
       "      <td>Berlier Guillaume</td>\n",
       "      <td>Bioingénierie</td>\n",
       "    </tr>\n",
       "  </tbody>\n",
       "</table>\n",
       "</div>"
      ],
      "text/plain": [
       "        student_name        section\n",
       "0    Bays Emmanuelle  Bioingénierie\n",
       "1  Berlier Guillaume  Bioingénierie"
      ]
     },
     "execution_count": 174,
     "metadata": {},
     "output_type": "execute_result"
    }
   ],
   "source": [
    "df_students = df_enrollment_large[['student_name', 'section']].drop_duplicates()\n",
    "df_students.head(2)"
   ]
  },
  {
   "cell_type": "code",
   "execution_count": 177,
   "metadata": {},
   "outputs": [
    {
     "data": {
      "text/html": [
       "<div>\n",
       "<style scoped>\n",
       "    .dataframe tbody tr th:only-of-type {\n",
       "        vertical-align: middle;\n",
       "    }\n",
       "\n",
       "    .dataframe tbody tr th {\n",
       "        vertical-align: top;\n",
       "    }\n",
       "\n",
       "    .dataframe thead th {\n",
       "        text-align: right;\n",
       "    }\n",
       "</style>\n",
       "<table border=\"1\" class=\"dataframe\">\n",
       "  <thead>\n",
       "    <tr style=\"text-align: right;\">\n",
       "      <th></th>\n",
       "      <th>student_id</th>\n",
       "      <th>year</th>\n",
       "      <th>semester</th>\n",
       "      <th>course_name</th>\n",
       "      <th>profs</th>\n",
       "    </tr>\n",
       "  </thead>\n",
       "  <tbody>\n",
       "    <tr>\n",
       "      <th>0</th>\n",
       "      <td>0</td>\n",
       "      <td>2006-2007</td>\n",
       "      <td>Master semestre 2</td>\n",
       "      <td>Biological and physiological transport</td>\n",
       "      <td>[Swartz Melody]</td>\n",
       "    </tr>\n",
       "    <tr>\n",
       "      <th>1</th>\n",
       "      <td>0</td>\n",
       "      <td>2006-2007</td>\n",
       "      <td>Master semestre 1</td>\n",
       "      <td>Advanced transport phenomena</td>\n",
       "      <td>[Swartz Melody]</td>\n",
       "    </tr>\n",
       "    <tr>\n",
       "      <th>2</th>\n",
       "      <td>0</td>\n",
       "      <td>2006-2007</td>\n",
       "      <td>Master semestre 1</td>\n",
       "      <td>Biomaterials</td>\n",
       "      <td>[Hubbell Jeffrey Alan]</td>\n",
       "    </tr>\n",
       "    <tr>\n",
       "      <th>3</th>\n",
       "      <td>0</td>\n",
       "      <td>2006-2007</td>\n",
       "      <td>Master semestre 2</td>\n",
       "      <td>Drug discovery from bench to clinics</td>\n",
       "      <td>[Wells Timothy]</td>\n",
       "    </tr>\n",
       "    <tr>\n",
       "      <th>4</th>\n",
       "      <td>0</td>\n",
       "      <td>2006-2007</td>\n",
       "      <td>Master semestre 1</td>\n",
       "      <td>Topics in bioinformatics I</td>\n",
       "      <td>[Bucher Philipp, Moret Bernard, Naef Felix]</td>\n",
       "    </tr>\n",
       "    <tr>\n",
       "      <th>...</th>\n",
       "      <td>...</td>\n",
       "      <td>...</td>\n",
       "      <td>...</td>\n",
       "      <td>...</td>\n",
       "      <td>...</td>\n",
       "    </tr>\n",
       "    <tr>\n",
       "      <th>831124</th>\n",
       "      <td>831039</td>\n",
       "      <td>2015-2016</td>\n",
       "      <td>Master semestre 1</td>\n",
       "      <td>Hardware systems modeling I</td>\n",
       "      <td>[Vachoux Alain]</td>\n",
       "    </tr>\n",
       "    <tr>\n",
       "      <th>831125</th>\n",
       "      <td>831044</td>\n",
       "      <td>2015-2016</td>\n",
       "      <td>Master semestre 1</td>\n",
       "      <td>Hardware systems modeling I</td>\n",
       "      <td>[Vachoux Alain]</td>\n",
       "    </tr>\n",
       "    <tr>\n",
       "      <th>831126</th>\n",
       "      <td>831086</td>\n",
       "      <td>2014-2015</td>\n",
       "      <td>Master semestre 1</td>\n",
       "      <td>Hardware systems modeling I</td>\n",
       "      <td>[Vachoux Alain]</td>\n",
       "    </tr>\n",
       "    <tr>\n",
       "      <th>831127</th>\n",
       "      <td>831097</td>\n",
       "      <td>2014-2015</td>\n",
       "      <td>Master semestre 1</td>\n",
       "      <td>Hardware systems modeling I</td>\n",
       "      <td>[Vachoux Alain]</td>\n",
       "    </tr>\n",
       "    <tr>\n",
       "      <th>831128</th>\n",
       "      <td>831102</td>\n",
       "      <td>2011-2012</td>\n",
       "      <td>Master semestre 1</td>\n",
       "      <td>Applications en supraconductivité</td>\n",
       "      <td>[Dutoit Bertrand]</td>\n",
       "    </tr>\n",
       "  </tbody>\n",
       "</table>\n",
       "<p>831129 rows × 5 columns</p>\n",
       "</div>"
      ],
      "text/plain": [
       "        student_id       year            semester  \\\n",
       "0                0  2006-2007   Master semestre 2   \n",
       "1                0  2006-2007   Master semestre 1   \n",
       "2                0  2006-2007   Master semestre 1   \n",
       "3                0  2006-2007   Master semestre 2   \n",
       "4                0  2006-2007   Master semestre 1   \n",
       "...            ...        ...                 ...   \n",
       "831124      831039  2015-2016   Master semestre 1   \n",
       "831125      831044  2015-2016   Master semestre 1   \n",
       "831126      831086  2014-2015   Master semestre 1   \n",
       "831127      831097  2014-2015   Master semestre 1   \n",
       "831128      831102  2011-2012   Master semestre 1   \n",
       "\n",
       "                                   course_name  \\\n",
       "0       Biological and physiological transport   \n",
       "1                 Advanced transport phenomena   \n",
       "2                                 Biomaterials   \n",
       "3         Drug discovery from bench to clinics   \n",
       "4                   Topics in bioinformatics I   \n",
       "...                                        ...   \n",
       "831124             Hardware systems modeling I   \n",
       "831125             Hardware systems modeling I   \n",
       "831126             Hardware systems modeling I   \n",
       "831127             Hardware systems modeling I   \n",
       "831128       Applications en supraconductivité   \n",
       "\n",
       "                                              profs  \n",
       "0                                   [Swartz Melody]  \n",
       "1                                   [Swartz Melody]  \n",
       "2                            [Hubbell Jeffrey Alan]  \n",
       "3                                   [Wells Timothy]  \n",
       "4       [Bucher Philipp, Moret Bernard, Naef Felix]  \n",
       "...                                             ...  \n",
       "831124                              [Vachoux Alain]  \n",
       "831125                              [Vachoux Alain]  \n",
       "831126                              [Vachoux Alain]  \n",
       "831127                              [Vachoux Alain]  \n",
       "831128                            [Dutoit Bertrand]  \n",
       "\n",
       "[831129 rows x 5 columns]"
      ]
     },
     "execution_count": 177,
     "metadata": {},
     "output_type": "execute_result"
    }
   ],
   "source": [
    "df_tmp_students = df_students\n",
    "df_tmp_students['student_id'] = df_students.index\n",
    "df_enrollment_tmp = df_tmp_students.merge(df_enrollment_large, left_on = ['student_name', 'section'], right_on = ['student_name', 'section'])\n",
    "df_enrollment_med = df_enrollment_tmp.drop(['student_name', 'section'], axis=1)\n",
    "df_enrollment_med"
   ]
  },
  {
   "cell_type": "markdown",
   "metadata": {},
   "source": [
    "<b>Create Teaching table:</b> course_id, prof <br>\n",
    "N.B. There will be multiple tuple with the same course_id in df_teaching because one class can be taught by morethan one prof"
   ]
  },
  {
   "cell_type": "code",
   "execution_count": 185,
   "metadata": {},
   "outputs": [
    {
     "data": {
      "text/html": [
       "<div>\n",
       "<style scoped>\n",
       "    .dataframe tbody tr th:only-of-type {\n",
       "        vertical-align: middle;\n",
       "    }\n",
       "\n",
       "    .dataframe tbody tr th {\n",
       "        vertical-align: top;\n",
       "    }\n",
       "\n",
       "    .dataframe thead th {\n",
       "        text-align: right;\n",
       "    }\n",
       "</style>\n",
       "<table border=\"1\" class=\"dataframe\">\n",
       "  <thead>\n",
       "    <tr style=\"text-align: right;\">\n",
       "      <th></th>\n",
       "      <th>course_id</th>\n",
       "      <th>course_name</th>\n",
       "      <th>year</th>\n",
       "      <th>student_id</th>\n",
       "      <th>semester</th>\n",
       "      <th>profs</th>\n",
       "    </tr>\n",
       "  </thead>\n",
       "  <tbody>\n",
       "    <tr>\n",
       "      <th>0</th>\n",
       "      <td>0</td>\n",
       "      <td>Biological and physiological transport</td>\n",
       "      <td>2006-2007</td>\n",
       "      <td>0</td>\n",
       "      <td>Master semestre 2</td>\n",
       "      <td>[Swartz Melody]</td>\n",
       "    </tr>\n",
       "    <tr>\n",
       "      <th>1</th>\n",
       "      <td>0</td>\n",
       "      <td>Biological and physiological transport</td>\n",
       "      <td>2006-2007</td>\n",
       "      <td>1</td>\n",
       "      <td>Master semestre 2</td>\n",
       "      <td>[Swartz Melody]</td>\n",
       "    </tr>\n",
       "    <tr>\n",
       "      <th>2</th>\n",
       "      <td>0</td>\n",
       "      <td>Biological and physiological transport</td>\n",
       "      <td>2006-2007</td>\n",
       "      <td>2</td>\n",
       "      <td>Master semestre 2</td>\n",
       "      <td>[Swartz Melody]</td>\n",
       "    </tr>\n",
       "    <tr>\n",
       "      <th>3</th>\n",
       "      <td>0</td>\n",
       "      <td>Biological and physiological transport</td>\n",
       "      <td>2006-2007</td>\n",
       "      <td>3</td>\n",
       "      <td>Master semestre 2</td>\n",
       "      <td>[Swartz Melody]</td>\n",
       "    </tr>\n",
       "    <tr>\n",
       "      <th>4</th>\n",
       "      <td>0</td>\n",
       "      <td>Biological and physiological transport</td>\n",
       "      <td>2006-2007</td>\n",
       "      <td>4</td>\n",
       "      <td>Master semestre 2</td>\n",
       "      <td>[Swartz Melody]</td>\n",
       "    </tr>\n",
       "  </tbody>\n",
       "</table>\n",
       "</div>"
      ],
      "text/plain": [
       "   course_id                             course_name       year  student_id  \\\n",
       "0          0  Biological and physiological transport  2006-2007           0   \n",
       "1          0  Biological and physiological transport  2006-2007           1   \n",
       "2          0  Biological and physiological transport  2006-2007           2   \n",
       "3          0  Biological and physiological transport  2006-2007           3   \n",
       "4          0  Biological and physiological transport  2006-2007           4   \n",
       "\n",
       "             semester            profs  \n",
       "0   Master semestre 2  [Swartz Melody]  \n",
       "1   Master semestre 2  [Swartz Melody]  \n",
       "2   Master semestre 2  [Swartz Melody]  \n",
       "3   Master semestre 2  [Swartz Melody]  \n",
       "4   Master semestre 2  [Swartz Melody]  "
      ]
     },
     "execution_count": 185,
     "metadata": {},
     "output_type": "execute_result"
    }
   ],
   "source": [
    "df_tmp = df_course.merge(df_enrollment_med, left_on = ['year', 'course_name'], right_on =  ['year', 'course_name'])\n",
    "df_tmp.head()"
   ]
  },
  {
   "cell_type": "code",
   "execution_count": 190,
   "metadata": {},
   "outputs": [
    {
     "data": {
      "text/html": [
       "<div>\n",
       "<style scoped>\n",
       "    .dataframe tbody tr th:only-of-type {\n",
       "        vertical-align: middle;\n",
       "    }\n",
       "\n",
       "    .dataframe tbody tr th {\n",
       "        vertical-align: top;\n",
       "    }\n",
       "\n",
       "    .dataframe thead th {\n",
       "        text-align: right;\n",
       "    }\n",
       "</style>\n",
       "<table border=\"1\" class=\"dataframe\">\n",
       "  <thead>\n",
       "    <tr style=\"text-align: right;\">\n",
       "      <th></th>\n",
       "      <th>student_id</th>\n",
       "      <th>course_id</th>\n",
       "      <th>semester</th>\n",
       "    </tr>\n",
       "  </thead>\n",
       "  <tbody>\n",
       "    <tr>\n",
       "      <th>0</th>\n",
       "      <td>0</td>\n",
       "      <td>0</td>\n",
       "      <td>Master semestre 2</td>\n",
       "    </tr>\n",
       "    <tr>\n",
       "      <th>1</th>\n",
       "      <td>1</td>\n",
       "      <td>0</td>\n",
       "      <td>Master semestre 2</td>\n",
       "    </tr>\n",
       "    <tr>\n",
       "      <th>2</th>\n",
       "      <td>2</td>\n",
       "      <td>0</td>\n",
       "      <td>Master semestre 2</td>\n",
       "    </tr>\n",
       "    <tr>\n",
       "      <th>3</th>\n",
       "      <td>3</td>\n",
       "      <td>0</td>\n",
       "      <td>Master semestre 2</td>\n",
       "    </tr>\n",
       "    <tr>\n",
       "      <th>4</th>\n",
       "      <td>4</td>\n",
       "      <td>0</td>\n",
       "      <td>Master semestre 2</td>\n",
       "    </tr>\n",
       "  </tbody>\n",
       "</table>\n",
       "</div>"
      ],
      "text/plain": [
       "   student_id  course_id            semester\n",
       "0           0          0   Master semestre 2\n",
       "1           1          0   Master semestre 2\n",
       "2           2          0   Master semestre 2\n",
       "3           3          0   Master semestre 2\n",
       "4           4          0   Master semestre 2"
      ]
     },
     "execution_count": 190,
     "metadata": {},
     "output_type": "execute_result"
    }
   ],
   "source": [
    "df_enrollment = df_tmp[['student_id', 'course_id', 'semester']].drop_duplicates()\n",
    "df_enrollment.head()"
   ]
  },
  {
   "cell_type": "code",
   "execution_count": 207,
   "metadata": {},
   "outputs": [
    {
     "data": {
      "text/html": [
       "<div>\n",
       "<style scoped>\n",
       "    .dataframe tbody tr th:only-of-type {\n",
       "        vertical-align: middle;\n",
       "    }\n",
       "\n",
       "    .dataframe tbody tr th {\n",
       "        vertical-align: top;\n",
       "    }\n",
       "\n",
       "    .dataframe thead th {\n",
       "        text-align: right;\n",
       "    }\n",
       "</style>\n",
       "<table border=\"1\" class=\"dataframe\">\n",
       "  <thead>\n",
       "    <tr style=\"text-align: right;\">\n",
       "      <th></th>\n",
       "      <th>course_id</th>\n",
       "      <th>prof</th>\n",
       "    </tr>\n",
       "  </thead>\n",
       "  <tbody>\n",
       "    <tr>\n",
       "      <th>0</th>\n",
       "      <td>0</td>\n",
       "      <td>Swartz Melody</td>\n",
       "    </tr>\n",
       "    <tr>\n",
       "      <th>13</th>\n",
       "      <td>1</td>\n",
       "      <td>Swartz Melody</td>\n",
       "    </tr>\n",
       "    <tr>\n",
       "      <th>23</th>\n",
       "      <td>2</td>\n",
       "      <td>Pautz Andreas</td>\n",
       "    </tr>\n",
       "    <tr>\n",
       "      <th>29</th>\n",
       "      <td>3</td>\n",
       "      <td>Pautz Andreas</td>\n",
       "    </tr>\n",
       "    <tr>\n",
       "      <th>37</th>\n",
       "      <td>4</td>\n",
       "      <td>Mikityuk Konstantin</td>\n",
       "    </tr>\n",
       "    <tr>\n",
       "      <th>...</th>\n",
       "      <td>...</td>\n",
       "      <td>...</td>\n",
       "    </tr>\n",
       "    <tr>\n",
       "      <th>831057</th>\n",
       "      <td>15736</td>\n",
       "      <td>Vachoux Alain</td>\n",
       "    </tr>\n",
       "    <tr>\n",
       "      <th>831075</th>\n",
       "      <td>15737</td>\n",
       "      <td>Vachoux Alain</td>\n",
       "    </tr>\n",
       "    <tr>\n",
       "      <th>831102</th>\n",
       "      <td>15738</td>\n",
       "      <td>Dutoit Bertrand</td>\n",
       "    </tr>\n",
       "    <tr>\n",
       "      <th>831108</th>\n",
       "      <td>15739</td>\n",
       "      <td>Dutoit Bertrand</td>\n",
       "    </tr>\n",
       "    <tr>\n",
       "      <th>831117</th>\n",
       "      <td>15740</td>\n",
       "      <td>Dutoit Bertrand</td>\n",
       "    </tr>\n",
       "  </tbody>\n",
       "</table>\n",
       "<p>22286 rows × 2 columns</p>\n",
       "</div>"
      ],
      "text/plain": [
       "        course_id                 prof\n",
       "0               0        Swartz Melody\n",
       "13              1        Swartz Melody\n",
       "23              2        Pautz Andreas\n",
       "29              3        Pautz Andreas\n",
       "37              4  Mikityuk Konstantin\n",
       "...           ...                  ...\n",
       "831057      15736        Vachoux Alain\n",
       "831075      15737        Vachoux Alain\n",
       "831102      15738      Dutoit Bertrand\n",
       "831108      15739      Dutoit Bertrand\n",
       "831117      15740      Dutoit Bertrand\n",
       "\n",
       "[22286 rows x 2 columns]"
      ]
     },
     "execution_count": 207,
     "metadata": {},
     "output_type": "execute_result"
    }
   ],
   "source": [
    "df_teaching = df_tmp[['course_id', 'profs']]\n",
    "df_teaching = df_teaching.explode('profs').drop_duplicates().rename(columns={'profs':'prof'})\n",
    "df_teaching"
   ]
  },
  {
   "cell_type": "markdown",
   "metadata": {},
   "source": [
    "## 4. Save table"
   ]
  },
  {
   "cell_type": "code",
   "execution_count": 202,
   "metadata": {},
   "outputs": [],
   "source": [
    "# Save student table\n",
    "csv_dir = 'csv/'\n",
    "df_students.to_csv(xls_dir + csv_dir + 'student.csv')"
   ]
  },
  {
   "cell_type": "code",
   "execution_count": 209,
   "metadata": {},
   "outputs": [],
   "source": [
    "# Save courses table\n",
    "df_course.to_csv(xls_dir + csv_dir + 'courses.csv')"
   ]
  },
  {
   "cell_type": "code",
   "execution_count": 208,
   "metadata": {},
   "outputs": [],
   "source": [
    "# Save teaching table\n",
    "df_teaching.to_csv(xls_dir + csv_dir + 'teaching.csv')"
   ]
  },
  {
   "cell_type": "code",
   "execution_count": 205,
   "metadata": {},
   "outputs": [],
   "source": [
    "# Save enrollment table\n",
    "df_enrollment.to_csv(xls_dir + csv_dir + 'enrollment.csv')"
   ]
  },
  {
   "cell_type": "code",
   "execution_count": 206,
   "metadata": {},
   "outputs": [],
   "source": [
    "# Save all in one table\n",
    "df_enrollment.to_csv(xls_dir + csv_dir + 'enrollment_large.csv')"
   ]
  },
  {
   "cell_type": "code",
   "execution_count": null,
   "metadata": {},
   "outputs": [],
   "source": []
  }
 ],
 "metadata": {
  "kernelspec": {
   "display_name": "Python 3",
   "language": "python",
   "name": "python3"
  },
  "language_info": {
   "codemirror_mode": {
    "name": "ipython",
    "version": 3
   },
   "file_extension": ".py",
   "mimetype": "text/x-python",
   "name": "python",
   "nbconvert_exporter": "python",
   "pygments_lexer": "ipython3",
   "version": "3.7.4"
  }
 },
 "nbformat": 4,
 "nbformat_minor": 2
}
