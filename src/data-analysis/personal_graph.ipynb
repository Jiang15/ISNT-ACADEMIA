{
 "cells": [
  {
   "cell_type": "markdown",
   "metadata": {},
   "source": [
    "# Course's network data"
   ]
  },
  {
   "cell_type": "markdown",
   "metadata": {},
   "source": [
    "In this notebook we will analyze the similarity between different courses. <br>\n",
    "Each course corresponds to a set of students who were enrolled in it, we will define the 'similarity' between two courses as the Jaccard coefficient between the two set of students who were enrolled in those courses. <br>\n",
    "\n",
    "\n",
    "---\n",
    "<b> An example: </b> <br>\n",
    "Take two courses: Machine learning and  Applied data analysis. <br>\n",
    "We define the students enrolled in ML course as the set A, the ones enrolled in ADA as B. <br>\n",
    "Then, the similarity between those two courses is equal to the Jaccard coefficient between A and B. <br>\n",
    "<img src=\"../images/jaccard.png\"> <br>\n",
    "\n",
    "---\n",
    "<br>\n",
    "For our final visualization, we will build a network in which the courses will be nodes and, each course will be connected to the most 'similar' courses. <br>\n",
    "In this notebook, we will build the underlying network. We will apply an heuristic that will create a planar graph in order to help us in a latter phase of our visualization.\n"
   ]
  },
  {
   "cell_type": "markdown",
   "metadata": {},
   "source": [
    "## 1. Load the data set"
   ]
  },
  {
   "cell_type": "markdown",
   "metadata": {},
   "source": [
    "First, we will import a set of libraries that will be useful for our analysis."
   ]
  },
  {
   "cell_type": "code",
   "execution_count": 10,
   "metadata": {},
   "outputs": [],
   "source": [
    "import pandas as pd\n",
    "from matplotlib import pyplot as plt\n",
    "import plotly.express as px\n",
    "import numpy as np\n",
    "from sklearn.decomposition import PCA\n",
    "from sklearn.manifold import TSNE\n",
    "import networkx as nx\n",
    "\n",
    "%matplotlib inline"
   ]
  },
  {
   "cell_type": "markdown",
   "metadata": {},
   "source": [
    "Now, we will red the data. They are divided into 3 main data sets:\n",
    "* <b> Student: </b> contains informations about each student erolled at EPFL\n",
    "* <b> Courses: </b> contains informations about all courses offere by EPFL at master level\n",
    "* <b> Enrollment: </b> contains informations about student enrollment in courses"
   ]
  },
  {
   "cell_type": "code",
   "execution_count": 11,
   "metadata": {},
   "outputs": [],
   "source": [
    "df_student = pd.read_csv('../../data/csv/student.csv')\n",
    "df_course = pd.read_csv('../../data/csv/server/courses.csv')\n",
    "df_enrollment = pd.read_csv('../../data/csv/server/enrollment.csv')"
   ]
  },
  {
   "cell_type": "code",
   "execution_count": 12,
   "metadata": {},
   "outputs": [
    {
     "data": {
      "text/html": [
       "<div>\n",
       "<style scoped>\n",
       "    .dataframe tbody tr th:only-of-type {\n",
       "        vertical-align: middle;\n",
       "    }\n",
       "\n",
       "    .dataframe tbody tr th {\n",
       "        vertical-align: top;\n",
       "    }\n",
       "\n",
       "    .dataframe thead th {\n",
       "        text-align: right;\n",
       "    }\n",
       "</style>\n",
       "<table border=\"1\" class=\"dataframe\">\n",
       "  <thead>\n",
       "    <tr style=\"text-align: right;\">\n",
       "      <th></th>\n",
       "      <th>Unnamed: 0</th>\n",
       "      <th>course_id</th>\n",
       "      <th>course_name</th>\n",
       "      <th>year</th>\n",
       "    </tr>\n",
       "  </thead>\n",
       "  <tbody>\n",
       "    <tr>\n",
       "      <th>0</th>\n",
       "      <td>0</td>\n",
       "      <td>0</td>\n",
       "      <td>Biological and physiological transport</td>\n",
       "      <td>2006-2007</td>\n",
       "    </tr>\n",
       "    <tr>\n",
       "      <th>1</th>\n",
       "      <td>1</td>\n",
       "      <td>1</td>\n",
       "      <td>Biological and physiological transport</td>\n",
       "      <td>2007-2008</td>\n",
       "    </tr>\n",
       "  </tbody>\n",
       "</table>\n",
       "</div>"
      ],
      "text/plain": [
       "   Unnamed: 0  course_id                             course_name       year\n",
       "0           0          0  Biological and physiological transport  2006-2007\n",
       "1           1          1  Biological and physiological transport  2007-2008"
      ]
     },
     "execution_count": 12,
     "metadata": {},
     "output_type": "execute_result"
    }
   ],
   "source": [
    "df_course.head(2)"
   ]
  },
  {
   "cell_type": "code",
   "execution_count": 13,
   "metadata": {},
   "outputs": [
    {
     "data": {
      "text/html": [
       "<div>\n",
       "<style scoped>\n",
       "    .dataframe tbody tr th:only-of-type {\n",
       "        vertical-align: middle;\n",
       "    }\n",
       "\n",
       "    .dataframe tbody tr th {\n",
       "        vertical-align: top;\n",
       "    }\n",
       "\n",
       "    .dataframe thead th {\n",
       "        text-align: right;\n",
       "    }\n",
       "</style>\n",
       "<table border=\"1\" class=\"dataframe\">\n",
       "  <thead>\n",
       "    <tr style=\"text-align: right;\">\n",
       "      <th></th>\n",
       "      <th>Unnamed: 0</th>\n",
       "      <th>student_id</th>\n",
       "      <th>course_id</th>\n",
       "      <th>semester</th>\n",
       "    </tr>\n",
       "  </thead>\n",
       "  <tbody>\n",
       "    <tr>\n",
       "      <th>0</th>\n",
       "      <td>0</td>\n",
       "      <td>2959</td>\n",
       "      <td>0</td>\n",
       "      <td>Master semestre 2</td>\n",
       "    </tr>\n",
       "    <tr>\n",
       "      <th>1</th>\n",
       "      <td>1</td>\n",
       "      <td>3692</td>\n",
       "      <td>0</td>\n",
       "      <td>Master semestre 2</td>\n",
       "    </tr>\n",
       "    <tr>\n",
       "      <th>2</th>\n",
       "      <td>2</td>\n",
       "      <td>9206</td>\n",
       "      <td>0</td>\n",
       "      <td>Master semestre 2</td>\n",
       "    </tr>\n",
       "    <tr>\n",
       "      <th>3</th>\n",
       "      <td>3</td>\n",
       "      <td>10336</td>\n",
       "      <td>0</td>\n",
       "      <td>Master semestre 2</td>\n",
       "    </tr>\n",
       "    <tr>\n",
       "      <th>4</th>\n",
       "      <td>4</td>\n",
       "      <td>21467</td>\n",
       "      <td>0</td>\n",
       "      <td>Master semestre 2</td>\n",
       "    </tr>\n",
       "  </tbody>\n",
       "</table>\n",
       "</div>"
      ],
      "text/plain": [
       "   Unnamed: 0  student_id  course_id           semester\n",
       "0           0        2959          0  Master semestre 2\n",
       "1           1        3692          0  Master semestre 2\n",
       "2           2        9206          0  Master semestre 2\n",
       "3           3       10336          0  Master semestre 2\n",
       "4           4       21467          0  Master semestre 2"
      ]
     },
     "execution_count": 13,
     "metadata": {},
     "output_type": "execute_result"
    }
   ],
   "source": [
    "df_enrollment.head()"
   ]
  },
  {
   "cell_type": "code",
   "execution_count": 14,
   "metadata": {},
   "outputs": [
    {
     "data": {
      "text/html": [
       "<div>\n",
       "<style scoped>\n",
       "    .dataframe tbody tr th:only-of-type {\n",
       "        vertical-align: middle;\n",
       "    }\n",
       "\n",
       "    .dataframe tbody tr th {\n",
       "        vertical-align: top;\n",
       "    }\n",
       "\n",
       "    .dataframe thead th {\n",
       "        text-align: right;\n",
       "    }\n",
       "</style>\n",
       "<table border=\"1\" class=\"dataframe\">\n",
       "  <thead>\n",
       "    <tr style=\"text-align: right;\">\n",
       "      <th></th>\n",
       "      <th>Unnamed: 0</th>\n",
       "      <th>student_name</th>\n",
       "      <th>section</th>\n",
       "      <th>student_id</th>\n",
       "    </tr>\n",
       "  </thead>\n",
       "  <tbody>\n",
       "    <tr>\n",
       "      <th>0</th>\n",
       "      <td>0</td>\n",
       "      <td>Aabid Fouad</td>\n",
       "      <td>Génie mécanique</td>\n",
       "      <td>0</td>\n",
       "    </tr>\n",
       "    <tr>\n",
       "      <th>1</th>\n",
       "      <td>1</td>\n",
       "      <td>Aamodt Simen</td>\n",
       "      <td>Génie mécanique</td>\n",
       "      <td>1</td>\n",
       "    </tr>\n",
       "    <tr>\n",
       "      <th>2</th>\n",
       "      <td>2</td>\n",
       "      <td>Aanhaanen Simone</td>\n",
       "      <td>Architecture</td>\n",
       "      <td>2</td>\n",
       "    </tr>\n",
       "    <tr>\n",
       "      <th>3</th>\n",
       "      <td>3</td>\n",
       "      <td>Aapro Laurent</td>\n",
       "      <td>Systèmes de communication - master</td>\n",
       "      <td>3</td>\n",
       "    </tr>\n",
       "    <tr>\n",
       "      <th>4</th>\n",
       "      <td>4</td>\n",
       "      <td>Aapro Niccolò</td>\n",
       "      <td>Programme Sciences humaines et sociales</td>\n",
       "      <td>4</td>\n",
       "    </tr>\n",
       "  </tbody>\n",
       "</table>\n",
       "</div>"
      ],
      "text/plain": [
       "   Unnamed: 0      student_name                                  section  \\\n",
       "0           0       Aabid Fouad                          Génie mécanique   \n",
       "1           1      Aamodt Simen                          Génie mécanique   \n",
       "2           2  Aanhaanen Simone                             Architecture   \n",
       "3           3     Aapro Laurent       Systèmes de communication - master   \n",
       "4           4     Aapro Niccolò  Programme Sciences humaines et sociales   \n",
       "\n",
       "   student_id  \n",
       "0           0  \n",
       "1           1  \n",
       "2           2  \n",
       "3           3  \n",
       "4           4  "
      ]
     },
     "execution_count": 14,
     "metadata": {},
     "output_type": "execute_result"
    }
   ],
   "source": [
    "df_student.head()"
   ]
  },
  {
   "cell_type": "markdown",
   "metadata": {},
   "source": [
    "## 2. Set of students enrolled in each course"
   ]
  },
  {
   "cell_type": "markdown",
   "metadata": {},
   "source": [
    "For each course we will now compute the set of students attending that course, we will create a file 'jaccard.csv' to save this info as we will use it often in the visualization."
   ]
  },
  {
   "cell_type": "code",
   "execution_count": 15,
   "metadata": {},
   "outputs": [
    {
     "name": "stderr",
     "output_type": "stream",
     "text": [
      "/anaconda3/envs/ada/lib/python3.7/site-packages/ipykernel_launcher.py:2: FutureWarning:\n",
      "\n",
      "using a dict on a Series for aggregation\n",
      "is deprecated and will be removed in a future version. Use                 named aggregation instead.\n",
      "\n",
      "    >>> grouper.agg(name_1=func_1, name_2=func_2)\n",
      "\n",
      "\n"
     ]
    },
    {
     "data": {
      "text/html": [
       "<div>\n",
       "<style scoped>\n",
       "    .dataframe tbody tr th:only-of-type {\n",
       "        vertical-align: middle;\n",
       "    }\n",
       "\n",
       "    .dataframe tbody tr th {\n",
       "        vertical-align: top;\n",
       "    }\n",
       "\n",
       "    .dataframe thead th {\n",
       "        text-align: right;\n",
       "    }\n",
       "</style>\n",
       "<table border=\"1\" class=\"dataframe\">\n",
       "  <thead>\n",
       "    <tr style=\"text-align: right;\">\n",
       "      <th></th>\n",
       "      <th>course_name</th>\n",
       "      <th>set</th>\n",
       "    </tr>\n",
       "  </thead>\n",
       "  <tbody>\n",
       "    <tr>\n",
       "      <th>0</th>\n",
       "      <td>Numerical approximation of PDE's II</td>\n",
       "      <td>{33792, 18439, 36362, 15374, 17428, 31252, 189...</td>\n",
       "    </tr>\n",
       "    <tr>\n",
       "      <th>1</th>\n",
       "      <td>A Political History of Urban Form</td>\n",
       "      <td>{26634, 44558, 2579, 9748, 39447, 43544, 38941...</td>\n",
       "    </tr>\n",
       "  </tbody>\n",
       "</table>\n",
       "</div>"
      ],
      "text/plain": [
       "                            course_name  \\\n",
       "0   Numerical approximation of PDE's II   \n",
       "1     A Political History of Urban Form   \n",
       "\n",
       "                                                 set  \n",
       "0  {33792, 18439, 36362, 15374, 17428, 31252, 189...  \n",
       "1  {26634, 44558, 2579, 9748, 39447, 43544, 38941...  "
      ]
     },
     "execution_count": 15,
     "metadata": {},
     "output_type": "execute_result"
    }
   ],
   "source": [
    "df_complete = df_course.merge(df_enrollment, on='course_id')\n",
    "df_jaccard = df_complete.groupby('course_name')['student_id'].agg({'set': lambda x: set(x)}).reset_index()\n",
    "df_jaccard.head(2)"
   ]
  },
  {
   "cell_type": "code",
   "execution_count": 16,
   "metadata": {},
   "outputs": [],
   "source": [
    "df_jaccard.to_csv('../../data/csv/jaccard.csv')"
   ]
  },
  {
   "cell_type": "markdown",
   "metadata": {},
   "source": [
    "We will particularly use this file in order to compute the jaccard coefficient between two courses using the students enrolled over the years."
   ]
  },
  {
   "cell_type": "markdown",
   "metadata": {},
   "source": [
    "## 2. The course network"
   ]
  },
  {
   "cell_type": "markdown",
   "metadata": {},
   "source": [
    "Now, we will compute the connection between the courses in our database. We will again use the jaccard coefficient to obtain a similarity measure between courses."
   ]
  },
  {
   "cell_type": "code",
   "execution_count": 17,
   "metadata": {},
   "outputs": [
    {
     "data": {
      "text/html": [
       "<div>\n",
       "<style scoped>\n",
       "    .dataframe tbody tr th:only-of-type {\n",
       "        vertical-align: middle;\n",
       "    }\n",
       "\n",
       "    .dataframe tbody tr th {\n",
       "        vertical-align: top;\n",
       "    }\n",
       "\n",
       "    .dataframe thead th {\n",
       "        text-align: right;\n",
       "    }\n",
       "</style>\n",
       "<table border=\"1\" class=\"dataframe\">\n",
       "  <thead>\n",
       "    <tr style=\"text-align: right;\">\n",
       "      <th></th>\n",
       "      <th>course_name_x</th>\n",
       "      <th>set_x</th>\n",
       "      <th>course_name_y</th>\n",
       "      <th>set_y</th>\n",
       "    </tr>\n",
       "  </thead>\n",
       "  <tbody>\n",
       "    <tr>\n",
       "      <th>0</th>\n",
       "      <td>Numerical approximation of PDE's II</td>\n",
       "      <td>{33792, 18439, 36362, 15374, 17428, 31252, 189...</td>\n",
       "      <td>Numerical approximation of PDE's II</td>\n",
       "      <td>{33792, 18439, 36362, 15374, 17428, 31252, 189...</td>\n",
       "    </tr>\n",
       "    <tr>\n",
       "      <th>1</th>\n",
       "      <td>Numerical approximation of PDE's II</td>\n",
       "      <td>{33792, 18439, 36362, 15374, 17428, 31252, 189...</td>\n",
       "      <td>A Political History of Urban Form</td>\n",
       "      <td>{26634, 44558, 2579, 9748, 39447, 43544, 38941...</td>\n",
       "    </tr>\n",
       "  </tbody>\n",
       "</table>\n",
       "</div>"
      ],
      "text/plain": [
       "                          course_name_x  \\\n",
       "0   Numerical approximation of PDE's II   \n",
       "1   Numerical approximation of PDE's II   \n",
       "\n",
       "                                               set_x  \\\n",
       "0  {33792, 18439, 36362, 15374, 17428, 31252, 189...   \n",
       "1  {33792, 18439, 36362, 15374, 17428, 31252, 189...   \n",
       "\n",
       "                          course_name_y  \\\n",
       "0   Numerical approximation of PDE's II   \n",
       "1     A Political History of Urban Form   \n",
       "\n",
       "                                               set_y  \n",
       "0  {33792, 18439, 36362, 15374, 17428, 31252, 189...  \n",
       "1  {26634, 44558, 2579, 9748, 39447, 43544, 38941...  "
      ]
     },
     "execution_count": 17,
     "metadata": {},
     "output_type": "execute_result"
    }
   ],
   "source": [
    "df_jaccard['key'] = 1\n",
    "df_product = df_jaccard.merge(df_jaccard, on='key')\n",
    "df_product.drop('key', axis=1, inplace=True)\n",
    "df_product.head(2)"
   ]
  },
  {
   "cell_type": "code",
   "execution_count": 18,
   "metadata": {},
   "outputs": [
    {
     "data": {
      "text/html": [
       "<div>\n",
       "<style scoped>\n",
       "    .dataframe tbody tr th:only-of-type {\n",
       "        vertical-align: middle;\n",
       "    }\n",
       "\n",
       "    .dataframe tbody tr th {\n",
       "        vertical-align: top;\n",
       "    }\n",
       "\n",
       "    .dataframe thead th {\n",
       "        text-align: right;\n",
       "    }\n",
       "</style>\n",
       "<table border=\"1\" class=\"dataframe\">\n",
       "  <thead>\n",
       "    <tr style=\"text-align: right;\">\n",
       "      <th></th>\n",
       "      <th>course_name_x</th>\n",
       "      <th>course_name_y</th>\n",
       "      <th>jaccard</th>\n",
       "    </tr>\n",
       "  </thead>\n",
       "  <tbody>\n",
       "    <tr>\n",
       "      <th>0</th>\n",
       "      <td>Numerical approximation of PDE's II</td>\n",
       "      <td>Numerical approximation of PDE's II</td>\n",
       "      <td>1.0</td>\n",
       "    </tr>\n",
       "    <tr>\n",
       "      <th>1</th>\n",
       "      <td>Numerical approximation of PDE's II</td>\n",
       "      <td>A Political History of Urban Form</td>\n",
       "      <td>0.0</td>\n",
       "    </tr>\n",
       "    <tr>\n",
       "      <th>2</th>\n",
       "      <td>Numerical approximation of PDE's II</td>\n",
       "      <td>A guided tour for engineers in applied stochas...</td>\n",
       "      <td>0.0</td>\n",
       "    </tr>\n",
       "    <tr>\n",
       "      <th>3</th>\n",
       "      <td>Numerical approximation of PDE's II</td>\n",
       "      <td>A history of abstraction in architecture</td>\n",
       "      <td>0.0</td>\n",
       "    </tr>\n",
       "    <tr>\n",
       "      <th>4</th>\n",
       "      <td>Numerical approximation of PDE's II</td>\n",
       "      <td>A network tour of data science</td>\n",
       "      <td>0.0</td>\n",
       "    </tr>\n",
       "  </tbody>\n",
       "</table>\n",
       "</div>"
      ],
      "text/plain": [
       "                          course_name_x  \\\n",
       "0   Numerical approximation of PDE's II   \n",
       "1   Numerical approximation of PDE's II   \n",
       "2   Numerical approximation of PDE's II   \n",
       "3   Numerical approximation of PDE's II   \n",
       "4   Numerical approximation of PDE's II   \n",
       "\n",
       "                                       course_name_y  jaccard  \n",
       "0                Numerical approximation of PDE's II      1.0  \n",
       "1                  A Political History of Urban Form      0.0  \n",
       "2  A guided tour for engineers in applied stochas...      0.0  \n",
       "3           A history of abstraction in architecture      0.0  \n",
       "4                     A network tour of data science      0.0  "
      ]
     },
     "execution_count": 18,
     "metadata": {},
     "output_type": "execute_result"
    }
   ],
   "source": [
    "def jaccard(s1, s2):\n",
    "    common = 0\n",
    "    for e in s1:\n",
    "        if e in s2:\n",
    "            common +=1\n",
    "    return common / (len(s1) + len(s2) - common)\n",
    "\n",
    "df_edges = df_product.copy()\n",
    "df_edges['jaccard'] = df_product.apply(lambda x: jaccard(x['set_x'], x['set_y']), axis=1)\n",
    "#df_edges['jaccard'] = df_save\n",
    "df_edges.drop(['set_x', 'set_y'], axis=1, inplace=True)\n",
    "df_edges.head()"
   ]
  },
  {
   "cell_type": "markdown",
   "metadata": {},
   "source": [
    "Save all the jaccard coefficient computed."
   ]
  },
  {
   "cell_type": "code",
   "execution_count": 19,
   "metadata": {},
   "outputs": [],
   "source": [
    "df_edges.to_csv('../../data/csv/all_edges.csv')"
   ]
  },
  {
   "cell_type": "markdown",
   "metadata": {},
   "source": [
    "Now, we will apply an euristic method in order to keep only the most relevant edges. For each node we will keep the top 5% of its neighbours (jaccard > 0)."
   ]
  },
  {
   "cell_type": "code",
   "execution_count": 20,
   "metadata": {},
   "outputs": [
    {
     "data": {
      "text/html": [
       "<div>\n",
       "<style scoped>\n",
       "    .dataframe tbody tr th:only-of-type {\n",
       "        vertical-align: middle;\n",
       "    }\n",
       "\n",
       "    .dataframe tbody tr th {\n",
       "        vertical-align: top;\n",
       "    }\n",
       "\n",
       "    .dataframe thead th {\n",
       "        text-align: right;\n",
       "    }\n",
       "</style>\n",
       "<table border=\"1\" class=\"dataframe\">\n",
       "  <thead>\n",
       "    <tr style=\"text-align: right;\">\n",
       "      <th></th>\n",
       "      <th>course_name</th>\n",
       "      <th>neighbours</th>\n",
       "    </tr>\n",
       "  </thead>\n",
       "  <tbody>\n",
       "    <tr>\n",
       "      <th>0</th>\n",
       "      <td>Numerical approximation of PDE's II</td>\n",
       "      <td>235</td>\n",
       "    </tr>\n",
       "    <tr>\n",
       "      <th>1</th>\n",
       "      <td>A Political History of Urban Form</td>\n",
       "      <td>176</td>\n",
       "    </tr>\n",
       "    <tr>\n",
       "      <th>2</th>\n",
       "      <td>A guided tour for engineers in applied stochas...</td>\n",
       "      <td>185</td>\n",
       "    </tr>\n",
       "    <tr>\n",
       "      <th>3</th>\n",
       "      <td>A history of abstraction in architecture</td>\n",
       "      <td>154</td>\n",
       "    </tr>\n",
       "    <tr>\n",
       "      <th>4</th>\n",
       "      <td>A network tour of data science</td>\n",
       "      <td>625</td>\n",
       "    </tr>\n",
       "  </tbody>\n",
       "</table>\n",
       "</div>"
      ],
      "text/plain": [
       "                                         course_name  neighbours\n",
       "0                Numerical approximation of PDE's II         235\n",
       "1                  A Political History of Urban Form         176\n",
       "2  A guided tour for engineers in applied stochas...         185\n",
       "3           A history of abstraction in architecture         154\n",
       "4                     A network tour of data science         625"
      ]
     },
     "execution_count": 20,
     "metadata": {},
     "output_type": "execute_result"
    }
   ],
   "source": [
    "df_count = df_edges[df_edges['jaccard'] > 0].groupby('course_name_x').count().drop('course_name_y', axis=1).reset_index()\n",
    "df_count.rename(columns={\"course_name_x\": \"course_name\", \"jaccard\": \"neighbours\"}, inplace=True)\n",
    "df_count.head()"
   ]
  },
  {
   "cell_type": "code",
   "execution_count": 21,
   "metadata": {},
   "outputs": [
    {
     "data": {
      "text/plain": [
       "2109"
      ]
     },
     "execution_count": 21,
     "metadata": {},
     "output_type": "execute_result"
    }
   ],
   "source": [
    "size_map = {}\n",
    "for index, row in df_count.iterrows():\n",
    "    size_map[row['course_name']] = row['neighbours']\n",
    "len(size_map) #1976"
   ]
  },
  {
   "cell_type": "code",
   "execution_count": 22,
   "metadata": {},
   "outputs": [
    {
     "data": {
      "text/html": [
       "<div>\n",
       "<style scoped>\n",
       "    .dataframe tbody tr th:only-of-type {\n",
       "        vertical-align: middle;\n",
       "    }\n",
       "\n",
       "    .dataframe tbody tr th {\n",
       "        vertical-align: top;\n",
       "    }\n",
       "\n",
       "    .dataframe thead th {\n",
       "        text-align: right;\n",
       "    }\n",
       "</style>\n",
       "<table border=\"1\" class=\"dataframe\">\n",
       "  <thead>\n",
       "    <tr style=\"text-align: right;\">\n",
       "      <th></th>\n",
       "      <th>course_name</th>\n",
       "      <th>neighbours</th>\n",
       "    </tr>\n",
       "  </thead>\n",
       "  <tbody>\n",
       "  </tbody>\n",
       "</table>\n",
       "</div>"
      ],
      "text/plain": [
       "Empty DataFrame\n",
       "Columns: [course_name, neighbours]\n",
       "Index: []"
      ]
     },
     "execution_count": 22,
     "metadata": {},
     "output_type": "execute_result"
    }
   ],
   "source": [
    "# How many isolated nodes? Looks like none \n",
    "df_count[df_count['neighbours'] == 0]"
   ]
  },
  {
   "cell_type": "code",
   "execution_count": 23,
   "metadata": {
    "scrolled": true
   },
   "outputs": [
    {
     "data": {
      "text/html": [
       "<div>\n",
       "<style scoped>\n",
       "    .dataframe tbody tr th:only-of-type {\n",
       "        vertical-align: middle;\n",
       "    }\n",
       "\n",
       "    .dataframe tbody tr th {\n",
       "        vertical-align: top;\n",
       "    }\n",
       "\n",
       "    .dataframe thead th {\n",
       "        text-align: right;\n",
       "    }\n",
       "</style>\n",
       "<table border=\"1\" class=\"dataframe\">\n",
       "  <thead>\n",
       "    <tr style=\"text-align: right;\">\n",
       "      <th></th>\n",
       "      <th>course_name_x</th>\n",
       "      <th>course_name_y</th>\n",
       "      <th>jaccard</th>\n",
       "    </tr>\n",
       "  </thead>\n",
       "  <tbody>\n",
       "    <tr>\n",
       "      <th>13</th>\n",
       "      <td>Numerical approximation of PDE's II</td>\n",
       "      <td>Advanced algorithms</td>\n",
       "      <td>0.002639</td>\n",
       "    </tr>\n",
       "    <tr>\n",
       "      <th>28</th>\n",
       "      <td>Numerical approximation of PDE's II</td>\n",
       "      <td>Advanced computer graphics</td>\n",
       "      <td>0.001597</td>\n",
       "    </tr>\n",
       "    <tr>\n",
       "      <th>49</th>\n",
       "      <td>Numerical approximation of PDE's II</td>\n",
       "      <td>Advanced methods in computational solid mechanics</td>\n",
       "      <td>0.012048</td>\n",
       "    </tr>\n",
       "    <tr>\n",
       "      <th>50</th>\n",
       "      <td>Numerical approximation of PDE's II</td>\n",
       "      <td>Advanced multiprocessor architecture</td>\n",
       "      <td>0.005208</td>\n",
       "    </tr>\n",
       "    <tr>\n",
       "      <th>56</th>\n",
       "      <td>Numerical approximation of PDE's II</td>\n",
       "      <td>Advanced probability and applications</td>\n",
       "      <td>0.003425</td>\n",
       "    </tr>\n",
       "  </tbody>\n",
       "</table>\n",
       "</div>"
      ],
      "text/plain": [
       "                           course_name_x  \\\n",
       "13   Numerical approximation of PDE's II   \n",
       "28   Numerical approximation of PDE's II   \n",
       "49   Numerical approximation of PDE's II   \n",
       "50   Numerical approximation of PDE's II   \n",
       "56   Numerical approximation of PDE's II   \n",
       "\n",
       "                                        course_name_y   jaccard  \n",
       "13                                Advanced algorithms  0.002639  \n",
       "28                         Advanced computer graphics  0.001597  \n",
       "49  Advanced methods in computational solid mechanics  0.012048  \n",
       "50               Advanced multiprocessor architecture  0.005208  \n",
       "56              Advanced probability and applications  0.003425  "
      ]
     },
     "execution_count": 23,
     "metadata": {},
     "output_type": "execute_result"
    }
   ],
   "source": [
    "# Remove self-loops\n",
    "df_edges = df_edges[df_edges['course_name_x'] != df_edges['course_name_y']]\n",
    "# Remove edges with zero value\n",
    "df_edges = df_edges[df_edges['jaccard'] > 0]\n",
    "df_edges.head(5)"
   ]
  },
  {
   "cell_type": "markdown",
   "metadata": {},
   "source": [
    "## Version 0: too crowded"
   ]
  },
  {
   "cell_type": "code",
   "execution_count": 24,
   "metadata": {},
   "outputs": [
    {
     "data": {
      "text/html": [
       "<div>\n",
       "<style scoped>\n",
       "    .dataframe tbody tr th:only-of-type {\n",
       "        vertical-align: middle;\n",
       "    }\n",
       "\n",
       "    .dataframe tbody tr th {\n",
       "        vertical-align: top;\n",
       "    }\n",
       "\n",
       "    .dataframe thead th {\n",
       "        text-align: right;\n",
       "    }\n",
       "</style>\n",
       "<table border=\"1\" class=\"dataframe\">\n",
       "  <thead>\n",
       "    <tr style=\"text-align: right;\">\n",
       "      <th></th>\n",
       "      <th>course_name_x</th>\n",
       "      <th>course_name_y</th>\n",
       "      <th>jaccard</th>\n",
       "    </tr>\n",
       "  </thead>\n",
       "  <tbody>\n",
       "    <tr>\n",
       "      <th>1268</th>\n",
       "      <td>Numerical approximation of PDE's II</td>\n",
       "      <td>Numerical approximation of PDE's I</td>\n",
       "      <td>0.280220</td>\n",
       "    </tr>\n",
       "    <tr>\n",
       "      <th>1273</th>\n",
       "      <td>Numerical approximation of PDE's II</td>\n",
       "      <td>Numerical integration of dynamical systems</td>\n",
       "      <td>0.244898</td>\n",
       "    </tr>\n",
       "    <tr>\n",
       "      <th>361</th>\n",
       "      <td>Numerical approximation of PDE's II</td>\n",
       "      <td>Computational linear algebra</td>\n",
       "      <td>0.156028</td>\n",
       "    </tr>\n",
       "    <tr>\n",
       "      <th>1272</th>\n",
       "      <td>Numerical approximation of PDE's II</td>\n",
       "      <td>Numerical integration  of stochastic different...</td>\n",
       "      <td>0.151961</td>\n",
       "    </tr>\n",
       "    <tr>\n",
       "      <th>1274</th>\n",
       "      <td>Numerical approximation of PDE's II</td>\n",
       "      <td>Numerical methods for conservation laws</td>\n",
       "      <td>0.144578</td>\n",
       "    </tr>\n",
       "    <tr>\n",
       "      <th>2589</th>\n",
       "      <td>A Political History of Urban Form</td>\n",
       "      <td>Difficult Double: Trouble with Classicists</td>\n",
       "      <td>0.277344</td>\n",
       "    </tr>\n",
       "    <tr>\n",
       "      <th>2539</th>\n",
       "      <td>A Political History of Urban Form</td>\n",
       "      <td>Critique du projet urbain contemporain</td>\n",
       "      <td>0.197581</td>\n",
       "    </tr>\n",
       "    <tr>\n",
       "      <th>4203</th>\n",
       "      <td>A Political History of Urban Form</td>\n",
       "      <td>Why care? Une introduction à l'art contemporain</td>\n",
       "      <td>0.185897</td>\n",
       "    </tr>\n",
       "    <tr>\n",
       "      <th>4196</th>\n",
       "      <td>A Political History of Urban Form</td>\n",
       "      <td>Visionnaires éclectiques. Architectures, 2000-...</td>\n",
       "      <td>0.183673</td>\n",
       "    </tr>\n",
       "    <tr>\n",
       "      <th>2239</th>\n",
       "      <td>A Political History of Urban Form</td>\n",
       "      <td>Apparent realities - Constructing the view</td>\n",
       "      <td>0.158491</td>\n",
       "    </tr>\n",
       "    <tr>\n",
       "      <th>5194</th>\n",
       "      <td>A guided tour for engineers in applied stochas...</td>\n",
       "      <td>L'ingénieur dans R&amp;D industriels</td>\n",
       "      <td>0.082734</td>\n",
       "    </tr>\n",
       "    <tr>\n",
       "      <th>6022</th>\n",
       "      <td>A guided tour for engineers in applied stochas...</td>\n",
       "      <td>Techniques d'assemblage I</td>\n",
       "      <td>0.080139</td>\n",
       "    </tr>\n",
       "    <tr>\n",
       "      <th>6023</th>\n",
       "      <td>A guided tour for engineers in applied stochas...</td>\n",
       "      <td>Techniques d'assemblage II</td>\n",
       "      <td>0.078571</td>\n",
       "    </tr>\n",
       "    <tr>\n",
       "      <th>4388</th>\n",
       "      <td>A guided tour for engineers in applied stochas...</td>\n",
       "      <td>Assemblage et robotique TP</td>\n",
       "      <td>0.078014</td>\n",
       "    </tr>\n",
       "    <tr>\n",
       "      <th>5285</th>\n",
       "      <td>A guided tour for engineers in applied stochas...</td>\n",
       "      <td>Management of Enterprise Networks and Supply C...</td>\n",
       "      <td>0.074257</td>\n",
       "    </tr>\n",
       "    <tr>\n",
       "      <th>6457</th>\n",
       "      <td>A history of abstraction in architecture</td>\n",
       "      <td>Apparent realities - Constructing the view</td>\n",
       "      <td>0.327869</td>\n",
       "    </tr>\n",
       "    <tr>\n",
       "      <th>6757</th>\n",
       "      <td>A history of abstraction in architecture</td>\n",
       "      <td>Critique du projet urbain contemporain</td>\n",
       "      <td>0.313808</td>\n",
       "    </tr>\n",
       "    <tr>\n",
       "      <th>8414</th>\n",
       "      <td>A history of abstraction in architecture</td>\n",
       "      <td>Visionnaires éclectiques. Architectures, 2000-...</td>\n",
       "      <td>0.303665</td>\n",
       "    </tr>\n",
       "    <tr>\n",
       "      <th>7447</th>\n",
       "      <td>A history of abstraction in architecture</td>\n",
       "      <td>Michelangelo and the experience of space</td>\n",
       "      <td>0.274510</td>\n",
       "    </tr>\n",
       "    <tr>\n",
       "      <th>7806</th>\n",
       "      <td>A history of abstraction in architecture</td>\n",
       "      <td>Projets métaphoriques d'Archizoom à Koolhaas</td>\n",
       "      <td>0.186158</td>\n",
       "    </tr>\n",
       "  </tbody>\n",
       "</table>\n",
       "</div>"
      ],
      "text/plain": [
       "                                          course_name_x  \\\n",
       "1268                Numerical approximation of PDE's II   \n",
       "1273                Numerical approximation of PDE's II   \n",
       "361                 Numerical approximation of PDE's II   \n",
       "1272                Numerical approximation of PDE's II   \n",
       "1274                Numerical approximation of PDE's II   \n",
       "2589                  A Political History of Urban Form   \n",
       "2539                  A Political History of Urban Form   \n",
       "4203                  A Political History of Urban Form   \n",
       "4196                  A Political History of Urban Form   \n",
       "2239                  A Political History of Urban Form   \n",
       "5194  A guided tour for engineers in applied stochas...   \n",
       "6022  A guided tour for engineers in applied stochas...   \n",
       "6023  A guided tour for engineers in applied stochas...   \n",
       "4388  A guided tour for engineers in applied stochas...   \n",
       "5285  A guided tour for engineers in applied stochas...   \n",
       "6457           A history of abstraction in architecture   \n",
       "6757           A history of abstraction in architecture   \n",
       "8414           A history of abstraction in architecture   \n",
       "7447           A history of abstraction in architecture   \n",
       "7806           A history of abstraction in architecture   \n",
       "\n",
       "                                          course_name_y   jaccard  \n",
       "1268                 Numerical approximation of PDE's I  0.280220  \n",
       "1273         Numerical integration of dynamical systems  0.244898  \n",
       "361                        Computational linear algebra  0.156028  \n",
       "1272  Numerical integration  of stochastic different...  0.151961  \n",
       "1274            Numerical methods for conservation laws  0.144578  \n",
       "2589         Difficult Double: Trouble with Classicists  0.277344  \n",
       "2539             Critique du projet urbain contemporain  0.197581  \n",
       "4203    Why care? Une introduction à l'art contemporain  0.185897  \n",
       "4196  Visionnaires éclectiques. Architectures, 2000-...  0.183673  \n",
       "2239         Apparent realities - Constructing the view  0.158491  \n",
       "5194                   L'ingénieur dans R&D industriels  0.082734  \n",
       "6022                          Techniques d'assemblage I  0.080139  \n",
       "6023                         Techniques d'assemblage II  0.078571  \n",
       "4388                         Assemblage et robotique TP  0.078014  \n",
       "5285  Management of Enterprise Networks and Supply C...  0.074257  \n",
       "6457         Apparent realities - Constructing the view  0.327869  \n",
       "6757             Critique du projet urbain contemporain  0.313808  \n",
       "8414  Visionnaires éclectiques. Architectures, 2000-...  0.303665  \n",
       "7447           Michelangelo and the experience of space  0.274510  \n",
       "7806       Projets métaphoriques d'Archizoom à Koolhaas  0.186158  "
      ]
     },
     "execution_count": 24,
     "metadata": {},
     "output_type": "execute_result"
    }
   ],
   "source": [
    "def keep_friends(g):\n",
    "    for course_name in set(g['course_name_x']):\n",
    "        return g.nlargest(5, \"jaccard\")\n",
    "\n",
    "df_edges_planar = df_edges.groupby('course_name_x', group_keys=False).apply(keep_friends)\n",
    "df_edges_planar.head(20)"
   ]
  },
  {
   "cell_type": "code",
   "execution_count": 25,
   "metadata": {},
   "outputs": [],
   "source": [
    "df_edges_planar.to_csv('../../data/csv/server/course_network_v0.csv')"
   ]
  },
  {
   "cell_type": "markdown",
   "metadata": {},
   "source": [
    "## Version 1: planar but unconnected"
   ]
  },
  {
   "cell_type": "markdown",
   "metadata": {},
   "source": [
    "Do not run, too long and we are not using this version! <br>\n",
    "Go to <b>Version 2</b>"
   ]
  },
  {
   "cell_type": "code",
   "execution_count": null,
   "metadata": {},
   "outputs": [],
   "source": [
    "len(df_edges_planar)"
   ]
  },
  {
   "cell_type": "code",
   "execution_count": null,
   "metadata": {},
   "outputs": [],
   "source": [
    "2893*3"
   ]
  },
  {
   "cell_type": "code",
   "execution_count": null,
   "metadata": {},
   "outputs": [],
   "source": [
    "# Sorting the edges: first the less important\n",
    "df_edges_planar = df_edges_planar.sort_values('jaccard', ascending=True)\n",
    "df_edges_planar.head()"
   ]
  },
  {
   "cell_type": "markdown",
   "metadata": {},
   "source": [
    "Let's take a look at our graph. Is it connected?"
   ]
  },
  {
   "cell_type": "code",
   "execution_count": null,
   "metadata": {},
   "outputs": [],
   "source": [
    "nx.is_connected(graph)"
   ]
  },
  {
   "cell_type": "markdown",
   "metadata": {},
   "source": [
    "It is not connected, we can print the size of each connected component to have an idea of its topology."
   ]
  },
  {
   "cell_type": "code",
   "execution_count": null,
   "metadata": {},
   "outputs": [],
   "source": [
    "[len(c) for c in sorted(nx.connected_components(graph), key=len, reverse=True)]"
   ]
  },
  {
   "cell_type": "markdown",
   "metadata": {},
   "source": [
    "Now, we will try to generate a planar graph."
   ]
  },
  {
   "cell_type": "code",
   "execution_count": null,
   "metadata": {},
   "outputs": [],
   "source": [
    "graph = nx.from_pandas_edgelist(df_edges_planar, source='course_name_x', target='course_name_y')\n",
    "nx.algorithms.planarity.check_planarity(graph)"
   ]
  },
  {
   "cell_type": "code",
   "execution_count": null,
   "metadata": {},
   "outputs": [],
   "source": [
    "# [len(c) if len(c) > 20 else 'sob' for c in sorted(nx.connected_components(graph), key=len, reverse=True)]\n",
    "lst_edges = df_edges_planar.values.tolist()\n",
    "lst_edges[:3]"
   ]
  },
  {
   "cell_type": "markdown",
   "metadata": {},
   "source": [
    "We will now remove the less impotant edges following the criteria:\n",
    "* Take the edge with the smallest value with has not been saved\n",
    "* If the edge does not disconnect the graph, remove it. Othewise save it and restart\n",
    "* Check if graph is planar, if not repeat"
   ]
  },
  {
   "cell_type": "code",
   "execution_count": null,
   "metadata": {},
   "outputs": [],
   "source": [
    "# WARNING: long running time\n",
    "index = 0\n",
    "removed = 0\n",
    "cc = len(sorted(nx.connected_components(graph), key=len, reverse=True))\n",
    "while not nx.algorithms.planarity.check_planarity(graph)[0]:\n",
    "    source = lst_edges[index][0]\n",
    "    target = lst_edges[index][1]\n",
    "    \n",
    "    if graph.has_edge(source, target):\n",
    "        graph.remove_edge(source, target)\n",
    "        if len(sorted(nx.connected_components(graph), key=len, reverse=True)) != cc:\n",
    "            graph.add_edge(source, target)\n",
    "        else:\n",
    "            removed += 1\n",
    "    index += 1\n",
    "    if index % 1000 == 0:   \n",
    "        print(index, removed)\n",
    "    \n",
    "nx.algorithms.planarity.check_planarity(graph)"
   ]
  },
  {
   "cell_type": "markdown",
   "metadata": {},
   "source": [
    "Now, how many edges are left in our network?"
   ]
  },
  {
   "cell_type": "code",
   "execution_count": null,
   "metadata": {},
   "outputs": [],
   "source": [
    "2 * len(graph.edges) / len(graph.nodes)"
   ]
  },
  {
   "cell_type": "markdown",
   "metadata": {},
   "source": [
    "The average degree is 2, which is quite low!"
   ]
  },
  {
   "cell_type": "code",
   "execution_count": null,
   "metadata": {},
   "outputs": [],
   "source": [
    "nx.draw(graph)"
   ]
  },
  {
   "cell_type": "markdown",
   "metadata": {},
   "source": [
    "So, we decided to try to readd those edges which do not break planarity."
   ]
  },
  {
   "cell_type": "code",
   "execution_count": null,
   "metadata": {},
   "outputs": [],
   "source": [
    "df_edges_planar = df_edges_planar.sort_values('jaccard', ascending=False)\n",
    "incr_edge_list = df_edges_planar.values.tolist()\n",
    "incr_edge_list[:3]"
   ]
  },
  {
   "cell_type": "code",
   "execution_count": null,
   "metadata": {},
   "outputs": [],
   "source": [
    "# WARNING: long running time\n",
    "index = 0\n",
    "added = 0\n",
    "for edge in incr_edge_list:\n",
    "    source = edge[0]\n",
    "    target = edge[1]\n",
    "    if not graph.has_edge(source, target):\n",
    "        graph.add_edge(source, target)\n",
    "        if not nx.algorithms.planarity.check_planarity(graph)[0]:\n",
    "            graph.remove_edge(source, target)\n",
    "        else:\n",
    "            added += 1\n",
    "    index += 1\n",
    "    if index % 1000 == 0:\n",
    "        print(index, added)\n",
    "\n",
    "nx.algorithms.planarity.check_planarity(graph)[0]\n",
    "        "
   ]
  },
  {
   "cell_type": "code",
   "execution_count": null,
   "metadata": {},
   "outputs": [],
   "source": [
    "df_edges_planar = nx.to_pandas_edgelist(graph)\n",
    "df_edges_planar.head()"
   ]
  },
  {
   "cell_type": "markdown",
   "metadata": {},
   "source": [
    "Save this edges in a CSV file."
   ]
  },
  {
   "cell_type": "code",
   "execution_count": null,
   "metadata": {},
   "outputs": [],
   "source": [
    "df_edges_planar.to_csv('../../data/csv/server/course_network_v1.csv')"
   ]
  },
  {
   "cell_type": "markdown",
   "metadata": {},
   "source": [
    "## Version 2: better balance"
   ]
  },
  {
   "cell_type": "code",
   "execution_count": 26,
   "metadata": {},
   "outputs": [],
   "source": [
    "def keep_3_friends(g):\n",
    "    for course_name in set(g['course_name_x']):\n",
    "        return g.nlargest(3, \"jaccard\")\n",
    "\n",
    "df_edges_planar = df_edges.groupby('course_name_x', group_keys=False).apply(keep_3_friends)"
   ]
  },
  {
   "cell_type": "code",
   "execution_count": 27,
   "metadata": {},
   "outputs": [],
   "source": [
    "df_edges_planar.to_csv('../../data/csv/server/course_network_v2.csv')"
   ]
  },
  {
   "cell_type": "code",
   "execution_count": null,
   "metadata": {},
   "outputs": [],
   "source": []
  }
 ],
 "metadata": {
  "kernelspec": {
   "display_name": "Python 3",
   "language": "python",
   "name": "python3"
  },
  "language_info": {
   "codemirror_mode": {
    "name": "ipython",
    "version": 3
   },
   "file_extension": ".py",
   "mimetype": "text/x-python",
   "name": "python",
   "nbconvert_exporter": "python",
   "pygments_lexer": "ipython3",
   "version": "3.7.6"
  }
 },
 "nbformat": 4,
 "nbformat_minor": 4
}
