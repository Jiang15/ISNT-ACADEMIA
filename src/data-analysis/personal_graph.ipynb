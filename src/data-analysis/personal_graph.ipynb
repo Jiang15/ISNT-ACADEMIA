{
 "cells": [
  {
   "cell_type": "markdown",
   "metadata": {},
   "source": [
    "# Course's network data"
   ]
  },
  {
   "cell_type": "markdown",
   "metadata": {},
   "source": [
    "In this notebook we will analyze the similarity between different courses. <br>\n",
    "Each course corresponds to a set of students who were enrolled in it, we will define the 'similarity' between two courses as the Jaccard coefficient between the two set of students who were enrolled in those courses. <br>\n",
    "\n",
    "\n",
    "---\n",
    "<b> An example: </b> <br>\n",
    "Take two courses: Machine learning and  Applied data analysis. <br>\n",
    "We define the students enrolled in ML course as the set A, the ones enrolled in ADA as B. <br>\n",
    "Then, the similarity between those two courses is equal to the Jaccard coefficient between A and B. <br>\n",
    "<img src=\"../images/jaccard.png\"> <br>\n",
    "\n",
    "---\n",
    "<br>\n",
    "For our final visualization, we will build a network in which the courses will be nodes and, each course will be connected to the most 'similar' courses. <br>\n",
    "In this notebook, we will build the underlying network. We will apply an heuristic that will create a planar graph in order to help us in a latter phase of our visualization.\n"
   ]
  },
  {
   "cell_type": "markdown",
   "metadata": {},
   "source": [
    "## 1. Load the data set"
   ]
  },
  {
   "cell_type": "markdown",
   "metadata": {},
   "source": [
    "First, we will import a set of libraries that will be useful for our analysis."
   ]
  },
  {
   "cell_type": "code",
   "execution_count": 31,
   "metadata": {},
   "outputs": [],
   "source": [
    "import pandas as pd\n",
    "from matplotlib import pyplot as plt\n",
    "import plotly.express as px\n",
    "import numpy as np\n",
    "from sklearn.decomposition import PCA\n",
    "from sklearn.manifold import TSNE\n",
    "import networkx as nx\n",
    "\n",
    "%matplotlib inline"
   ]
  },
  {
   "cell_type": "markdown",
   "metadata": {},
   "source": [
    "Now, we will red the data. They are divided into 3 main data sets:\n",
    "* <b> Student: </b> contains informations about each student erolled at EPFL\n",
    "* <b> Courses: </b> contains informations about all courses offere by EPFL at master level\n",
    "* <b> Enrollment: </b> contains informations about student enrollment in courses"
   ]
  },
  {
   "cell_type": "code",
   "execution_count": 5,
   "metadata": {},
   "outputs": [],
   "source": [
    "df_student = pd.read_csv('../../data/csv/student.csv')\n",
    "df_course = pd.read_csv('../../data/csv/courses.csv')\n",
    "df_enrollment = pd.read_csv('../../data/csv/enrollment.csv')"
   ]
  },
  {
   "cell_type": "code",
   "execution_count": 7,
   "metadata": {},
   "outputs": [
    {
     "data": {
      "text/html": [
       "<div>\n",
       "<style scoped>\n",
       "    .dataframe tbody tr th:only-of-type {\n",
       "        vertical-align: middle;\n",
       "    }\n",
       "\n",
       "    .dataframe tbody tr th {\n",
       "        vertical-align: top;\n",
       "    }\n",
       "\n",
       "    .dataframe thead th {\n",
       "        text-align: right;\n",
       "    }\n",
       "</style>\n",
       "<table border=\"1\" class=\"dataframe\">\n",
       "  <thead>\n",
       "    <tr style=\"text-align: right;\">\n",
       "      <th></th>\n",
       "      <th>Unnamed: 0</th>\n",
       "      <th>course_id</th>\n",
       "      <th>course_name</th>\n",
       "      <th>year</th>\n",
       "    </tr>\n",
       "  </thead>\n",
       "  <tbody>\n",
       "    <tr>\n",
       "      <th>0</th>\n",
       "      <td>0</td>\n",
       "      <td>0</td>\n",
       "      <td>Biological and physiological transport</td>\n",
       "      <td>2006-2007</td>\n",
       "    </tr>\n",
       "    <tr>\n",
       "      <th>1</th>\n",
       "      <td>1</td>\n",
       "      <td>1</td>\n",
       "      <td>Biological and physiological transport</td>\n",
       "      <td>2007-2008</td>\n",
       "    </tr>\n",
       "  </tbody>\n",
       "</table>\n",
       "</div>"
      ],
      "text/plain": [
       "   Unnamed: 0  course_id                             course_name       year\n",
       "0           0          0  Biological and physiological transport  2006-2007\n",
       "1           1          1  Biological and physiological transport  2007-2008"
      ]
     },
     "execution_count": 7,
     "metadata": {},
     "output_type": "execute_result"
    }
   ],
   "source": [
    "df_course.head(2)"
   ]
  },
  {
   "cell_type": "code",
   "execution_count": 8,
   "metadata": {},
   "outputs": [
    {
     "data": {
      "text/html": [
       "<div>\n",
       "<style scoped>\n",
       "    .dataframe tbody tr th:only-of-type {\n",
       "        vertical-align: middle;\n",
       "    }\n",
       "\n",
       "    .dataframe tbody tr th {\n",
       "        vertical-align: top;\n",
       "    }\n",
       "\n",
       "    .dataframe thead th {\n",
       "        text-align: right;\n",
       "    }\n",
       "</style>\n",
       "<table border=\"1\" class=\"dataframe\">\n",
       "  <thead>\n",
       "    <tr style=\"text-align: right;\">\n",
       "      <th></th>\n",
       "      <th>Unnamed: 0</th>\n",
       "      <th>student_id</th>\n",
       "      <th>course_id</th>\n",
       "      <th>semester</th>\n",
       "    </tr>\n",
       "  </thead>\n",
       "  <tbody>\n",
       "    <tr>\n",
       "      <th>0</th>\n",
       "      <td>0</td>\n",
       "      <td>3692</td>\n",
       "      <td>0</td>\n",
       "      <td>Master semestre 2</td>\n",
       "    </tr>\n",
       "  </tbody>\n",
       "</table>\n",
       "</div>"
      ],
      "text/plain": [
       "   Unnamed: 0  student_id  course_id           semester\n",
       "0           0        3692          0  Master semestre 2"
      ]
     },
     "execution_count": 8,
     "metadata": {},
     "output_type": "execute_result"
    }
   ],
   "source": [
    "df_enrollment.head()"
   ]
  },
  {
   "cell_type": "code",
   "execution_count": 8,
   "metadata": {},
   "outputs": [
    {
     "data": {
      "text/html": [
       "<div>\n",
       "<style scoped>\n",
       "    .dataframe tbody tr th:only-of-type {\n",
       "        vertical-align: middle;\n",
       "    }\n",
       "\n",
       "    .dataframe tbody tr th {\n",
       "        vertical-align: top;\n",
       "    }\n",
       "\n",
       "    .dataframe thead th {\n",
       "        text-align: right;\n",
       "    }\n",
       "</style>\n",
       "<table border=\"1\" class=\"dataframe\">\n",
       "  <thead>\n",
       "    <tr style=\"text-align: right;\">\n",
       "      <th></th>\n",
       "      <th>Unnamed: 0</th>\n",
       "      <th>student_name</th>\n",
       "      <th>section</th>\n",
       "      <th>student_id</th>\n",
       "    </tr>\n",
       "  </thead>\n",
       "  <tbody>\n",
       "    <tr>\n",
       "      <th>0</th>\n",
       "      <td>0</td>\n",
       "      <td>Aabid Fouad</td>\n",
       "      <td>Génie mécanique</td>\n",
       "      <td>0</td>\n",
       "    </tr>\n",
       "    <tr>\n",
       "      <th>1</th>\n",
       "      <td>1</td>\n",
       "      <td>Aamodt Simen</td>\n",
       "      <td>Génie mécanique</td>\n",
       "      <td>1</td>\n",
       "    </tr>\n",
       "    <tr>\n",
       "      <th>2</th>\n",
       "      <td>2</td>\n",
       "      <td>Aanhaanen Simone</td>\n",
       "      <td>Architecture</td>\n",
       "      <td>2</td>\n",
       "    </tr>\n",
       "    <tr>\n",
       "      <th>3</th>\n",
       "      <td>3</td>\n",
       "      <td>Aapro Laurent</td>\n",
       "      <td>Systèmes de communication - master</td>\n",
       "      <td>3</td>\n",
       "    </tr>\n",
       "    <tr>\n",
       "      <th>4</th>\n",
       "      <td>4</td>\n",
       "      <td>Aapro Niccolò</td>\n",
       "      <td>Informatique</td>\n",
       "      <td>4</td>\n",
       "    </tr>\n",
       "  </tbody>\n",
       "</table>\n",
       "</div>"
      ],
      "text/plain": [
       "   Unnamed: 0      student_name                             section  \\\n",
       "0           0       Aabid Fouad                     Génie mécanique   \n",
       "1           1      Aamodt Simen                     Génie mécanique   \n",
       "2           2  Aanhaanen Simone                        Architecture   \n",
       "3           3     Aapro Laurent  Systèmes de communication - master   \n",
       "4           4     Aapro Niccolò                        Informatique   \n",
       "\n",
       "   student_id  \n",
       "0           0  \n",
       "1           1  \n",
       "2           2  \n",
       "3           3  \n",
       "4           4  "
      ]
     },
     "execution_count": 8,
     "metadata": {},
     "output_type": "execute_result"
    }
   ],
   "source": [
    "df_student.head()"
   ]
  },
  {
   "cell_type": "markdown",
   "metadata": {},
   "source": [
    "## 2. Set of students enrolled in each course"
   ]
  },
  {
   "cell_type": "markdown",
   "metadata": {},
   "source": [
    "For each course we will now compute the set of students attending that course, we will create a file 'jaccard.csv' to save this info as we will use it often in the visualization."
   ]
  },
  {
   "cell_type": "code",
   "execution_count": 13,
   "metadata": {},
   "outputs": [
    {
     "name": "stderr",
     "output_type": "stream",
     "text": [
      "/anaconda3/envs/ada/lib/python3.7/site-packages/ipykernel_launcher.py:2: FutureWarning:\n",
      "\n",
      "using a dict on a Series for aggregation\n",
      "is deprecated and will be removed in a future version. Use                 named aggregation instead.\n",
      "\n",
      "    >>> grouper.agg(name_1=func_1, name_2=func_2)\n",
      "\n",
      "\n"
     ]
    },
    {
     "data": {
      "text/html": [
       "<div>\n",
       "<style scoped>\n",
       "    .dataframe tbody tr th:only-of-type {\n",
       "        vertical-align: middle;\n",
       "    }\n",
       "\n",
       "    .dataframe tbody tr th {\n",
       "        vertical-align: top;\n",
       "    }\n",
       "\n",
       "    .dataframe thead th {\n",
       "        text-align: right;\n",
       "    }\n",
       "</style>\n",
       "<table border=\"1\" class=\"dataframe\">\n",
       "  <thead>\n",
       "    <tr style=\"text-align: right;\">\n",
       "      <th></th>\n",
       "      <th>course_name</th>\n",
       "      <th>set</th>\n",
       "    </tr>\n",
       "  </thead>\n",
       "  <tbody>\n",
       "    <tr>\n",
       "      <th>0</th>\n",
       "      <td>Numerical approximation of PDE's II</td>\n",
       "      <td>{33792, 18439, 36362, 37773, 15374, 20879, 359...</td>\n",
       "    </tr>\n",
       "    <tr>\n",
       "      <th>1</th>\n",
       "      <td>3D Electron Microscopy and FIB-Nanotomography</td>\n",
       "      <td>{35843, 34309, 5650, 539, 32805, 7720, 7733, 2...</td>\n",
       "    </tr>\n",
       "  </tbody>\n",
       "</table>\n",
       "</div>"
      ],
      "text/plain": [
       "                                     course_name  \\\n",
       "0            Numerical approximation of PDE's II   \n",
       "1  3D Electron Microscopy and FIB-Nanotomography   \n",
       "\n",
       "                                                 set  \n",
       "0  {33792, 18439, 36362, 37773, 15374, 20879, 359...  \n",
       "1  {35843, 34309, 5650, 539, 32805, 7720, 7733, 2...  "
      ]
     },
     "execution_count": 13,
     "metadata": {},
     "output_type": "execute_result"
    }
   ],
   "source": [
    "df_complete = df_course.merge(df_enrollment, on='course_id')\n",
    "df_jaccard = df_complete.groupby('course_name')['student_id'].agg({'set': lambda x: set(x)}).reset_index()\n",
    "df_jaccard.head(2)"
   ]
  },
  {
   "cell_type": "code",
   "execution_count": 14,
   "metadata": {},
   "outputs": [],
   "source": [
    "df_jaccard.to_csv('../../data/csv/jaccard.csv')"
   ]
  },
  {
   "cell_type": "markdown",
   "metadata": {},
   "source": [
    "We will particularly use this file in order to compute the jaccard coefficient between two courses using the students enrolled over the years."
   ]
  },
  {
   "cell_type": "markdown",
   "metadata": {},
   "source": [
    "## 2. The course network"
   ]
  },
  {
   "cell_type": "markdown",
   "metadata": {},
   "source": [
    "Now, we will compute the connection between the courses in our database. We will again use the jaccard coefficient to obtain a similarity measure between courses."
   ]
  },
  {
   "cell_type": "code",
   "execution_count": 15,
   "metadata": {},
   "outputs": [
    {
     "data": {
      "text/html": [
       "<div>\n",
       "<style scoped>\n",
       "    .dataframe tbody tr th:only-of-type {\n",
       "        vertical-align: middle;\n",
       "    }\n",
       "\n",
       "    .dataframe tbody tr th {\n",
       "        vertical-align: top;\n",
       "    }\n",
       "\n",
       "    .dataframe thead th {\n",
       "        text-align: right;\n",
       "    }\n",
       "</style>\n",
       "<table border=\"1\" class=\"dataframe\">\n",
       "  <thead>\n",
       "    <tr style=\"text-align: right;\">\n",
       "      <th></th>\n",
       "      <th>course_name_x</th>\n",
       "      <th>set_x</th>\n",
       "      <th>course_name_y</th>\n",
       "      <th>set_y</th>\n",
       "    </tr>\n",
       "  </thead>\n",
       "  <tbody>\n",
       "    <tr>\n",
       "      <th>0</th>\n",
       "      <td>Numerical approximation of PDE's II</td>\n",
       "      <td>{33792, 18439, 36362, 37773, 15374, 20879, 359...</td>\n",
       "      <td>Numerical approximation of PDE's II</td>\n",
       "      <td>{33792, 18439, 36362, 37773, 15374, 20879, 359...</td>\n",
       "    </tr>\n",
       "    <tr>\n",
       "      <th>1</th>\n",
       "      <td>Numerical approximation of PDE's II</td>\n",
       "      <td>{33792, 18439, 36362, 37773, 15374, 20879, 359...</td>\n",
       "      <td>3D Electron Microscopy and FIB-Nanotomography</td>\n",
       "      <td>{35843, 34309, 5650, 539, 32805, 7720, 7733, 2...</td>\n",
       "    </tr>\n",
       "  </tbody>\n",
       "</table>\n",
       "</div>"
      ],
      "text/plain": [
       "                          course_name_x  \\\n",
       "0   Numerical approximation of PDE's II   \n",
       "1   Numerical approximation of PDE's II   \n",
       "\n",
       "                                               set_x  \\\n",
       "0  {33792, 18439, 36362, 37773, 15374, 20879, 359...   \n",
       "1  {33792, 18439, 36362, 37773, 15374, 20879, 359...   \n",
       "\n",
       "                                   course_name_y  \\\n",
       "0            Numerical approximation of PDE's II   \n",
       "1  3D Electron Microscopy and FIB-Nanotomography   \n",
       "\n",
       "                                               set_y  \n",
       "0  {33792, 18439, 36362, 37773, 15374, 20879, 359...  \n",
       "1  {35843, 34309, 5650, 539, 32805, 7720, 7733, 2...  "
      ]
     },
     "execution_count": 15,
     "metadata": {},
     "output_type": "execute_result"
    }
   ],
   "source": [
    "df_jaccard['key'] = 1\n",
    "df_product = df_jaccard.merge(df_jaccard, on='key')\n",
    "df_product.drop('key', axis=1, inplace=True)\n",
    "df_product.head(2)"
   ]
  },
  {
   "cell_type": "code",
   "execution_count": 16,
   "metadata": {},
   "outputs": [
    {
     "data": {
      "text/html": [
       "<div>\n",
       "<style scoped>\n",
       "    .dataframe tbody tr th:only-of-type {\n",
       "        vertical-align: middle;\n",
       "    }\n",
       "\n",
       "    .dataframe tbody tr th {\n",
       "        vertical-align: top;\n",
       "    }\n",
       "\n",
       "    .dataframe thead th {\n",
       "        text-align: right;\n",
       "    }\n",
       "</style>\n",
       "<table border=\"1\" class=\"dataframe\">\n",
       "  <thead>\n",
       "    <tr style=\"text-align: right;\">\n",
       "      <th></th>\n",
       "      <th>course_name_x</th>\n",
       "      <th>course_name_y</th>\n",
       "      <th>jaccard</th>\n",
       "    </tr>\n",
       "  </thead>\n",
       "  <tbody>\n",
       "    <tr>\n",
       "      <th>0</th>\n",
       "      <td>Numerical approximation of PDE's II</td>\n",
       "      <td>Numerical approximation of PDE's II</td>\n",
       "      <td>1.0</td>\n",
       "    </tr>\n",
       "    <tr>\n",
       "      <th>1</th>\n",
       "      <td>Numerical approximation of PDE's II</td>\n",
       "      <td>3D Electron Microscopy and FIB-Nanotomography</td>\n",
       "      <td>0.0</td>\n",
       "    </tr>\n",
       "    <tr>\n",
       "      <th>2</th>\n",
       "      <td>Numerical approximation of PDE's II</td>\n",
       "      <td>A History of Evolutionary Theory</td>\n",
       "      <td>0.0</td>\n",
       "    </tr>\n",
       "    <tr>\n",
       "      <th>3</th>\n",
       "      <td>Numerical approximation of PDE's II</td>\n",
       "      <td>A Political History of Urban Form</td>\n",
       "      <td>0.0</td>\n",
       "    </tr>\n",
       "    <tr>\n",
       "      <th>4</th>\n",
       "      <td>Numerical approximation of PDE's II</td>\n",
       "      <td>A guided tour for engineers in applied stochas...</td>\n",
       "      <td>0.0</td>\n",
       "    </tr>\n",
       "  </tbody>\n",
       "</table>\n",
       "</div>"
      ],
      "text/plain": [
       "                          course_name_x  \\\n",
       "0   Numerical approximation of PDE's II   \n",
       "1   Numerical approximation of PDE's II   \n",
       "2   Numerical approximation of PDE's II   \n",
       "3   Numerical approximation of PDE's II   \n",
       "4   Numerical approximation of PDE's II   \n",
       "\n",
       "                                       course_name_y  jaccard  \n",
       "0                Numerical approximation of PDE's II      1.0  \n",
       "1      3D Electron Microscopy and FIB-Nanotomography      0.0  \n",
       "2                   A History of Evolutionary Theory      0.0  \n",
       "3                  A Political History of Urban Form      0.0  \n",
       "4  A guided tour for engineers in applied stochas...      0.0  "
      ]
     },
     "execution_count": 16,
     "metadata": {},
     "output_type": "execute_result"
    }
   ],
   "source": [
    "def jaccard(s1, s2):\n",
    "    common = 0\n",
    "    for e in s1:\n",
    "        if e in s2:\n",
    "            common +=1\n",
    "    return common / (len(s1) + len(s2) - common)\n",
    "\n",
    "df_edges = df_product.copy()\n",
    "df_edges['jaccard'] = df_product.apply(lambda x: jaccard(x['set_x'], x['set_y']), axis=1)\n",
    "#df_edges['jaccard'] = df_save\n",
    "df_edges.drop(['set_x', 'set_y'], axis=1, inplace=True)\n",
    "df_edges.head()"
   ]
  },
  {
   "cell_type": "markdown",
   "metadata": {},
   "source": [
    "Save all the jaccard coefficient computed."
   ]
  },
  {
   "cell_type": "code",
   "execution_count": 17,
   "metadata": {},
   "outputs": [],
   "source": [
    "df_edges.to_csv('../../data/csv/all_edges.csv')"
   ]
  },
  {
   "cell_type": "markdown",
   "metadata": {},
   "source": [
    "Now, we will apply an euristic method in order to keep only the most relevant edges. For each node we will keep the top 5% of its neighbours (jaccard > 0)."
   ]
  },
  {
   "cell_type": "code",
   "execution_count": 103,
   "metadata": {},
   "outputs": [
    {
     "data": {
      "text/html": [
       "<div>\n",
       "<style scoped>\n",
       "    .dataframe tbody tr th:only-of-type {\n",
       "        vertical-align: middle;\n",
       "    }\n",
       "\n",
       "    .dataframe tbody tr th {\n",
       "        vertical-align: top;\n",
       "    }\n",
       "\n",
       "    .dataframe thead th {\n",
       "        text-align: right;\n",
       "    }\n",
       "</style>\n",
       "<table border=\"1\" class=\"dataframe\">\n",
       "  <thead>\n",
       "    <tr style=\"text-align: right;\">\n",
       "      <th></th>\n",
       "      <th>course_name</th>\n",
       "      <th>neighbours</th>\n",
       "    </tr>\n",
       "  </thead>\n",
       "  <tbody>\n",
       "    <tr>\n",
       "      <th>0</th>\n",
       "      <td>Numerical approximation of PDE's II</td>\n",
       "      <td>93</td>\n",
       "    </tr>\n",
       "    <tr>\n",
       "      <th>1</th>\n",
       "      <td>3D Electron Microscopy and FIB-Nanotomography</td>\n",
       "      <td>146</td>\n",
       "    </tr>\n",
       "    <tr>\n",
       "      <th>2</th>\n",
       "      <td>A History of Evolutionary Theory</td>\n",
       "      <td>2</td>\n",
       "    </tr>\n",
       "    <tr>\n",
       "      <th>3</th>\n",
       "      <td>A Political History of Urban Form</td>\n",
       "      <td>117</td>\n",
       "    </tr>\n",
       "    <tr>\n",
       "      <th>4</th>\n",
       "      <td>A guided tour for engineers in applied stochas...</td>\n",
       "      <td>98</td>\n",
       "    </tr>\n",
       "  </tbody>\n",
       "</table>\n",
       "</div>"
      ],
      "text/plain": [
       "                                         course_name  neighbours\n",
       "0                Numerical approximation of PDE's II          93\n",
       "1      3D Electron Microscopy and FIB-Nanotomography         146\n",
       "2                   A History of Evolutionary Theory           2\n",
       "3                  A Political History of Urban Form         117\n",
       "4  A guided tour for engineers in applied stochas...          98"
      ]
     },
     "execution_count": 103,
     "metadata": {},
     "output_type": "execute_result"
    }
   ],
   "source": [
    "df_count = df_edges[df_edges['jaccard'] > 0].groupby('course_name_x').count().drop('course_name_y', axis=1).reset_index()\n",
    "df_count.rename(columns={\"course_name_x\": \"course_name\", \"jaccard\": \"neighbours\"}, inplace=True)\n",
    "df_count.head()"
   ]
  },
  {
   "cell_type": "code",
   "execution_count": 104,
   "metadata": {},
   "outputs": [
    {
     "data": {
      "text/plain": [
       "2867"
      ]
     },
     "execution_count": 104,
     "metadata": {},
     "output_type": "execute_result"
    }
   ],
   "source": [
    "size_map = {}\n",
    "for index, row in df_count.iterrows():\n",
    "    size_map[row['course_name']] = row['neighbours']\n",
    "len(size_map) # Should be 2893"
   ]
  },
  {
   "cell_type": "code",
   "execution_count": 105,
   "metadata": {},
   "outputs": [
    {
     "data": {
      "text/html": [
       "<div>\n",
       "<style scoped>\n",
       "    .dataframe tbody tr th:only-of-type {\n",
       "        vertical-align: middle;\n",
       "    }\n",
       "\n",
       "    .dataframe tbody tr th {\n",
       "        vertical-align: top;\n",
       "    }\n",
       "\n",
       "    .dataframe thead th {\n",
       "        text-align: right;\n",
       "    }\n",
       "</style>\n",
       "<table border=\"1\" class=\"dataframe\">\n",
       "  <thead>\n",
       "    <tr style=\"text-align: right;\">\n",
       "      <th></th>\n",
       "      <th>course_name</th>\n",
       "      <th>neighbours</th>\n",
       "    </tr>\n",
       "  </thead>\n",
       "  <tbody>\n",
       "  </tbody>\n",
       "</table>\n",
       "</div>"
      ],
      "text/plain": [
       "Empty DataFrame\n",
       "Columns: [course_name, neighbours]\n",
       "Index: []"
      ]
     },
     "execution_count": 105,
     "metadata": {},
     "output_type": "execute_result"
    }
   ],
   "source": [
    "# How many isolated nodes? Looks like none \n",
    "df_count[df_count['neighbours'] == 0]"
   ]
  },
  {
   "cell_type": "code",
   "execution_count": 106,
   "metadata": {},
   "outputs": [
    {
     "data": {
      "text/html": [
       "<div>\n",
       "<style scoped>\n",
       "    .dataframe tbody tr th:only-of-type {\n",
       "        vertical-align: middle;\n",
       "    }\n",
       "\n",
       "    .dataframe tbody tr th {\n",
       "        vertical-align: top;\n",
       "    }\n",
       "\n",
       "    .dataframe thead th {\n",
       "        text-align: right;\n",
       "    }\n",
       "</style>\n",
       "<table border=\"1\" class=\"dataframe\">\n",
       "  <thead>\n",
       "    <tr style=\"text-align: right;\">\n",
       "      <th></th>\n",
       "      <th>course_name_x</th>\n",
       "      <th>course_name_y</th>\n",
       "      <th>jaccard</th>\n",
       "    </tr>\n",
       "  </thead>\n",
       "  <tbody>\n",
       "    <tr>\n",
       "      <th>63</th>\n",
       "      <td>Numerical approximation of PDE's II</td>\n",
       "      <td>Advanced methods in computational solid mechanics</td>\n",
       "      <td>0.017857</td>\n",
       "    </tr>\n",
       "    <tr>\n",
       "      <th>65</th>\n",
       "      <td>Numerical approximation of PDE's II</td>\n",
       "      <td>Advanced multiprocessor architecture</td>\n",
       "      <td>0.007407</td>\n",
       "    </tr>\n",
       "    <tr>\n",
       "      <th>67</th>\n",
       "      <td>Numerical approximation of PDE's II</td>\n",
       "      <td>Advanced numerical analysis</td>\n",
       "      <td>0.025000</td>\n",
       "    </tr>\n",
       "    <tr>\n",
       "      <th>74</th>\n",
       "      <td>Numerical approximation of PDE's II</td>\n",
       "      <td>Advanced regression</td>\n",
       "      <td>0.024390</td>\n",
       "    </tr>\n",
       "    <tr>\n",
       "      <th>76</th>\n",
       "      <td>Numerical approximation of PDE's II</td>\n",
       "      <td>Advanced scientific computing</td>\n",
       "      <td>0.018182</td>\n",
       "    </tr>\n",
       "  </tbody>\n",
       "</table>\n",
       "</div>"
      ],
      "text/plain": [
       "                           course_name_x  \\\n",
       "63   Numerical approximation of PDE's II   \n",
       "65   Numerical approximation of PDE's II   \n",
       "67   Numerical approximation of PDE's II   \n",
       "74   Numerical approximation of PDE's II   \n",
       "76   Numerical approximation of PDE's II   \n",
       "\n",
       "                                        course_name_y   jaccard  \n",
       "63  Advanced methods in computational solid mechanics  0.017857  \n",
       "65               Advanced multiprocessor architecture  0.007407  \n",
       "67                        Advanced numerical analysis  0.025000  \n",
       "74                                Advanced regression  0.024390  \n",
       "76                      Advanced scientific computing  0.018182  "
      ]
     },
     "execution_count": 106,
     "metadata": {},
     "output_type": "execute_result"
    }
   ],
   "source": [
    "# Remove self-loops\n",
    "df_edges = df_edges[df_edges['course_name_x'] != df_edges['course_name_y']]\n",
    "# Remove edges with zero value\n",
    "df_edges = df_edges[df_edges['jaccard'] > 0]\n",
    "df_edges.head(5)"
   ]
  },
  {
   "cell_type": "code",
   "execution_count": 107,
   "metadata": {},
   "outputs": [
    {
     "data": {
      "text/html": [
       "<div>\n",
       "<style scoped>\n",
       "    .dataframe tbody tr th:only-of-type {\n",
       "        vertical-align: middle;\n",
       "    }\n",
       "\n",
       "    .dataframe tbody tr th {\n",
       "        vertical-align: top;\n",
       "    }\n",
       "\n",
       "    .dataframe thead th {\n",
       "        text-align: right;\n",
       "    }\n",
       "</style>\n",
       "<table border=\"1\" class=\"dataframe\">\n",
       "  <thead>\n",
       "    <tr style=\"text-align: right;\">\n",
       "      <th></th>\n",
       "      <th>course_name_x</th>\n",
       "      <th>course_name_y</th>\n",
       "      <th>jaccard</th>\n",
       "    </tr>\n",
       "  </thead>\n",
       "  <tbody>\n",
       "    <tr>\n",
       "      <th>1768</th>\n",
       "      <td>Numerical approximation of PDE's II</td>\n",
       "      <td>Numerical approximation of PDE's I</td>\n",
       "      <td>0.242105</td>\n",
       "    </tr>\n",
       "    <tr>\n",
       "      <th>1773</th>\n",
       "      <td>Numerical approximation of PDE's II</td>\n",
       "      <td>Numerical integration of dynamical systems</td>\n",
       "      <td>0.219512</td>\n",
       "    </tr>\n",
       "    <tr>\n",
       "      <th>532</th>\n",
       "      <td>Numerical approximation of PDE's II</td>\n",
       "      <td>Computational linear algebra</td>\n",
       "      <td>0.176471</td>\n",
       "    </tr>\n",
       "    <tr>\n",
       "      <th>1774</th>\n",
       "      <td>Numerical approximation of PDE's II</td>\n",
       "      <td>Numerical methods for conservation laws</td>\n",
       "      <td>0.120000</td>\n",
       "    </tr>\n",
       "    <tr>\n",
       "      <th>844</th>\n",
       "      <td>Numerical approximation of PDE's II</td>\n",
       "      <td>Elliptic partial differential equations</td>\n",
       "      <td>0.116279</td>\n",
       "    </tr>\n",
       "    <tr>\n",
       "      <th>4644</th>\n",
       "      <td>3D Electron Microscopy and FIB-Nanotomography</td>\n",
       "      <td>Non-destructive evaluation methods</td>\n",
       "      <td>0.153846</td>\n",
       "    </tr>\n",
       "    <tr>\n",
       "      <th>3562</th>\n",
       "      <td>3D Electron Microscopy and FIB-Nanotomography</td>\n",
       "      <td>Céramiques</td>\n",
       "      <td>0.085890</td>\n",
       "    </tr>\n",
       "    <tr>\n",
       "      <th>5447</th>\n",
       "      <td>3D Electron Microscopy and FIB-Nanotomography</td>\n",
       "      <td>Thermodynamique</td>\n",
       "      <td>0.075556</td>\n",
       "    </tr>\n",
       "    <tr>\n",
       "      <th>3303</th>\n",
       "      <td>3D Electron Microscopy and FIB-Nanotomography</td>\n",
       "      <td>Ceramics, properties</td>\n",
       "      <td>0.074257</td>\n",
       "    </tr>\n",
       "    <tr>\n",
       "      <th>3659</th>\n",
       "      <td>3D Electron Microscopy and FIB-Nanotomography</td>\n",
       "      <td>Déformation et rupture à basse température</td>\n",
       "      <td>0.068182</td>\n",
       "    </tr>\n",
       "    <tr>\n",
       "      <th>5870</th>\n",
       "      <td>A History of Evolutionary Theory</td>\n",
       "      <td>Advanced stem cell biology (2013)</td>\n",
       "      <td>0.047619</td>\n",
       "    </tr>\n",
       "    <tr>\n",
       "      <th>6994</th>\n",
       "      <td>A History of Evolutionary Theory</td>\n",
       "      <td>Immunology and bioengineering applications (2014)</td>\n",
       "      <td>0.047619</td>\n",
       "    </tr>\n",
       "    <tr>\n",
       "      <th>9389</th>\n",
       "      <td>A Political History of Urban Form</td>\n",
       "      <td>Difficult Double: Trouble with Classicists</td>\n",
       "      <td>0.278884</td>\n",
       "    </tr>\n",
       "    <tr>\n",
       "      <th>9343</th>\n",
       "      <td>A Political History of Urban Form</td>\n",
       "      <td>Critique du projet urbain contemporain</td>\n",
       "      <td>0.196653</td>\n",
       "    </tr>\n",
       "    <tr>\n",
       "      <th>11559</th>\n",
       "      <td>A Political History of Urban Form</td>\n",
       "      <td>Why care? Une introduction à l'art contemporain</td>\n",
       "      <td>0.189542</td>\n",
       "    </tr>\n",
       "    <tr>\n",
       "      <th>11551</th>\n",
       "      <td>A Political History of Urban Form</td>\n",
       "      <td>Visionnaires éclectiques. Architectures, 2000-...</td>\n",
       "      <td>0.186528</td>\n",
       "    </tr>\n",
       "    <tr>\n",
       "      <th>8866</th>\n",
       "      <td>A Political History of Urban Form</td>\n",
       "      <td>Apparent realities - Constructing the view</td>\n",
       "      <td>0.160305</td>\n",
       "    </tr>\n",
       "    <tr>\n",
       "      <th>12949</th>\n",
       "      <td>A guided tour for engineers in applied stochas...</td>\n",
       "      <td>L'ingénieur dans R&amp;D industriels</td>\n",
       "      <td>0.087302</td>\n",
       "    </tr>\n",
       "    <tr>\n",
       "      <th>14073</th>\n",
       "      <td>A guided tour for engineers in applied stochas...</td>\n",
       "      <td>Techniques d'assemblage I</td>\n",
       "      <td>0.084615</td>\n",
       "    </tr>\n",
       "    <tr>\n",
       "      <th>11807</th>\n",
       "      <td>A guided tour for engineers in applied stochas...</td>\n",
       "      <td>Assemblage et robotique TP</td>\n",
       "      <td>0.083004</td>\n",
       "    </tr>\n",
       "  </tbody>\n",
       "</table>\n",
       "</div>"
      ],
      "text/plain": [
       "                                           course_name_x  \\\n",
       "1768                 Numerical approximation of PDE's II   \n",
       "1773                 Numerical approximation of PDE's II   \n",
       "532                  Numerical approximation of PDE's II   \n",
       "1774                 Numerical approximation of PDE's II   \n",
       "844                  Numerical approximation of PDE's II   \n",
       "4644       3D Electron Microscopy and FIB-Nanotomography   \n",
       "3562       3D Electron Microscopy and FIB-Nanotomography   \n",
       "5447       3D Electron Microscopy and FIB-Nanotomography   \n",
       "3303       3D Electron Microscopy and FIB-Nanotomography   \n",
       "3659       3D Electron Microscopy and FIB-Nanotomography   \n",
       "5870                    A History of Evolutionary Theory   \n",
       "6994                    A History of Evolutionary Theory   \n",
       "9389                   A Political History of Urban Form   \n",
       "9343                   A Political History of Urban Form   \n",
       "11559                  A Political History of Urban Form   \n",
       "11551                  A Political History of Urban Form   \n",
       "8866                   A Political History of Urban Form   \n",
       "12949  A guided tour for engineers in applied stochas...   \n",
       "14073  A guided tour for engineers in applied stochas...   \n",
       "11807  A guided tour for engineers in applied stochas...   \n",
       "\n",
       "                                           course_name_y   jaccard  \n",
       "1768                  Numerical approximation of PDE's I  0.242105  \n",
       "1773          Numerical integration of dynamical systems  0.219512  \n",
       "532                         Computational linear algebra  0.176471  \n",
       "1774             Numerical methods for conservation laws  0.120000  \n",
       "844              Elliptic partial differential equations  0.116279  \n",
       "4644                  Non-destructive evaluation methods  0.153846  \n",
       "3562                                          Céramiques  0.085890  \n",
       "5447                                     Thermodynamique  0.075556  \n",
       "3303                                Ceramics, properties  0.074257  \n",
       "3659          Déformation et rupture à basse température  0.068182  \n",
       "5870                   Advanced stem cell biology (2013)  0.047619  \n",
       "6994   Immunology and bioengineering applications (2014)  0.047619  \n",
       "9389          Difficult Double: Trouble with Classicists  0.278884  \n",
       "9343              Critique du projet urbain contemporain  0.196653  \n",
       "11559    Why care? Une introduction à l'art contemporain  0.189542  \n",
       "11551  Visionnaires éclectiques. Architectures, 2000-...  0.186528  \n",
       "8866          Apparent realities - Constructing the view  0.160305  \n",
       "12949                   L'ingénieur dans R&D industriels  0.087302  \n",
       "14073                          Techniques d'assemblage I  0.084615  \n",
       "11807                         Assemblage et robotique TP  0.083004  "
      ]
     },
     "execution_count": 107,
     "metadata": {},
     "output_type": "execute_result"
    }
   ],
   "source": [
    "def keep_friends(g):\n",
    "    for course_name in set(g['course_name_x']):\n",
    "        return g.nlargest(5, \"jaccard\")\n",
    "\n",
    "df_edges_planar = df_edges.groupby('course_name_x', group_keys=False).apply(keep_friends)\n",
    "df_edges_planar.head(20)"
   ]
  },
  {
   "cell_type": "code",
   "execution_count": 146,
   "metadata": {},
   "outputs": [],
   "source": [
    "df_edges_planar.to_csv('../../data/csv/server/course_network_v0.csv')"
   ]
  },
  {
   "cell_type": "code",
   "execution_count": 108,
   "metadata": {},
   "outputs": [
    {
     "data": {
      "text/plain": [
       "14041"
      ]
     },
     "execution_count": 108,
     "metadata": {},
     "output_type": "execute_result"
    }
   ],
   "source": [
    "len(df_edges_planar)"
   ]
  },
  {
   "cell_type": "code",
   "execution_count": 109,
   "metadata": {},
   "outputs": [
    {
     "data": {
      "text/plain": [
       "8679"
      ]
     },
     "execution_count": 109,
     "metadata": {},
     "output_type": "execute_result"
    }
   ],
   "source": [
    "2893*3"
   ]
  },
  {
   "cell_type": "code",
   "execution_count": 133,
   "metadata": {},
   "outputs": [
    {
     "data": {
      "text/html": [
       "<div>\n",
       "<style scoped>\n",
       "    .dataframe tbody tr th:only-of-type {\n",
       "        vertical-align: middle;\n",
       "    }\n",
       "\n",
       "    .dataframe tbody tr th {\n",
       "        vertical-align: top;\n",
       "    }\n",
       "\n",
       "    .dataframe thead th {\n",
       "        text-align: right;\n",
       "    }\n",
       "</style>\n",
       "<table border=\"1\" class=\"dataframe\">\n",
       "  <thead>\n",
       "    <tr style=\"text-align: right;\">\n",
       "      <th></th>\n",
       "      <th>course_name_x</th>\n",
       "      <th>course_name_y</th>\n",
       "      <th>jaccard</th>\n",
       "    </tr>\n",
       "  </thead>\n",
       "  <tbody>\n",
       "    <tr>\n",
       "      <th>1761406</th>\n",
       "      <td>Contact mechanics and nonsmooth tribology</td>\n",
       "      <td>Systèmes mécaniques</td>\n",
       "      <td>0.000602</td>\n",
       "    </tr>\n",
       "    <tr>\n",
       "      <th>56830</th>\n",
       "      <td>Advanced Topics on Privacy Protection</td>\n",
       "      <td>Pattern classification and machine learning</td>\n",
       "      <td>0.001190</td>\n",
       "    </tr>\n",
       "    <tr>\n",
       "      <th>6988052</th>\n",
       "      <td>Summer School on Reproducibility in Computatio...</td>\n",
       "      <td>Machine learning</td>\n",
       "      <td>0.001252</td>\n",
       "    </tr>\n",
       "    <tr>\n",
       "      <th>1760608</th>\n",
       "      <td>Contact mechanics and nonsmooth tribology</td>\n",
       "      <td>Mécanique des fluides incompressibles</td>\n",
       "      <td>0.001344</td>\n",
       "    </tr>\n",
       "    <tr>\n",
       "      <th>7840052</th>\n",
       "      <td>Topics in Language-based Software Security</td>\n",
       "      <td>Advanced algorithms</td>\n",
       "      <td>0.001395</td>\n",
       "    </tr>\n",
       "  </tbody>\n",
       "</table>\n",
       "</div>"
      ],
      "text/plain": [
       "                                             course_name_x  \\\n",
       "1761406          Contact mechanics and nonsmooth tribology   \n",
       "56830                Advanced Topics on Privacy Protection   \n",
       "6988052  Summer School on Reproducibility in Computatio...   \n",
       "1760608          Contact mechanics and nonsmooth tribology   \n",
       "7840052         Topics in Language-based Software Security   \n",
       "\n",
       "                                       course_name_y   jaccard  \n",
       "1761406                          Systèmes mécaniques  0.000602  \n",
       "56830    Pattern classification and machine learning  0.001190  \n",
       "6988052                             Machine learning  0.001252  \n",
       "1760608        Mécanique des fluides incompressibles  0.001344  \n",
       "7840052                          Advanced algorithms  0.001395  "
      ]
     },
     "execution_count": 133,
     "metadata": {},
     "output_type": "execute_result"
    }
   ],
   "source": [
    "# Sorting the edges: first the less important\n",
    "df_edges_planar = df_edges_planar.sort_values('jaccard', ascending=True)\n",
    "df_edges_planar.head()"
   ]
  },
  {
   "cell_type": "markdown",
   "metadata": {},
   "source": [
    "Let's take a look at our graph. Is it connected?"
   ]
  },
  {
   "cell_type": "code",
   "execution_count": 134,
   "metadata": {},
   "outputs": [
    {
     "data": {
      "text/plain": [
       "False"
      ]
     },
     "execution_count": 134,
     "metadata": {},
     "output_type": "execute_result"
    }
   ],
   "source": [
    "nx.is_connected(graph)"
   ]
  },
  {
   "cell_type": "markdown",
   "metadata": {},
   "source": [
    "It is not connected, we can print the size of each connected component to have an idea of its topology."
   ]
  },
  {
   "cell_type": "code",
   "execution_count": 137,
   "metadata": {},
   "outputs": [
    {
     "data": {
      "text/plain": [
       "[2755, 39, 25, 8, 4, 3, 3, 3, 3, 2, 2, 2, 2, 2, 2, 2, 2, 2, 2, 2, 2]"
      ]
     },
     "execution_count": 137,
     "metadata": {},
     "output_type": "execute_result"
    }
   ],
   "source": [
    "[len(c) for c in sorted(nx.connected_components(graph), key=len, reverse=True)]"
   ]
  },
  {
   "cell_type": "markdown",
   "metadata": {},
   "source": [
    "Now, we will try to generate a planar graph."
   ]
  },
  {
   "cell_type": "code",
   "execution_count": 138,
   "metadata": {},
   "outputs": [
    {
     "data": {
      "text/plain": [
       "(False, None)"
      ]
     },
     "execution_count": 138,
     "metadata": {},
     "output_type": "execute_result"
    }
   ],
   "source": [
    "graph = nx.from_pandas_edgelist(df_edges_planar, source='course_name_x', target='course_name_y')\n",
    "nx.algorithms.planarity.check_planarity(graph)"
   ]
  },
  {
   "cell_type": "code",
   "execution_count": 139,
   "metadata": {},
   "outputs": [
    {
     "data": {
      "text/plain": [
       "[['Contact mechanics and nonsmooth tribology',\n",
       "  'Systèmes mécaniques',\n",
       "  0.0006024096385542169],\n",
       " ['Advanced Topics on Privacy Protection',\n",
       "  'Pattern classification and machine learning',\n",
       "  0.0011904761904761906],\n",
       " ['Summer School on Reproducibility in Computational Sciences 2019',\n",
       "  'Machine learning',\n",
       "  0.0012515644555694619]]"
      ]
     },
     "execution_count": 139,
     "metadata": {},
     "output_type": "execute_result"
    }
   ],
   "source": [
    "# [len(c) if len(c) > 20 else 'sob' for c in sorted(nx.connected_components(graph), key=len, reverse=True)]\n",
    "lst_edges = df_edges_planar.values.tolist()\n",
    "lst_edges[:3]"
   ]
  },
  {
   "cell_type": "markdown",
   "metadata": {},
   "source": [
    "We will now remove the less impotant edges following the criteria:\n",
    "* Take the edge with the smallest value with has not been saved\n",
    "* If the edge does not disconnect the graph, remove it. Othewise save it and restart\n",
    "* Check if graph is planar, if not repeat"
   ]
  },
  {
   "cell_type": "code",
   "execution_count": 140,
   "metadata": {},
   "outputs": [
    {
     "name": "stdout",
     "output_type": "stream",
     "text": [
      "1000 826\n",
      "2000 1601\n",
      "3000 2311\n",
      "4000 2995\n",
      "5000 3591\n",
      "6000 4143\n",
      "7000 4683\n",
      "8000 5184\n",
      "9000 5656\n",
      "10000 6132\n",
      "11000 6563\n",
      "12000 7002\n",
      "13000 7358\n"
     ]
    },
    {
     "data": {
      "text/plain": [
       "(True, <networkx.algorithms.planarity.PlanarEmbedding at 0x1a2a9db7d0>)"
      ]
     },
     "execution_count": 140,
     "metadata": {},
     "output_type": "execute_result"
    }
   ],
   "source": [
    "# WARNING: long running time\n",
    "index = 0\n",
    "removed = 0\n",
    "cc = len(sorted(nx.connected_components(graph), key=len, reverse=True))\n",
    "while not nx.algorithms.planarity.check_planarity(graph)[0]:\n",
    "    source = lst_edges[index][0]\n",
    "    target = lst_edges[index][1]\n",
    "    \n",
    "    if graph.has_edge(source, target):\n",
    "        graph.remove_edge(source, target)\n",
    "        if len(sorted(nx.connected_components(graph), key=len, reverse=True)) != cc:\n",
    "            graph.add_edge(source, target)\n",
    "        else:\n",
    "            removed += 1\n",
    "    index += 1\n",
    "    if index % 1000 == 0:   \n",
    "        print(index, removed)\n",
    "    \n",
    "nx.algorithms.planarity.check_planarity(graph)"
   ]
  },
  {
   "cell_type": "markdown",
   "metadata": {},
   "source": [
    "Now, how many edges are left in our network?"
   ]
  },
  {
   "cell_type": "code",
   "execution_count": 143,
   "metadata": {},
   "outputs": [
    {
     "data": {
      "text/plain": [
       "1.9916288803627484"
      ]
     },
     "execution_count": 143,
     "metadata": {},
     "output_type": "execute_result"
    }
   ],
   "source": [
    "2 * len(graph.edges) / len(graph.nodes)"
   ]
  },
  {
   "cell_type": "markdown",
   "metadata": {},
   "source": [
    "The average degree is 2, which is quite low!"
   ]
  },
  {
   "cell_type": "code",
   "execution_count": null,
   "metadata": {},
   "outputs": [],
   "source": [
    "nx.draw(graph)"
   ]
  },
  {
   "cell_type": "markdown",
   "metadata": {},
   "source": [
    "So, we decided to try to readd those edges which do not break planarity."
   ]
  },
  {
   "cell_type": "code",
   "execution_count": 147,
   "metadata": {},
   "outputs": [
    {
     "data": {
      "text/plain": [
       "[['Immunology and microbiology II', 'Immunology and microbiology I', 1.0],\n",
       " ['Images de la nature I', 'Images de la nature II', 1.0],\n",
       " ['Cours UNIL - Faculté des hautes études commerciales HEC (printemps 13)',\n",
       "  \"Cours UNIL - Faculté des géosciences et de l'environnement GSE  (printemps 13)\",\n",
       "  1.0]]"
      ]
     },
     "execution_count": 147,
     "metadata": {},
     "output_type": "execute_result"
    }
   ],
   "source": [
    "df_edges_planar = df_edges_planar.sort_values('jaccard', ascending=False)\n",
    "incr_edge_list = df_edges_planar.values.tolist()\n",
    "incr_edge_list[:3]"
   ]
  },
  {
   "cell_type": "code",
   "execution_count": 148,
   "metadata": {},
   "outputs": [
    {
     "name": "stdout",
     "output_type": "stream",
     "text": [
      "1000 161\n",
      "2000 411\n",
      "3000 709\n",
      "4000 1001\n",
      "5000 1278\n",
      "6000 1575\n",
      "7000 1865\n",
      "8000 2200\n",
      "9000 2512\n",
      "10000 2821\n",
      "11000 3119\n",
      "12000 3390\n",
      "13000 3638\n",
      "14000 3853\n"
     ]
    },
    {
     "data": {
      "text/plain": [
       "True"
      ]
     },
     "execution_count": 148,
     "metadata": {},
     "output_type": "execute_result"
    }
   ],
   "source": [
    "# WARNING: long running time\n",
    "index = 0\n",
    "added = 0\n",
    "for edge in incr_edge_list:\n",
    "    source = edge[0]\n",
    "    target = edge[1]\n",
    "    if not graph.has_edge(source, target):\n",
    "        graph.add_edge(source, target)\n",
    "        if not nx.algorithms.planarity.check_planarity(graph)[0]:\n",
    "            graph.remove_edge(source, target)\n",
    "        else:\n",
    "            added += 1\n",
    "    index += 1\n",
    "    if index % 1000 == 0:\n",
    "        print(index, added)\n",
    "\n",
    "nx.algorithms.planarity.check_planarity(graph)[0]\n",
    "        "
   ]
  },
  {
   "cell_type": "code",
   "execution_count": 149,
   "metadata": {},
   "outputs": [
    {
     "data": {
      "text/html": [
       "<div>\n",
       "<style scoped>\n",
       "    .dataframe tbody tr th:only-of-type {\n",
       "        vertical-align: middle;\n",
       "    }\n",
       "\n",
       "    .dataframe tbody tr th {\n",
       "        vertical-align: top;\n",
       "    }\n",
       "\n",
       "    .dataframe thead th {\n",
       "        text-align: right;\n",
       "    }\n",
       "</style>\n",
       "<table border=\"1\" class=\"dataframe\">\n",
       "  <thead>\n",
       "    <tr style=\"text-align: right;\">\n",
       "      <th></th>\n",
       "      <th>source</th>\n",
       "      <th>target</th>\n",
       "    </tr>\n",
       "  </thead>\n",
       "  <tbody>\n",
       "    <tr>\n",
       "      <th>0</th>\n",
       "      <td>Contact mechanics and nonsmooth tribology</td>\n",
       "      <td>Rhéologie des matériaux</td>\n",
       "    </tr>\n",
       "    <tr>\n",
       "      <th>1</th>\n",
       "      <td>Contact mechanics and nonsmooth tribology</td>\n",
       "      <td>Mécanique des fluides incompressibles</td>\n",
       "    </tr>\n",
       "    <tr>\n",
       "      <th>2</th>\n",
       "      <td>Systèmes mécaniques</td>\n",
       "      <td>Mécanique des structures (pour GM)</td>\n",
       "    </tr>\n",
       "    <tr>\n",
       "      <th>3</th>\n",
       "      <td>Systèmes mécaniques</td>\n",
       "      <td>Écoulement des fluides</td>\n",
       "    </tr>\n",
       "    <tr>\n",
       "      <th>4</th>\n",
       "      <td>Systèmes mécaniques</td>\n",
       "      <td>Procédés de production</td>\n",
       "    </tr>\n",
       "  </tbody>\n",
       "</table>\n",
       "</div>"
      ],
      "text/plain": [
       "                                      source  \\\n",
       "0  Contact mechanics and nonsmooth tribology   \n",
       "1  Contact mechanics and nonsmooth tribology   \n",
       "2                        Systèmes mécaniques   \n",
       "3                        Systèmes mécaniques   \n",
       "4                        Systèmes mécaniques   \n",
       "\n",
       "                                  target  \n",
       "0                Rhéologie des matériaux  \n",
       "1  Mécanique des fluides incompressibles  \n",
       "2     Mécanique des structures (pour GM)  \n",
       "3                 Écoulement des fluides  \n",
       "4                 Procédés de production  "
      ]
     },
     "execution_count": 149,
     "metadata": {},
     "output_type": "execute_result"
    }
   ],
   "source": [
    "df_edges_planar = nx.to_pandas_edgelist(graph)\n",
    "df_edges_planar.head()"
   ]
  },
  {
   "cell_type": "markdown",
   "metadata": {},
   "source": [
    "Save this edges in a CSV file."
   ]
  },
  {
   "cell_type": "code",
   "execution_count": 150,
   "metadata": {},
   "outputs": [],
   "source": [
    "df_edges_planar.to_csv('../../data/csv/server/course_network_v1.csv')"
   ]
  },
  {
   "cell_type": "code",
   "execution_count": 151,
   "metadata": {},
   "outputs": [],
   "source": [
    "def keep_3_friends(g):\n",
    "    for course_name in set(g['course_name_x']):\n",
    "        return g.nlargest(3, \"jaccard\")\n",
    "\n",
    "df_edges_planar = df_edges.groupby('course_name_x', group_keys=False).apply(keep_3_friends)"
   ]
  },
  {
   "cell_type": "code",
   "execution_count": 152,
   "metadata": {},
   "outputs": [],
   "source": [
    "df_edges_planar.to_csv('../../data/csv/server/course_network_v2.csv')"
   ]
  },
  {
   "cell_type": "code",
   "execution_count": null,
   "metadata": {},
   "outputs": [],
   "source": []
  }
 ],
 "metadata": {
  "kernelspec": {
   "display_name": "Python [conda env:ada] *",
   "language": "python",
   "name": "conda-env-ada-py"
  },
  "language_info": {
   "codemirror_mode": {
    "name": "ipython",
    "version": 3
   },
   "file_extension": ".py",
   "mimetype": "text/x-python",
   "name": "python",
   "nbconvert_exporter": "python",
   "pygments_lexer": "ipython3",
   "version": "3.7.4"
  }
 },
 "nbformat": 4,
 "nbformat_minor": 2
}
