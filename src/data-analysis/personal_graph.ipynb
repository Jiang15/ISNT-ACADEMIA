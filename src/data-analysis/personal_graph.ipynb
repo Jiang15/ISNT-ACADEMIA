{
 "cells": [
  {
   "cell_type": "markdown",
   "metadata": {},
   "source": [
    "# Compute course graph"
   ]
  },
  {
   "cell_type": "code",
   "execution_count": 1,
   "metadata": {},
   "outputs": [],
   "source": [
    "import pandas as pd\n",
    "from matplotlib import pyplot as plt\n",
    "import plotly.express as px\n",
    "import numpy as np\n",
    "from sklearn.decomposition import PCA\n",
    "from sklearn.manifold import TSNE\n",
    "\n",
    "%matplotlib inline"
   ]
  },
  {
   "cell_type": "markdown",
   "metadata": {},
   "source": [
    "Read three tables into dataframe."
   ]
  },
  {
   "cell_type": "code",
   "execution_count": 2,
   "metadata": {},
   "outputs": [],
   "source": [
    "df_enrollment = pd.read_csv('../../data/csv/enrollment.csv')\n",
    "df_course = pd.read_csv('../../data/csv/courses.csv')\n",
    "df_student = pd.read_csv('../../data/csv/student.csv')"
   ]
  },
  {
   "cell_type": "code",
   "execution_count": 7,
   "metadata": {},
   "outputs": [
    {
     "data": {
      "text/html": [
       "<div>\n",
       "<style scoped>\n",
       "    .dataframe tbody tr th:only-of-type {\n",
       "        vertical-align: middle;\n",
       "    }\n",
       "\n",
       "    .dataframe tbody tr th {\n",
       "        vertical-align: top;\n",
       "    }\n",
       "\n",
       "    .dataframe thead th {\n",
       "        text-align: right;\n",
       "    }\n",
       "</style>\n",
       "<table border=\"1\" class=\"dataframe\">\n",
       "  <thead>\n",
       "    <tr style=\"text-align: right;\">\n",
       "      <th></th>\n",
       "      <th>Unnamed: 0</th>\n",
       "      <th>course_id</th>\n",
       "      <th>course_name</th>\n",
       "      <th>year</th>\n",
       "    </tr>\n",
       "  </thead>\n",
       "  <tbody>\n",
       "    <tr>\n",
       "      <th>0</th>\n",
       "      <td>0</td>\n",
       "      <td>0</td>\n",
       "      <td>Biological and physiological transport</td>\n",
       "      <td>2006-2007</td>\n",
       "    </tr>\n",
       "    <tr>\n",
       "      <th>1</th>\n",
       "      <td>1</td>\n",
       "      <td>1</td>\n",
       "      <td>Biological and physiological transport</td>\n",
       "      <td>2007-2008</td>\n",
       "    </tr>\n",
       "  </tbody>\n",
       "</table>\n",
       "</div>"
      ],
      "text/plain": [
       "   Unnamed: 0  course_id                             course_name       year\n",
       "0           0          0  Biological and physiological transport  2006-2007\n",
       "1           1          1  Biological and physiological transport  2007-2008"
      ]
     },
     "execution_count": 7,
     "metadata": {},
     "output_type": "execute_result"
    }
   ],
   "source": [
    "df_course.head(2)"
   ]
  },
  {
   "cell_type": "code",
   "execution_count": 8,
   "metadata": {},
   "outputs": [
    {
     "data": {
      "text/html": [
       "<div>\n",
       "<style scoped>\n",
       "    .dataframe tbody tr th:only-of-type {\n",
       "        vertical-align: middle;\n",
       "    }\n",
       "\n",
       "    .dataframe tbody tr th {\n",
       "        vertical-align: top;\n",
       "    }\n",
       "\n",
       "    .dataframe thead th {\n",
       "        text-align: right;\n",
       "    }\n",
       "</style>\n",
       "<table border=\"1\" class=\"dataframe\">\n",
       "  <thead>\n",
       "    <tr style=\"text-align: right;\">\n",
       "      <th></th>\n",
       "      <th>Unnamed: 0</th>\n",
       "      <th>student_id</th>\n",
       "      <th>course_id</th>\n",
       "      <th>semester</th>\n",
       "    </tr>\n",
       "  </thead>\n",
       "  <tbody>\n",
       "    <tr>\n",
       "      <th>0</th>\n",
       "      <td>0</td>\n",
       "      <td>3692</td>\n",
       "      <td>0</td>\n",
       "      <td>Master semestre 2</td>\n",
       "    </tr>\n",
       "  </tbody>\n",
       "</table>\n",
       "</div>"
      ],
      "text/plain": [
       "   Unnamed: 0  student_id  course_id           semester\n",
       "0           0        3692          0  Master semestre 2"
      ]
     },
     "execution_count": 8,
     "metadata": {},
     "output_type": "execute_result"
    }
   ],
   "source": [
    "df_enrollment.head(1)"
   ]
  },
  {
   "cell_type": "code",
   "execution_count": 9,
   "metadata": {},
   "outputs": [
    {
     "data": {
      "text/html": [
       "<div>\n",
       "<style scoped>\n",
       "    .dataframe tbody tr th:only-of-type {\n",
       "        vertical-align: middle;\n",
       "    }\n",
       "\n",
       "    .dataframe tbody tr th {\n",
       "        vertical-align: top;\n",
       "    }\n",
       "\n",
       "    .dataframe thead th {\n",
       "        text-align: right;\n",
       "    }\n",
       "</style>\n",
       "<table border=\"1\" class=\"dataframe\">\n",
       "  <thead>\n",
       "    <tr style=\"text-align: right;\">\n",
       "      <th></th>\n",
       "      <th>Unnamed: 0</th>\n",
       "      <th>student_name</th>\n",
       "      <th>section</th>\n",
       "      <th>student_id</th>\n",
       "    </tr>\n",
       "  </thead>\n",
       "  <tbody>\n",
       "    <tr>\n",
       "      <th>0</th>\n",
       "      <td>0</td>\n",
       "      <td>Aabid Fouad</td>\n",
       "      <td>Génie mécanique</td>\n",
       "      <td>0</td>\n",
       "    </tr>\n",
       "    <tr>\n",
       "      <th>1</th>\n",
       "      <td>1</td>\n",
       "      <td>Aamodt Simen</td>\n",
       "      <td>Génie mécanique</td>\n",
       "      <td>1</td>\n",
       "    </tr>\n",
       "  </tbody>\n",
       "</table>\n",
       "</div>"
      ],
      "text/plain": [
       "   Unnamed: 0  student_name          section  student_id\n",
       "0           0   Aabid Fouad  Génie mécanique           0\n",
       "1           1  Aamodt Simen  Génie mécanique           1"
      ]
     },
     "execution_count": 9,
     "metadata": {},
     "output_type": "execute_result"
    }
   ],
   "source": [
    "df_student.head(2)"
   ]
  },
  {
   "cell_type": "markdown",
   "metadata": {},
   "source": [
    "## 1. Compute list of student for each course"
   ]
  },
  {
   "cell_type": "markdown",
   "metadata": {},
   "source": [
    "For each course we will now compute the set of students attending that course, we will create a file 'jaccard.csv' to save this info as we will use it often in the visualization."
   ]
  },
  {
   "cell_type": "code",
   "execution_count": 20,
   "metadata": {},
   "outputs": [
    {
     "name": "stderr",
     "output_type": "stream",
     "text": [
      "/anaconda3/envs/ada/lib/python3.7/site-packages/ipykernel_launcher.py:2: FutureWarning:\n",
      "\n",
      "using a dict on a Series for aggregation\n",
      "is deprecated and will be removed in a future version. Use                 named aggregation instead.\n",
      "\n",
      "    >>> grouper.agg(name_1=func_1, name_2=func_2)\n",
      "\n",
      "\n"
     ]
    },
    {
     "data": {
      "text/html": [
       "<div>\n",
       "<style scoped>\n",
       "    .dataframe tbody tr th:only-of-type {\n",
       "        vertical-align: middle;\n",
       "    }\n",
       "\n",
       "    .dataframe tbody tr th {\n",
       "        vertical-align: top;\n",
       "    }\n",
       "\n",
       "    .dataframe thead th {\n",
       "        text-align: right;\n",
       "    }\n",
       "</style>\n",
       "<table border=\"1\" class=\"dataframe\">\n",
       "  <thead>\n",
       "    <tr style=\"text-align: right;\">\n",
       "      <th></th>\n",
       "      <th>course_name</th>\n",
       "      <th>set</th>\n",
       "    </tr>\n",
       "  </thead>\n",
       "  <tbody>\n",
       "    <tr>\n",
       "      <th>0</th>\n",
       "      <td>Numerical approximation of PDE's II</td>\n",
       "      <td>{33792, 18439, 36362, 37773, 15374, 20879, 359...</td>\n",
       "    </tr>\n",
       "    <tr>\n",
       "      <th>1</th>\n",
       "      <td>3D Electron Microscopy and FIB-Nanotomography</td>\n",
       "      <td>{35843, 34309, 5650, 539, 32805, 7720, 7733, 2...</td>\n",
       "    </tr>\n",
       "  </tbody>\n",
       "</table>\n",
       "</div>"
      ],
      "text/plain": [
       "                                     course_name  \\\n",
       "0            Numerical approximation of PDE's II   \n",
       "1  3D Electron Microscopy and FIB-Nanotomography   \n",
       "\n",
       "                                                 set  \n",
       "0  {33792, 18439, 36362, 37773, 15374, 20879, 359...  \n",
       "1  {35843, 34309, 5650, 539, 32805, 7720, 7733, 2...  "
      ]
     },
     "execution_count": 20,
     "metadata": {},
     "output_type": "execute_result"
    }
   ],
   "source": [
    "df_complete = df_course.merge(df_enrollment, on='course_id')\n",
    "df_jaccard = df_complete.groupby('course_name')['student_id'].agg({'set': lambda x: set(x)}).reset_index()\n",
    "df_jaccard.head(2)"
   ]
  },
  {
   "cell_type": "code",
   "execution_count": 21,
   "metadata": {},
   "outputs": [],
   "source": [
    "df_jaccard.to_csv('../../data/csv/jaccard.csv')"
   ]
  },
  {
   "cell_type": "markdown",
   "metadata": {},
   "source": [
    "We will particularly use this file in order to compute the jaccard coefficient between two courses using the students enrolled over the years."
   ]
  },
  {
   "cell_type": "markdown",
   "metadata": {},
   "source": [
    "## 2. The course network"
   ]
  },
  {
   "cell_type": "markdown",
   "metadata": {},
   "source": [
    "Now, we will compute the connection between the courses in our database. We will again use the jaccard coefficient to obtain a similarity measure between courses."
   ]
  },
  {
   "cell_type": "code",
   "execution_count": 40,
   "metadata": {},
   "outputs": [
    {
     "data": {
      "text/html": [
       "<div>\n",
       "<style scoped>\n",
       "    .dataframe tbody tr th:only-of-type {\n",
       "        vertical-align: middle;\n",
       "    }\n",
       "\n",
       "    .dataframe tbody tr th {\n",
       "        vertical-align: top;\n",
       "    }\n",
       "\n",
       "    .dataframe thead th {\n",
       "        text-align: right;\n",
       "    }\n",
       "</style>\n",
       "<table border=\"1\" class=\"dataframe\">\n",
       "  <thead>\n",
       "    <tr style=\"text-align: right;\">\n",
       "      <th></th>\n",
       "      <th>course_name_x</th>\n",
       "      <th>set_x</th>\n",
       "      <th>course_name_y</th>\n",
       "      <th>set_y</th>\n",
       "    </tr>\n",
       "  </thead>\n",
       "  <tbody>\n",
       "    <tr>\n",
       "      <th>0</th>\n",
       "      <td>Numerical approximation of PDE's II</td>\n",
       "      <td>{33792, 18439, 36362, 37773, 15374, 20879, 359...</td>\n",
       "      <td>Numerical approximation of PDE's II</td>\n",
       "      <td>{33792, 18439, 36362, 37773, 15374, 20879, 359...</td>\n",
       "    </tr>\n",
       "    <tr>\n",
       "      <th>1</th>\n",
       "      <td>Numerical approximation of PDE's II</td>\n",
       "      <td>{33792, 18439, 36362, 37773, 15374, 20879, 359...</td>\n",
       "      <td>3D Electron Microscopy and FIB-Nanotomography</td>\n",
       "      <td>{35843, 34309, 5650, 539, 32805, 7720, 7733, 2...</td>\n",
       "    </tr>\n",
       "  </tbody>\n",
       "</table>\n",
       "</div>"
      ],
      "text/plain": [
       "                          course_name_x  \\\n",
       "0   Numerical approximation of PDE's II   \n",
       "1   Numerical approximation of PDE's II   \n",
       "\n",
       "                                               set_x  \\\n",
       "0  {33792, 18439, 36362, 37773, 15374, 20879, 359...   \n",
       "1  {33792, 18439, 36362, 37773, 15374, 20879, 359...   \n",
       "\n",
       "                                   course_name_y  \\\n",
       "0            Numerical approximation of PDE's II   \n",
       "1  3D Electron Microscopy and FIB-Nanotomography   \n",
       "\n",
       "                                               set_y  \n",
       "0  {33792, 18439, 36362, 37773, 15374, 20879, 359...  \n",
       "1  {35843, 34309, 5650, 539, 32805, 7720, 7733, 2...  "
      ]
     },
     "execution_count": 40,
     "metadata": {},
     "output_type": "execute_result"
    }
   ],
   "source": [
    "df_jaccard['key'] = 1\n",
    "df_product = df_jaccard.merge(df_jaccard, on='key')\n",
    "df_product.drop('key', axis=1, inplace=True)\n",
    "df_product.head(2)"
   ]
  },
  {
   "cell_type": "code",
   "execution_count": 41,
   "metadata": {},
   "outputs": [
    {
     "data": {
      "text/html": [
       "<div>\n",
       "<style scoped>\n",
       "    .dataframe tbody tr th:only-of-type {\n",
       "        vertical-align: middle;\n",
       "    }\n",
       "\n",
       "    .dataframe tbody tr th {\n",
       "        vertical-align: top;\n",
       "    }\n",
       "\n",
       "    .dataframe thead th {\n",
       "        text-align: right;\n",
       "    }\n",
       "</style>\n",
       "<table border=\"1\" class=\"dataframe\">\n",
       "  <thead>\n",
       "    <tr style=\"text-align: right;\">\n",
       "      <th></th>\n",
       "      <th>course_name_x</th>\n",
       "      <th>course_name_y</th>\n",
       "      <th>jaccard</th>\n",
       "    </tr>\n",
       "  </thead>\n",
       "  <tbody>\n",
       "    <tr>\n",
       "      <th>0</th>\n",
       "      <td>Numerical approximation of PDE's II</td>\n",
       "      <td>Numerical approximation of PDE's II</td>\n",
       "      <td>1.0</td>\n",
       "    </tr>\n",
       "    <tr>\n",
       "      <th>1</th>\n",
       "      <td>Numerical approximation of PDE's II</td>\n",
       "      <td>3D Electron Microscopy and FIB-Nanotomography</td>\n",
       "      <td>0.0</td>\n",
       "    </tr>\n",
       "    <tr>\n",
       "      <th>2</th>\n",
       "      <td>Numerical approximation of PDE's II</td>\n",
       "      <td>A History of Evolutionary Theory</td>\n",
       "      <td>0.0</td>\n",
       "    </tr>\n",
       "    <tr>\n",
       "      <th>3</th>\n",
       "      <td>Numerical approximation of PDE's II</td>\n",
       "      <td>A Political History of Urban Form</td>\n",
       "      <td>0.0</td>\n",
       "    </tr>\n",
       "    <tr>\n",
       "      <th>4</th>\n",
       "      <td>Numerical approximation of PDE's II</td>\n",
       "      <td>A guided tour for engineers in applied stochas...</td>\n",
       "      <td>0.0</td>\n",
       "    </tr>\n",
       "  </tbody>\n",
       "</table>\n",
       "</div>"
      ],
      "text/plain": [
       "                          course_name_x  \\\n",
       "0   Numerical approximation of PDE's II   \n",
       "1   Numerical approximation of PDE's II   \n",
       "2   Numerical approximation of PDE's II   \n",
       "3   Numerical approximation of PDE's II   \n",
       "4   Numerical approximation of PDE's II   \n",
       "\n",
       "                                       course_name_y  jaccard  \n",
       "0                Numerical approximation of PDE's II      1.0  \n",
       "1      3D Electron Microscopy and FIB-Nanotomography      0.0  \n",
       "2                   A History of Evolutionary Theory      0.0  \n",
       "3                  A Political History of Urban Form      0.0  \n",
       "4  A guided tour for engineers in applied stochas...      0.0  "
      ]
     },
     "execution_count": 41,
     "metadata": {},
     "output_type": "execute_result"
    }
   ],
   "source": [
    "def jaccard(s1, s2):\n",
    "    common = 0\n",
    "    for e in s1:\n",
    "        if e in s2:\n",
    "            common +=1\n",
    "    return common / (len(s1) + len(s2) - common)\n",
    "\n",
    "df_edges = df_product.copy()\n",
    "df_edges['jaccard'] = df_product.apply(lambda x: jaccard(x['set_x'], x['set_y']), axis=1)\n",
    "#df_edges['jaccard'] = df_save\n",
    "df_edges.drop(['set_x', 'set_y'], axis=1, inplace=True)\n",
    "df_edges.head()"
   ]
  },
  {
   "cell_type": "markdown",
   "metadata": {},
   "source": [
    "Save all the jaccard coefficient computed."
   ]
  },
  {
   "cell_type": "code",
   "execution_count": 42,
   "metadata": {},
   "outputs": [],
   "source": [
    "df_edges.to_csv('../../data/csv/all_edges.csv')"
   ]
  },
  {
   "cell_type": "markdown",
   "metadata": {},
   "source": [
    "Now, we will apply an euristic method in order to keep only the most relevant edges. For each node we will keep the top 5% of its neighbours (jaccard > 0)."
   ]
  },
  {
   "cell_type": "code",
   "execution_count": 49,
   "metadata": {},
   "outputs": [
    {
     "data": {
      "text/html": [
       "<div>\n",
       "<style scoped>\n",
       "    .dataframe tbody tr th:only-of-type {\n",
       "        vertical-align: middle;\n",
       "    }\n",
       "\n",
       "    .dataframe tbody tr th {\n",
       "        vertical-align: top;\n",
       "    }\n",
       "\n",
       "    .dataframe thead th {\n",
       "        text-align: right;\n",
       "    }\n",
       "</style>\n",
       "<table border=\"1\" class=\"dataframe\">\n",
       "  <thead>\n",
       "    <tr style=\"text-align: right;\">\n",
       "      <th></th>\n",
       "      <th>course_name</th>\n",
       "      <th>neighbours</th>\n",
       "    </tr>\n",
       "  </thead>\n",
       "  <tbody>\n",
       "    <tr>\n",
       "      <th>0</th>\n",
       "      <td>Numerical approximation of PDE's II</td>\n",
       "      <td>94</td>\n",
       "    </tr>\n",
       "    <tr>\n",
       "      <th>1</th>\n",
       "      <td>3D Electron Microscopy and FIB-Nanotomography</td>\n",
       "      <td>147</td>\n",
       "    </tr>\n",
       "    <tr>\n",
       "      <th>2</th>\n",
       "      <td>A History of Evolutionary Theory</td>\n",
       "      <td>3</td>\n",
       "    </tr>\n",
       "    <tr>\n",
       "      <th>3</th>\n",
       "      <td>A Political History of Urban Form</td>\n",
       "      <td>118</td>\n",
       "    </tr>\n",
       "    <tr>\n",
       "      <th>4</th>\n",
       "      <td>A guided tour for engineers in applied stochas...</td>\n",
       "      <td>99</td>\n",
       "    </tr>\n",
       "  </tbody>\n",
       "</table>\n",
       "</div>"
      ],
      "text/plain": [
       "                                         course_name  neighbours\n",
       "0                Numerical approximation of PDE's II          94\n",
       "1      3D Electron Microscopy and FIB-Nanotomography         147\n",
       "2                   A History of Evolutionary Theory           3\n",
       "3                  A Political History of Urban Form         118\n",
       "4  A guided tour for engineers in applied stochas...          99"
      ]
     },
     "execution_count": 49,
     "metadata": {},
     "output_type": "execute_result"
    }
   ],
   "source": [
    "df_count = df_edges[df_edges['jaccard'] > 0].groupby('course_name_x').count().drop('course_name_y', axis=1).reset_index()\n",
    "df_count.rename(columns={\"course_name_x\": \"course_name\", \"jaccard\": \"neighbours\"}, inplace=True)\n",
    "df_count.head()"
   ]
  },
  {
   "cell_type": "code",
   "execution_count": 53,
   "metadata": {},
   "outputs": [
    {
     "data": {
      "text/plain": [
       "2893"
      ]
     },
     "execution_count": 53,
     "metadata": {},
     "output_type": "execute_result"
    }
   ],
   "source": [
    "size_map = {}\n",
    "for index, row in df_count.iterrows():\n",
    "    size_map[row['course_name']] = row['neighbours']\n",
    "len(size_map) # Should be 2893"
   ]
  },
  {
   "cell_type": "code",
   "execution_count": 55,
   "metadata": {},
   "outputs": [
    {
     "data": {
      "text/html": [
       "<div>\n",
       "<style scoped>\n",
       "    .dataframe tbody tr th:only-of-type {\n",
       "        vertical-align: middle;\n",
       "    }\n",
       "\n",
       "    .dataframe tbody tr th {\n",
       "        vertical-align: top;\n",
       "    }\n",
       "\n",
       "    .dataframe thead th {\n",
       "        text-align: right;\n",
       "    }\n",
       "</style>\n",
       "<table border=\"1\" class=\"dataframe\">\n",
       "  <thead>\n",
       "    <tr style=\"text-align: right;\">\n",
       "      <th></th>\n",
       "      <th>course_name</th>\n",
       "      <th>neighbours</th>\n",
       "    </tr>\n",
       "  </thead>\n",
       "  <tbody>\n",
       "  </tbody>\n",
       "</table>\n",
       "</div>"
      ],
      "text/plain": [
       "Empty DataFrame\n",
       "Columns: [course_name, neighbours]\n",
       "Index: []"
      ]
     },
     "execution_count": 55,
     "metadata": {},
     "output_type": "execute_result"
    }
   ],
   "source": [
    "# How many isolated nodes? Looks like none \n",
    "df_count[df_count['neighbours'] == 0]"
   ]
  },
  {
   "cell_type": "code",
   "execution_count": 61,
   "metadata": {},
   "outputs": [
    {
     "data": {
      "text/html": [
       "<div>\n",
       "<style scoped>\n",
       "    .dataframe tbody tr th:only-of-type {\n",
       "        vertical-align: middle;\n",
       "    }\n",
       "\n",
       "    .dataframe tbody tr th {\n",
       "        vertical-align: top;\n",
       "    }\n",
       "\n",
       "    .dataframe thead th {\n",
       "        text-align: right;\n",
       "    }\n",
       "</style>\n",
       "<table border=\"1\" class=\"dataframe\">\n",
       "  <thead>\n",
       "    <tr style=\"text-align: right;\">\n",
       "      <th></th>\n",
       "      <th>course_name_x</th>\n",
       "      <th>course_name_y</th>\n",
       "      <th>jaccard</th>\n",
       "    </tr>\n",
       "  </thead>\n",
       "  <tbody>\n",
       "    <tr>\n",
       "      <th>63</th>\n",
       "      <td>Numerical approximation of PDE's II</td>\n",
       "      <td>Advanced methods in computational solid mechanics</td>\n",
       "      <td>0.017857</td>\n",
       "    </tr>\n",
       "    <tr>\n",
       "      <th>65</th>\n",
       "      <td>Numerical approximation of PDE's II</td>\n",
       "      <td>Advanced multiprocessor architecture</td>\n",
       "      <td>0.007407</td>\n",
       "    </tr>\n",
       "    <tr>\n",
       "      <th>67</th>\n",
       "      <td>Numerical approximation of PDE's II</td>\n",
       "      <td>Advanced numerical analysis</td>\n",
       "      <td>0.025000</td>\n",
       "    </tr>\n",
       "    <tr>\n",
       "      <th>74</th>\n",
       "      <td>Numerical approximation of PDE's II</td>\n",
       "      <td>Advanced regression</td>\n",
       "      <td>0.024390</td>\n",
       "    </tr>\n",
       "    <tr>\n",
       "      <th>76</th>\n",
       "      <td>Numerical approximation of PDE's II</td>\n",
       "      <td>Advanced scientific computing</td>\n",
       "      <td>0.018182</td>\n",
       "    </tr>\n",
       "  </tbody>\n",
       "</table>\n",
       "</div>"
      ],
      "text/plain": [
       "                           course_name_x  \\\n",
       "63   Numerical approximation of PDE's II   \n",
       "65   Numerical approximation of PDE's II   \n",
       "67   Numerical approximation of PDE's II   \n",
       "74   Numerical approximation of PDE's II   \n",
       "76   Numerical approximation of PDE's II   \n",
       "\n",
       "                                        course_name_y   jaccard  \n",
       "63  Advanced methods in computational solid mechanics  0.017857  \n",
       "65               Advanced multiprocessor architecture  0.007407  \n",
       "67                        Advanced numerical analysis  0.025000  \n",
       "74                                Advanced regression  0.024390  \n",
       "76                      Advanced scientific computing  0.018182  "
      ]
     },
     "execution_count": 61,
     "metadata": {},
     "output_type": "execute_result"
    }
   ],
   "source": [
    "# Remove self-loops\n",
    "df_edges = df_edges[df_edges['course_name_x'] != df_edges['course_name_y']]\n",
    "# Remove edges with zero value\n",
    "df_edges = df_edges[df_edges['jaccard'] > 0]\n",
    "df_edges.head(5)"
   ]
  },
  {
   "cell_type": "code",
   "execution_count": 77,
   "metadata": {},
   "outputs": [
    {
     "data": {
      "text/html": [
       "<div>\n",
       "<style scoped>\n",
       "    .dataframe tbody tr th:only-of-type {\n",
       "        vertical-align: middle;\n",
       "    }\n",
       "\n",
       "    .dataframe tbody tr th {\n",
       "        vertical-align: top;\n",
       "    }\n",
       "\n",
       "    .dataframe thead th {\n",
       "        text-align: right;\n",
       "    }\n",
       "</style>\n",
       "<table border=\"1\" class=\"dataframe\">\n",
       "  <thead>\n",
       "    <tr style=\"text-align: right;\">\n",
       "      <th></th>\n",
       "      <th>course_name_x</th>\n",
       "      <th>course_name_y</th>\n",
       "      <th>jaccard</th>\n",
       "    </tr>\n",
       "  </thead>\n",
       "  <tbody>\n",
       "    <tr>\n",
       "      <th>1768</th>\n",
       "      <td>Numerical approximation of PDE's II</td>\n",
       "      <td>Numerical approximation of PDE's I</td>\n",
       "      <td>0.242105</td>\n",
       "    </tr>\n",
       "    <tr>\n",
       "      <th>1773</th>\n",
       "      <td>Numerical approximation of PDE's II</td>\n",
       "      <td>Numerical integration of dynamical systems</td>\n",
       "      <td>0.219512</td>\n",
       "    </tr>\n",
       "    <tr>\n",
       "      <th>532</th>\n",
       "      <td>Numerical approximation of PDE's II</td>\n",
       "      <td>Computational linear algebra</td>\n",
       "      <td>0.176471</td>\n",
       "    </tr>\n",
       "    <tr>\n",
       "      <th>1774</th>\n",
       "      <td>Numerical approximation of PDE's II</td>\n",
       "      <td>Numerical methods for conservation laws</td>\n",
       "      <td>0.120000</td>\n",
       "    </tr>\n",
       "    <tr>\n",
       "      <th>4644</th>\n",
       "      <td>3D Electron Microscopy and FIB-Nanotomography</td>\n",
       "      <td>Non-destructive evaluation methods</td>\n",
       "      <td>0.153846</td>\n",
       "    </tr>\n",
       "    <tr>\n",
       "      <th>3562</th>\n",
       "      <td>3D Electron Microscopy and FIB-Nanotomography</td>\n",
       "      <td>Céramiques</td>\n",
       "      <td>0.085890</td>\n",
       "    </tr>\n",
       "    <tr>\n",
       "      <th>5447</th>\n",
       "      <td>3D Electron Microscopy and FIB-Nanotomography</td>\n",
       "      <td>Thermodynamique</td>\n",
       "      <td>0.075556</td>\n",
       "    </tr>\n",
       "    <tr>\n",
       "      <th>3303</th>\n",
       "      <td>3D Electron Microscopy and FIB-Nanotomography</td>\n",
       "      <td>Ceramics, properties</td>\n",
       "      <td>0.074257</td>\n",
       "    </tr>\n",
       "    <tr>\n",
       "      <th>3659</th>\n",
       "      <td>3D Electron Microscopy and FIB-Nanotomography</td>\n",
       "      <td>Déformation et rupture à basse température</td>\n",
       "      <td>0.068182</td>\n",
       "    </tr>\n",
       "    <tr>\n",
       "      <th>3554</th>\n",
       "      <td>3D Electron Microscopy and FIB-Nanotomography</td>\n",
       "      <td>Cristallographie</td>\n",
       "      <td>0.065637</td>\n",
       "    </tr>\n",
       "    <tr>\n",
       "      <th>4416</th>\n",
       "      <td>3D Electron Microscopy and FIB-Nanotomography</td>\n",
       "      <td>Matériaux divisés</td>\n",
       "      <td>0.065502</td>\n",
       "    </tr>\n",
       "    <tr>\n",
       "      <th>5870</th>\n",
       "      <td>A History of Evolutionary Theory</td>\n",
       "      <td>Advanced stem cell biology (2013)</td>\n",
       "      <td>0.047619</td>\n",
       "    </tr>\n",
       "    <tr>\n",
       "      <th>6994</th>\n",
       "      <td>A History of Evolutionary Theory</td>\n",
       "      <td>Immunology and bioengineering applications (2014)</td>\n",
       "      <td>0.047619</td>\n",
       "    </tr>\n",
       "    <tr>\n",
       "      <th>9389</th>\n",
       "      <td>A Political History of Urban Form</td>\n",
       "      <td>Difficult Double: Trouble with Classicists</td>\n",
       "      <td>0.278884</td>\n",
       "    </tr>\n",
       "    <tr>\n",
       "      <th>9343</th>\n",
       "      <td>A Political History of Urban Form</td>\n",
       "      <td>Critique du projet urbain contemporain</td>\n",
       "      <td>0.196653</td>\n",
       "    </tr>\n",
       "    <tr>\n",
       "      <th>11559</th>\n",
       "      <td>A Political History of Urban Form</td>\n",
       "      <td>Why care? Une introduction à l'art contemporain</td>\n",
       "      <td>0.189542</td>\n",
       "    </tr>\n",
       "    <tr>\n",
       "      <th>11551</th>\n",
       "      <td>A Political History of Urban Form</td>\n",
       "      <td>Visionnaires éclectiques. Architectures, 2000-...</td>\n",
       "      <td>0.186528</td>\n",
       "    </tr>\n",
       "    <tr>\n",
       "      <th>8866</th>\n",
       "      <td>A Political History of Urban Form</td>\n",
       "      <td>Apparent realities - Constructing the view</td>\n",
       "      <td>0.160305</td>\n",
       "    </tr>\n",
       "    <tr>\n",
       "      <th>12949</th>\n",
       "      <td>A guided tour for engineers in applied stochas...</td>\n",
       "      <td>L'ingénieur dans R&amp;D industriels</td>\n",
       "      <td>0.087302</td>\n",
       "    </tr>\n",
       "    <tr>\n",
       "      <th>14073</th>\n",
       "      <td>A guided tour for engineers in applied stochas...</td>\n",
       "      <td>Techniques d'assemblage I</td>\n",
       "      <td>0.084615</td>\n",
       "    </tr>\n",
       "  </tbody>\n",
       "</table>\n",
       "</div>"
      ],
      "text/plain": [
       "                                           course_name_x  \\\n",
       "1768                 Numerical approximation of PDE's II   \n",
       "1773                 Numerical approximation of PDE's II   \n",
       "532                  Numerical approximation of PDE's II   \n",
       "1774                 Numerical approximation of PDE's II   \n",
       "4644       3D Electron Microscopy and FIB-Nanotomography   \n",
       "3562       3D Electron Microscopy and FIB-Nanotomography   \n",
       "5447       3D Electron Microscopy and FIB-Nanotomography   \n",
       "3303       3D Electron Microscopy and FIB-Nanotomography   \n",
       "3659       3D Electron Microscopy and FIB-Nanotomography   \n",
       "3554       3D Electron Microscopy and FIB-Nanotomography   \n",
       "4416       3D Electron Microscopy and FIB-Nanotomography   \n",
       "5870                    A History of Evolutionary Theory   \n",
       "6994                    A History of Evolutionary Theory   \n",
       "9389                   A Political History of Urban Form   \n",
       "9343                   A Political History of Urban Form   \n",
       "11559                  A Political History of Urban Form   \n",
       "11551                  A Political History of Urban Form   \n",
       "8866                   A Political History of Urban Form   \n",
       "12949  A guided tour for engineers in applied stochas...   \n",
       "14073  A guided tour for engineers in applied stochas...   \n",
       "\n",
       "                                           course_name_y   jaccard  \n",
       "1768                  Numerical approximation of PDE's I  0.242105  \n",
       "1773          Numerical integration of dynamical systems  0.219512  \n",
       "532                         Computational linear algebra  0.176471  \n",
       "1774             Numerical methods for conservation laws  0.120000  \n",
       "4644                  Non-destructive evaluation methods  0.153846  \n",
       "3562                                          Céramiques  0.085890  \n",
       "5447                                     Thermodynamique  0.075556  \n",
       "3303                                Ceramics, properties  0.074257  \n",
       "3659          Déformation et rupture à basse température  0.068182  \n",
       "3554                                    Cristallographie  0.065637  \n",
       "4416                                   Matériaux divisés  0.065502  \n",
       "5870                   Advanced stem cell biology (2013)  0.047619  \n",
       "6994   Immunology and bioengineering applications (2014)  0.047619  \n",
       "9389          Difficult Double: Trouble with Classicists  0.278884  \n",
       "9343              Critique du projet urbain contemporain  0.196653  \n",
       "11559    Why care? Une introduction à l'art contemporain  0.189542  \n",
       "11551  Visionnaires éclectiques. Architectures, 2000-...  0.186528  \n",
       "8866          Apparent realities - Constructing the view  0.160305  \n",
       "12949                   L'ingénieur dans R&D industriels  0.087302  \n",
       "14073                          Techniques d'assemblage I  0.084615  "
      ]
     },
     "execution_count": 77,
     "metadata": {},
     "output_type": "execute_result"
    }
   ],
   "source": [
    "def keep_friends(g):\n",
    "    for course_name in set(g['course_name_x']):\n",
    "        keep = max(3, int(size_map[course_name]/100*5))\n",
    "        return g.nlargest(keep, \"jaccard\")\n",
    "\n",
    "df_edges_5 = df_edges.groupby('course_name_x', group_keys=False).apply(keep_friends)\n",
    "df_edges_5.head(20)"
   ]
  },
  {
   "cell_type": "markdown",
   "metadata": {},
   "source": [
    "Save this edges in a CSV file."
   ]
  },
  {
   "cell_type": "code",
   "execution_count": 78,
   "metadata": {},
   "outputs": [],
   "source": [
    "df_edges_5.to_csv('../../data/csv/personal_graph.csv')"
   ]
  },
  {
   "cell_type": "code",
   "execution_count": null,
   "metadata": {},
   "outputs": [],
   "source": []
  }
 ],
 "metadata": {
  "kernelspec": {
   "display_name": "Python [conda env:ada] *",
   "language": "python",
   "name": "conda-env-ada-py"
  },
  "language_info": {
   "codemirror_mode": {
    "name": "ipython",
    "version": 3
   },
   "file_extension": ".py",
   "mimetype": "text/x-python",
   "name": "python",
   "nbconvert_exporter": "python",
   "pygments_lexer": "ipython3",
   "version": "3.7.4"
  }
 },
 "nbformat": 4,
 "nbformat_minor": 2
}
