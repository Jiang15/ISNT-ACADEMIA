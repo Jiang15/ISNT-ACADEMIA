{
 "cells": [
  {
   "cell_type": "code",
   "execution_count": 1,
   "metadata": {},
   "outputs": [],
   "source": [
    "import pandas as pd"
   ]
  },
  {
   "cell_type": "code",
   "execution_count": 47,
   "metadata": {},
   "outputs": [],
   "source": [
    "df_enrollment = pd.read_csv('data/csv/enrollment.csv')"
   ]
  },
  {
   "cell_type": "code",
   "execution_count": 48,
   "metadata": {},
   "outputs": [
    {
     "data": {
      "text/html": [
       "<div>\n",
       "<style scoped>\n",
       "    .dataframe tbody tr th:only-of-type {\n",
       "        vertical-align: middle;\n",
       "    }\n",
       "\n",
       "    .dataframe tbody tr th {\n",
       "        vertical-align: top;\n",
       "    }\n",
       "\n",
       "    .dataframe thead th {\n",
       "        text-align: right;\n",
       "    }\n",
       "</style>\n",
       "<table border=\"1\" class=\"dataframe\">\n",
       "  <thead>\n",
       "    <tr style=\"text-align: right;\">\n",
       "      <th></th>\n",
       "      <th>Unnamed: 0</th>\n",
       "      <th>student_id</th>\n",
       "      <th>year</th>\n",
       "      <th>semester</th>\n",
       "      <th>course_id</th>\n",
       "    </tr>\n",
       "  </thead>\n",
       "  <tbody>\n",
       "    <tr>\n",
       "      <th>0</th>\n",
       "      <td>0</td>\n",
       "      <td>0</td>\n",
       "      <td>2006-2007</td>\n",
       "      <td>Master semestre 2</td>\n",
       "      <td>2</td>\n",
       "    </tr>\n",
       "    <tr>\n",
       "      <th>1</th>\n",
       "      <td>1</td>\n",
       "      <td>0</td>\n",
       "      <td>2006-2007</td>\n",
       "      <td>Master semestre 1</td>\n",
       "      <td>754</td>\n",
       "    </tr>\n",
       "    <tr>\n",
       "      <th>2</th>\n",
       "      <td>2</td>\n",
       "      <td>0</td>\n",
       "      <td>2006-2007</td>\n",
       "      <td>Master semestre 1</td>\n",
       "      <td>1038</td>\n",
       "    </tr>\n",
       "    <tr>\n",
       "      <th>3</th>\n",
       "      <td>3</td>\n",
       "      <td>0</td>\n",
       "      <td>2006-2007</td>\n",
       "      <td>Master semestre 2</td>\n",
       "      <td>4693</td>\n",
       "    </tr>\n",
       "    <tr>\n",
       "      <th>4</th>\n",
       "      <td>4</td>\n",
       "      <td>0</td>\n",
       "      <td>2006-2007</td>\n",
       "      <td>Master semestre 1</td>\n",
       "      <td>8632</td>\n",
       "    </tr>\n",
       "  </tbody>\n",
       "</table>\n",
       "</div>"
      ],
      "text/plain": [
       "   Unnamed: 0  student_id       year            semester  course_id\n",
       "0           0           0  2006-2007   Master semestre 2          2\n",
       "1           1           0  2006-2007   Master semestre 1        754\n",
       "2           2           0  2006-2007   Master semestre 1       1038\n",
       "3           3           0  2006-2007   Master semestre 2       4693\n",
       "4           4           0  2006-2007   Master semestre 1       8632"
      ]
     },
     "execution_count": 48,
     "metadata": {},
     "output_type": "execute_result"
    }
   ],
   "source": [
    "df_enrollment.head()"
   ]
  },
  {
   "cell_type": "code",
   "execution_count": 49,
   "metadata": {},
   "outputs": [
    {
     "data": {
      "text/plain": [
       "831129"
      ]
     },
     "execution_count": 49,
     "metadata": {},
     "output_type": "execute_result"
    }
   ],
   "source": [
    "len(df_enrollment)"
   ]
  },
  {
   "cell_type": "code",
   "execution_count": 50,
   "metadata": {},
   "outputs": [],
   "source": [
    "df_enrollment.dropna(axis=0,how='any',inplace=True)"
   ]
  },
  {
   "cell_type": "code",
   "execution_count": 51,
   "metadata": {},
   "outputs": [
    {
     "data": {
      "text/plain": [
       "823143"
      ]
     },
     "execution_count": 51,
     "metadata": {},
     "output_type": "execute_result"
    }
   ],
   "source": [
    "len(df_enrollment)"
   ]
  },
  {
   "cell_type": "code",
   "execution_count": 52,
   "metadata": {},
   "outputs": [
    {
     "data": {
      "text/plain": [
       "array(['2006-2007', '2010-2011', '2007-2008', '2012-2013', '2015-2016',\n",
       "       '2016-2017', '2014-2015', '2013-2014', '2017-2018', '2018-2019',\n",
       "       '2019-2020', '2011-2012', '2009-2010', '2008-2009', '2005-2006',\n",
       "       '2004-2005', 'technologie et entrepreneuriat',\n",
       "       'architecture et durabilité',\n",
       "       'contrôle et systèmes intelligents (edoc)',\n",
       "       'Chimie et génie chimique (edoc)', 'Intersemestre été',\n",
       "       'Semestre automne', 'Semestre printemps'], dtype=object)"
      ]
     },
     "execution_count": 52,
     "metadata": {},
     "output_type": "execute_result"
    }
   ],
   "source": [
    "df_enrollment['year'].unique()"
   ]
  },
  {
   "cell_type": "code",
   "execution_count": 53,
   "metadata": {},
   "outputs": [],
   "source": [
    "df_clean_enrollment = df_enrollment[df_enrollment['year'].str.contains('20')]"
   ]
  },
  {
   "cell_type": "code",
   "execution_count": 54,
   "metadata": {},
   "outputs": [
    {
     "data": {
      "text/plain": [
       "array(['2006-2007', '2010-2011', '2007-2008', '2012-2013', '2015-2016',\n",
       "       '2016-2017', '2014-2015', '2013-2014', '2017-2018', '2018-2019',\n",
       "       '2019-2020', '2011-2012', '2009-2010', '2008-2009', '2005-2006',\n",
       "       '2004-2005'], dtype=object)"
      ]
     },
     "execution_count": 54,
     "metadata": {},
     "output_type": "execute_result"
    }
   ],
   "source": [
    "df_clean_enrollment['year'].unique()"
   ]
  },
  {
   "cell_type": "code",
   "execution_count": 55,
   "metadata": {},
   "outputs": [
    {
     "data": {
      "text/plain": [
       "array([' Master semestre 2', ' Master semestre 1', ' Master semestre 4',\n",
       "       ' Master semestre 3', ' Bachelor semestre 3',\n",
       "       ' Bachelor semestre 5', ' Bachelor semestre 4',\n",
       "       ' Bachelor semestre 2', ' Bachelor semestre 1',\n",
       "       ' Bachelor semestre 6', ' Semestre automne', ' Semestre printemps',\n",
       "       ' Bachelor semestre 5b', ' Bachelor semestre 6b',\n",
       "       ' Mineur semestre 2', ' Mineur semestre 1'], dtype=object)"
      ]
     },
     "execution_count": 55,
     "metadata": {},
     "output_type": "execute_result"
    }
   ],
   "source": [
    "df_clean_enrollment['semester'].unique()"
   ]
  },
  {
   "cell_type": "code",
   "execution_count": 56,
   "metadata": {},
   "outputs": [],
   "source": [
    "df_clean_enrollment = df_clean_enrollment[df_clean_enrollment['semester'].str.contains('Master')]"
   ]
  },
  {
   "cell_type": "code",
   "execution_count": 57,
   "metadata": {},
   "outputs": [
    {
     "data": {
      "text/plain": [
       "array([' Master semestre 2', ' Master semestre 1', ' Master semestre 4',\n",
       "       ' Master semestre 3'], dtype=object)"
      ]
     },
     "execution_count": 57,
     "metadata": {},
     "output_type": "execute_result"
    }
   ],
   "source": [
    "df_clean_enrollment['semester'].unique()"
   ]
  },
  {
   "cell_type": "code",
   "execution_count": 58,
   "metadata": {},
   "outputs": [
    {
     "data": {
      "text/plain": [
       "303286"
      ]
     },
     "execution_count": 58,
     "metadata": {},
     "output_type": "execute_result"
    }
   ],
   "source": [
    "len(df_clean_enrollment)"
   ]
  },
  {
   "cell_type": "code",
   "execution_count": 59,
   "metadata": {},
   "outputs": [],
   "source": [
    "df_course = pd.read_csv('data/csv/courses.csv')"
   ]
  },
  {
   "cell_type": "code",
   "execution_count": 60,
   "metadata": {},
   "outputs": [
    {
     "data": {
      "text/html": [
       "<div>\n",
       "<style scoped>\n",
       "    .dataframe tbody tr th:only-of-type {\n",
       "        vertical-align: middle;\n",
       "    }\n",
       "\n",
       "    .dataframe tbody tr th {\n",
       "        vertical-align: top;\n",
       "    }\n",
       "\n",
       "    .dataframe thead th {\n",
       "        text-align: right;\n",
       "    }\n",
       "</style>\n",
       "<table border=\"1\" class=\"dataframe\">\n",
       "  <thead>\n",
       "    <tr style=\"text-align: right;\">\n",
       "      <th></th>\n",
       "      <th>course_id</th>\n",
       "      <th>course_name</th>\n",
       "      <th>year</th>\n",
       "    </tr>\n",
       "  </thead>\n",
       "  <tbody>\n",
       "    <tr>\n",
       "      <th>0</th>\n",
       "      <td>1</td>\n",
       "      <td>Biological and physiological transport</td>\n",
       "      <td>2006-2007</td>\n",
       "    </tr>\n",
       "    <tr>\n",
       "      <th>1</th>\n",
       "      <td>2</td>\n",
       "      <td>Biological and physiological transport</td>\n",
       "      <td>2007-2008</td>\n",
       "    </tr>\n",
       "    <tr>\n",
       "      <th>2</th>\n",
       "      <td>3</td>\n",
       "      <td>Biological and physiological transport</td>\n",
       "      <td>2007-2008</td>\n",
       "    </tr>\n",
       "    <tr>\n",
       "      <th>3</th>\n",
       "      <td>4</td>\n",
       "      <td>Special topics in reactor physics</td>\n",
       "      <td>2015-2016</td>\n",
       "    </tr>\n",
       "    <tr>\n",
       "      <th>4</th>\n",
       "      <td>5</td>\n",
       "      <td>Special topics in reactor physics</td>\n",
       "      <td>2014-2015</td>\n",
       "    </tr>\n",
       "  </tbody>\n",
       "</table>\n",
       "</div>"
      ],
      "text/plain": [
       "   course_id                             course_name       year\n",
       "0          1  Biological and physiological transport  2006-2007\n",
       "1          2  Biological and physiological transport  2007-2008\n",
       "2          3  Biological and physiological transport  2007-2008\n",
       "3          4       Special topics in reactor physics  2015-2016\n",
       "4          5       Special topics in reactor physics  2014-2015"
      ]
     },
     "execution_count": 60,
     "metadata": {},
     "output_type": "execute_result"
    }
   ],
   "source": [
    "df_course.head()"
   ]
  },
  {
   "cell_type": "code",
   "execution_count": 61,
   "metadata": {},
   "outputs": [],
   "source": [
    "df_student = pd.read_csv('data/csv/student.csv')"
   ]
  },
  {
   "cell_type": "code",
   "execution_count": 62,
   "metadata": {},
   "outputs": [
    {
     "data": {
      "text/html": [
       "<div>\n",
       "<style scoped>\n",
       "    .dataframe tbody tr th:only-of-type {\n",
       "        vertical-align: middle;\n",
       "    }\n",
       "\n",
       "    .dataframe tbody tr th {\n",
       "        vertical-align: top;\n",
       "    }\n",
       "\n",
       "    .dataframe thead th {\n",
       "        text-align: right;\n",
       "    }\n",
       "</style>\n",
       "<table border=\"1\" class=\"dataframe\">\n",
       "  <thead>\n",
       "    <tr style=\"text-align: right;\">\n",
       "      <th></th>\n",
       "      <th>Unnamed: 0</th>\n",
       "      <th>student_name</th>\n",
       "      <th>section</th>\n",
       "      <th>student_id</th>\n",
       "    </tr>\n",
       "  </thead>\n",
       "  <tbody>\n",
       "    <tr>\n",
       "      <th>0</th>\n",
       "      <td>0</td>\n",
       "      <td>Bays Emmanuelle</td>\n",
       "      <td>Bioingénierie</td>\n",
       "      <td>0</td>\n",
       "    </tr>\n",
       "    <tr>\n",
       "      <th>1</th>\n",
       "      <td>1</td>\n",
       "      <td>Berlier Guillaume</td>\n",
       "      <td>Bioingénierie</td>\n",
       "      <td>1</td>\n",
       "    </tr>\n",
       "    <tr>\n",
       "      <th>2</th>\n",
       "      <td>2</td>\n",
       "      <td>Cosson Steffen</td>\n",
       "      <td>Bioingénierie</td>\n",
       "      <td>2</td>\n",
       "    </tr>\n",
       "    <tr>\n",
       "      <th>3</th>\n",
       "      <td>3</td>\n",
       "      <td>De Pablo Pena Albora</td>\n",
       "      <td>Bioingénierie</td>\n",
       "      <td>3</td>\n",
       "    </tr>\n",
       "    <tr>\n",
       "      <th>4</th>\n",
       "      <td>4</td>\n",
       "      <td>de Valence Sarra</td>\n",
       "      <td>Bioingénierie</td>\n",
       "      <td>4</td>\n",
       "    </tr>\n",
       "  </tbody>\n",
       "</table>\n",
       "</div>"
      ],
      "text/plain": [
       "   Unnamed: 0          student_name        section  student_id\n",
       "0           0       Bays Emmanuelle  Bioingénierie           0\n",
       "1           1     Berlier Guillaume  Bioingénierie           1\n",
       "2           2        Cosson Steffen  Bioingénierie           2\n",
       "3           3  De Pablo Pena Albora  Bioingénierie           3\n",
       "4           4      de Valence Sarra  Bioingénierie           4"
      ]
     },
     "execution_count": 62,
     "metadata": {},
     "output_type": "execute_result"
    }
   ],
   "source": [
    "df_student.head()"
   ]
  },
  {
   "cell_type": "code",
   "execution_count": 63,
   "metadata": {},
   "outputs": [],
   "source": [
    "df_enrollment_course = df_clean_enrollment.merge(df_course, left_on = 'course_id', right_on ='course_id', how='inner')"
   ]
  },
  {
   "cell_type": "code",
   "execution_count": 68,
   "metadata": {},
   "outputs": [
    {
     "data": {
      "text/html": [
       "<div>\n",
       "<style scoped>\n",
       "    .dataframe tbody tr th:only-of-type {\n",
       "        vertical-align: middle;\n",
       "    }\n",
       "\n",
       "    .dataframe tbody tr th {\n",
       "        vertical-align: top;\n",
       "    }\n",
       "\n",
       "    .dataframe thead th {\n",
       "        text-align: right;\n",
       "    }\n",
       "</style>\n",
       "<table border=\"1\" class=\"dataframe\">\n",
       "  <thead>\n",
       "    <tr style=\"text-align: right;\">\n",
       "      <th></th>\n",
       "      <th>Unnamed: 0</th>\n",
       "      <th>student_id</th>\n",
       "      <th>student_year</th>\n",
       "      <th>semester</th>\n",
       "      <th>course_id</th>\n",
       "      <th>course_name</th>\n",
       "      <th>course_year</th>\n",
       "    </tr>\n",
       "  </thead>\n",
       "  <tbody>\n",
       "    <tr>\n",
       "      <th>0</th>\n",
       "      <td>0</td>\n",
       "      <td>0</td>\n",
       "      <td>2006-2007</td>\n",
       "      <td>Master semestre 2</td>\n",
       "      <td>2</td>\n",
       "      <td>Biological and physiological transport</td>\n",
       "      <td>2007-2008</td>\n",
       "    </tr>\n",
       "    <tr>\n",
       "      <th>1</th>\n",
       "      <td>18</td>\n",
       "      <td>1</td>\n",
       "      <td>2006-2007</td>\n",
       "      <td>Master semestre 2</td>\n",
       "      <td>2</td>\n",
       "      <td>Biological and physiological transport</td>\n",
       "      <td>2007-2008</td>\n",
       "    </tr>\n",
       "    <tr>\n",
       "      <th>2</th>\n",
       "      <td>47</td>\n",
       "      <td>2</td>\n",
       "      <td>2006-2007</td>\n",
       "      <td>Master semestre 2</td>\n",
       "      <td>2</td>\n",
       "      <td>Biological and physiological transport</td>\n",
       "      <td>2007-2008</td>\n",
       "    </tr>\n",
       "    <tr>\n",
       "      <th>3</th>\n",
       "      <td>66</td>\n",
       "      <td>3</td>\n",
       "      <td>2006-2007</td>\n",
       "      <td>Master semestre 2</td>\n",
       "      <td>2</td>\n",
       "      <td>Biological and physiological transport</td>\n",
       "      <td>2007-2008</td>\n",
       "    </tr>\n",
       "    <tr>\n",
       "      <th>4</th>\n",
       "      <td>74</td>\n",
       "      <td>4</td>\n",
       "      <td>2006-2007</td>\n",
       "      <td>Master semestre 2</td>\n",
       "      <td>2</td>\n",
       "      <td>Biological and physiological transport</td>\n",
       "      <td>2007-2008</td>\n",
       "    </tr>\n",
       "    <tr>\n",
       "      <th>...</th>\n",
       "      <td>...</td>\n",
       "      <td>...</td>\n",
       "      <td>...</td>\n",
       "      <td>...</td>\n",
       "      <td>...</td>\n",
       "      <td>...</td>\n",
       "      <td>...</td>\n",
       "    </tr>\n",
       "    <tr>\n",
       "      <th>303269</th>\n",
       "      <td>830122</td>\n",
       "      <td>813545</td>\n",
       "      <td>2017-2018</td>\n",
       "      <td>Master semestre 2</td>\n",
       "      <td>40233</td>\n",
       "      <td>Hydrodynamics</td>\n",
       "      <td>2015-2016</td>\n",
       "    </tr>\n",
       "    <tr>\n",
       "      <th>303270</th>\n",
       "      <td>830507</td>\n",
       "      <td>820975</td>\n",
       "      <td>2012-2013</td>\n",
       "      <td>Master semestre 1</td>\n",
       "      <td>40429</td>\n",
       "      <td>Advanced multiprocessor architecture</td>\n",
       "      <td>2013-2014</td>\n",
       "    </tr>\n",
       "    <tr>\n",
       "      <th>303271</th>\n",
       "      <td>830508</td>\n",
       "      <td>820976</td>\n",
       "      <td>2012-2013</td>\n",
       "      <td>Master semestre 1</td>\n",
       "      <td>40429</td>\n",
       "      <td>Advanced multiprocessor architecture</td>\n",
       "      <td>2013-2014</td>\n",
       "    </tr>\n",
       "    <tr>\n",
       "      <th>303272</th>\n",
       "      <td>830509</td>\n",
       "      <td>820977</td>\n",
       "      <td>2013-2014</td>\n",
       "      <td>Master semestre 3</td>\n",
       "      <td>40431</td>\n",
       "      <td>Advanced multiprocessor architecture</td>\n",
       "      <td>2013-2014</td>\n",
       "    </tr>\n",
       "    <tr>\n",
       "      <th>303273</th>\n",
       "      <td>831107</td>\n",
       "      <td>830413</td>\n",
       "      <td>2014-2015</td>\n",
       "      <td>Master semestre 1</td>\n",
       "      <td>40988</td>\n",
       "      <td>Hardware systems modeling I</td>\n",
       "      <td>2009-2010</td>\n",
       "    </tr>\n",
       "  </tbody>\n",
       "</table>\n",
       "<p>303274 rows × 7 columns</p>\n",
       "</div>"
      ],
      "text/plain": [
       "        Unnamed: 0  student_id student_year            semester  course_id  \\\n",
       "0                0           0    2006-2007   Master semestre 2          2   \n",
       "1               18           1    2006-2007   Master semestre 2          2   \n",
       "2               47           2    2006-2007   Master semestre 2          2   \n",
       "3               66           3    2006-2007   Master semestre 2          2   \n",
       "4               74           4    2006-2007   Master semestre 2          2   \n",
       "...            ...         ...          ...                 ...        ...   \n",
       "303269      830122      813545    2017-2018   Master semestre 2      40233   \n",
       "303270      830507      820975    2012-2013   Master semestre 1      40429   \n",
       "303271      830508      820976    2012-2013   Master semestre 1      40429   \n",
       "303272      830509      820977    2013-2014   Master semestre 3      40431   \n",
       "303273      831107      830413    2014-2015   Master semestre 1      40988   \n",
       "\n",
       "                                   course_name course_year  \n",
       "0       Biological and physiological transport   2007-2008  \n",
       "1       Biological and physiological transport   2007-2008  \n",
       "2       Biological and physiological transport   2007-2008  \n",
       "3       Biological and physiological transport   2007-2008  \n",
       "4       Biological and physiological transport   2007-2008  \n",
       "...                                        ...         ...  \n",
       "303269                           Hydrodynamics   2015-2016  \n",
       "303270    Advanced multiprocessor architecture   2013-2014  \n",
       "303271    Advanced multiprocessor architecture   2013-2014  \n",
       "303272    Advanced multiprocessor architecture   2013-2014  \n",
       "303273             Hardware systems modeling I   2009-2010  \n",
       "\n",
       "[303274 rows x 7 columns]"
      ]
     },
     "execution_count": 68,
     "metadata": {},
     "output_type": "execute_result"
    }
   ],
   "source": [
    "df_enrollment_course"
   ]
  },
  {
   "cell_type": "code",
   "execution_count": 75,
   "metadata": {},
   "outputs": [
    {
     "data": {
      "text/plain": [
       "Unnamed: 0       int64\n",
       "student_id       int64\n",
       "student_year    object\n",
       "semester        object\n",
       "course_id        int64\n",
       "course_name     object\n",
       "course_year     object\n",
       "dtype: object"
      ]
     },
     "execution_count": 75,
     "metadata": {},
     "output_type": "execute_result"
    }
   ],
   "source": [
    "df_enrollment_course.dtypes"
   ]
  },
  {
   "cell_type": "code",
   "execution_count": 67,
   "metadata": {},
   "outputs": [],
   "source": [
    "df_enrollment_course.rename(columns={\"year_x\": \"student_year\", \"year_y\":\"course_year\"},inplace =True)"
   ]
  },
  {
   "cell_type": "code",
   "execution_count": 82,
   "metadata": {},
   "outputs": [
    {
     "data": {
      "text/html": [
       "<div>\n",
       "<style scoped>\n",
       "    .dataframe tbody tr th:only-of-type {\n",
       "        vertical-align: middle;\n",
       "    }\n",
       "\n",
       "    .dataframe tbody tr th {\n",
       "        vertical-align: top;\n",
       "    }\n",
       "\n",
       "    .dataframe thead th {\n",
       "        text-align: right;\n",
       "    }\n",
       "</style>\n",
       "<table border=\"1\" class=\"dataframe\">\n",
       "  <thead>\n",
       "    <tr style=\"text-align: right;\">\n",
       "      <th></th>\n",
       "      <th>Unnamed: 0</th>\n",
       "      <th>student_id</th>\n",
       "      <th>semester</th>\n",
       "      <th>course_id</th>\n",
       "    </tr>\n",
       "    <tr>\n",
       "      <th>year</th>\n",
       "      <th></th>\n",
       "      <th></th>\n",
       "      <th></th>\n",
       "      <th></th>\n",
       "    </tr>\n",
       "  </thead>\n",
       "  <tbody>\n",
       "    <tr>\n",
       "      <th>2004-2005</th>\n",
       "      <td>11872</td>\n",
       "      <td>11872</td>\n",
       "      <td>11872</td>\n",
       "      <td>11872</td>\n",
       "    </tr>\n",
       "    <tr>\n",
       "      <th>2005-2006</th>\n",
       "      <td>14648</td>\n",
       "      <td>14648</td>\n",
       "      <td>14648</td>\n",
       "      <td>14648</td>\n",
       "    </tr>\n",
       "    <tr>\n",
       "      <th>2006-2007</th>\n",
       "      <td>16130</td>\n",
       "      <td>16130</td>\n",
       "      <td>16130</td>\n",
       "      <td>16130</td>\n",
       "    </tr>\n",
       "    <tr>\n",
       "      <th>2007-2008</th>\n",
       "      <td>14241</td>\n",
       "      <td>14241</td>\n",
       "      <td>14241</td>\n",
       "      <td>14241</td>\n",
       "    </tr>\n",
       "    <tr>\n",
       "      <th>2008-2009</th>\n",
       "      <td>13833</td>\n",
       "      <td>13833</td>\n",
       "      <td>13833</td>\n",
       "      <td>13833</td>\n",
       "    </tr>\n",
       "    <tr>\n",
       "      <th>2009-2010</th>\n",
       "      <td>14940</td>\n",
       "      <td>14940</td>\n",
       "      <td>14940</td>\n",
       "      <td>14940</td>\n",
       "    </tr>\n",
       "    <tr>\n",
       "      <th>2010-2011</th>\n",
       "      <td>15629</td>\n",
       "      <td>15629</td>\n",
       "      <td>15629</td>\n",
       "      <td>15629</td>\n",
       "    </tr>\n",
       "    <tr>\n",
       "      <th>2011-2012</th>\n",
       "      <td>18117</td>\n",
       "      <td>18117</td>\n",
       "      <td>18117</td>\n",
       "      <td>18117</td>\n",
       "    </tr>\n",
       "    <tr>\n",
       "      <th>2012-2013</th>\n",
       "      <td>19554</td>\n",
       "      <td>19554</td>\n",
       "      <td>19554</td>\n",
       "      <td>19554</td>\n",
       "    </tr>\n",
       "    <tr>\n",
       "      <th>2013-2014</th>\n",
       "      <td>21208</td>\n",
       "      <td>21208</td>\n",
       "      <td>21208</td>\n",
       "      <td>21208</td>\n",
       "    </tr>\n",
       "    <tr>\n",
       "      <th>2014-2015</th>\n",
       "      <td>22024</td>\n",
       "      <td>22024</td>\n",
       "      <td>22024</td>\n",
       "      <td>22024</td>\n",
       "    </tr>\n",
       "    <tr>\n",
       "      <th>2015-2016</th>\n",
       "      <td>22163</td>\n",
       "      <td>22163</td>\n",
       "      <td>22163</td>\n",
       "      <td>22163</td>\n",
       "    </tr>\n",
       "    <tr>\n",
       "      <th>2016-2017</th>\n",
       "      <td>23639</td>\n",
       "      <td>23639</td>\n",
       "      <td>23639</td>\n",
       "      <td>23639</td>\n",
       "    </tr>\n",
       "    <tr>\n",
       "      <th>2017-2018</th>\n",
       "      <td>24621</td>\n",
       "      <td>24621</td>\n",
       "      <td>24621</td>\n",
       "      <td>24621</td>\n",
       "    </tr>\n",
       "    <tr>\n",
       "      <th>2018-2019</th>\n",
       "      <td>25164</td>\n",
       "      <td>25164</td>\n",
       "      <td>25164</td>\n",
       "      <td>25164</td>\n",
       "    </tr>\n",
       "    <tr>\n",
       "      <th>2019-2020</th>\n",
       "      <td>25503</td>\n",
       "      <td>25503</td>\n",
       "      <td>25503</td>\n",
       "      <td>25503</td>\n",
       "    </tr>\n",
       "  </tbody>\n",
       "</table>\n",
       "</div>"
      ],
      "text/plain": [
       "           Unnamed: 0  student_id  semester  course_id\n",
       "year                                                  \n",
       "2004-2005       11872       11872     11872      11872\n",
       "2005-2006       14648       14648     14648      14648\n",
       "2006-2007       16130       16130     16130      16130\n",
       "2007-2008       14241       14241     14241      14241\n",
       "2008-2009       13833       13833     13833      13833\n",
       "2009-2010       14940       14940     14940      14940\n",
       "2010-2011       15629       15629     15629      15629\n",
       "2011-2012       18117       18117     18117      18117\n",
       "2012-2013       19554       19554     19554      19554\n",
       "2013-2014       21208       21208     21208      21208\n",
       "2014-2015       22024       22024     22024      22024\n",
       "2015-2016       22163       22163     22163      22163\n",
       "2016-2017       23639       23639     23639      23639\n",
       "2017-2018       24621       24621     24621      24621\n",
       "2018-2019       25164       25164     25164      25164\n",
       "2019-2020       25503       25503     25503      25503"
      ]
     },
     "execution_count": 82,
     "metadata": {},
     "output_type": "execute_result"
    }
   ],
   "source": [
    "df_clean_enrollment.groupby('year').count()"
   ]
  },
  {
   "cell_type": "code",
   "execution_count": null,
   "metadata": {},
   "outputs": [],
   "source": [
    "df_clean_enrollment = "
   ]
  }
 ],
 "metadata": {
  "kernelspec": {
   "display_name": "Python 3",
   "language": "python",
   "name": "python3"
  },
  "language_info": {
   "codemirror_mode": {
    "name": "ipython",
    "version": 3
   },
   "file_extension": ".py",
   "mimetype": "text/x-python",
   "name": "python",
   "nbconvert_exporter": "python",
   "pygments_lexer": "ipython3",
   "version": "3.7.6"
  }
 },
 "nbformat": 4,
 "nbformat_minor": 4
}
